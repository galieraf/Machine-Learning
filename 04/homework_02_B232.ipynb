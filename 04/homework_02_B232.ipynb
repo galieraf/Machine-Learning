{
 "cells": [
  {
   "cell_type": "markdown",
   "metadata": {},
   "source": [
    "# Úkol č. 2 - Využití neuronových sítí\n",
    "\n",
    "  * **Deadline je 13. 5. 2024, 23:59:59**, pokud odevzdáte úkol do 20. 5. 2024, 23:59:59, budete penalizování -12 body, pozdější odevzdání je bez bodu.\n",
    "  * V rámci tohoto úkolu musíte sestrojit vhodný model neuronové sítě pro vícetřídou klasifikaci.\n",
    "  * Část bodů získáte za správné vypracování a část bodů získáte za výslednou přesnost Vašeho modelu na evaluačních datech.\n",
    "    \n",
    "> **Úkoly jsou zadány tak, aby Vám daly prostor pro invenci. Vymyslet _jak přesně_ budete úkol řešit, je důležitou součástí zadání a originalita či nápaditost bude také hodnocena!**\n",
    "\n",
    "Využívejte buňky typu `Markdown` k vysvětlování Vašeho postupu. Za nepřehlednost budou strhávány body.\n",
    "\n",
    "## Zdroj dat\n",
    "\n",
    " * Zdrojem dat jsou soubory `train.csv` a `evaluate.csv`.\n",
    " * Jedná se o obrázky 32x32 pixelů ve stupních šedi, které byly nějakým způsobem vyrobeny z [Fashion Mnist datasetu](https://www.kaggle.com/datasets/zalando-research/fashionmnist).\n",
    " * Soubor `train.csv` obsahuje trénovací data.\n",
    " * Cílová (vysvětlovaná) proměnná se jmenuje **label**.\n",
    " * Soubor `evaluate.csv` obsahuje testovací data bez hodnot skutečných labelů.\n",
    "\n",
    "## Pokyny k vypracování (max 18 bodů)\n",
    "\n",
    "**Body zadání**, za jejichž (poctivé) vypracování získáte **18 bodů**:\n",
    "  * V notebooku načtěte data ze souboru `train.csv`. Vhodným způsobem si je rozdělte na podmnožiny, které Vám poslouží pro trénování, porovnávání modelů a následnou predikci výkonnosti finálního modelu.\n",
    "  * Proveďte základní průzkum dat a svá pozorování diskutujte. Některé obrázky také zobrazte.\n",
    "  * Sestrojte a natrénujte několik variant modelu dopředné neuronové sítě. Přitom v rámci výpočetních možností:\n",
    "      * Okomentujte vhodnost daného modelu pro daný typ úlohy.\n",
    "      * Experimentujte s různými hloubkami a velikostmi vrstev.\n",
    "      * Experimentujte se standardizací/normalizací dat.\n",
    "      * Experimentujte s různými optimalizačními metodami.\n",
    "      * Experimentujte s různými regularizačními technikami.\n",
    "      * Získané výsledky vždy řádně okomentujte.\n",
    "\n",
    "  * Sestrojte model konvoluční neuronové sítě. Přitom v rámci výpočetních možností:\n",
    "      * Okomentujte vhodnost daného modelu pro daný typ úlohy.\n",
    "      * Experimentujte s různými hloubkami a velikostmi vrstev.\n",
    "      * Experimentujte se standardizací/normalizací dat.\n",
    "      * Experimentujte s různými optimalizačními metodami.\n",
    "      * Experimentujte s různými regularizačními technikami.\n",
    "      * Získané výsledky vždy řádně okomentujte.\n",
    "    \n",
    "  * Ze všech zkoušených možností vyberte finální model a odhadněte, jakou přesnost můžete očekávat na nových datech, která jste doposud neměli k dispozici.\n",
    "  \n",
    "  * Nakonec načtěte vyhodnocovací data ze souboru`evaluate.csv`. Pomocí finálního modelu napočítejte predikce pro tyto data (vysvětlovaná proměnná v nich již není). Vytvořte soubor `results.csv`, ve kterém získané predikce uložíte do sloupce **label** a identifikátory do sloupce **ID**. Tento soubor též odevzdejte (uložte do projektu vedle notebooku).\n",
    "   \n",
    "   * Ukázka prvních řádků souboru `results.csv`:\n",
    "  \n",
    "```\n",
    "ID,label\n",
    "0,0\n",
    "1,1\n",
    "...\n",
    "```\n",
    "\n",
    "## Vyhodnocovací část (max 7 bodů)\n",
    "Za přesnost (accuraccy) na odevzdaných predikcích pro vyhodnocovací množnu získáte dalších max **7 bodů**.\n",
    "\n",
    "Označíme-li $A$ přesnost, které jste dosáhli, zaokrouhlenou na 2 desetinná místa, akumulují se výsledné body podle následujících pravidel:\n",
    "* pokud $A \\geq 0.80$ obdržíte +1 bod\n",
    "* pokud $A \\geq 0.83$ obdržíte +1 bod\n",
    "* pokud $A \\geq 0.86$ obdržíte +1 bod\n",
    "* pokud $A \\geq 0.87$ obdržíte +1 bod\n",
    "* pokud $A \\geq 0.88$ obdržíte +1 bod\n",
    "* pokud $A \\geq 0.89$ obdržíte +1 bod\n",
    "* pokud $A \\geq 0.90$ obdržíte +1 bod\n",
    "\n",
    "**Příklad:** Pokud bude Vaše přesnost 0.856, vyjde A = 0.86 a vy získáte 3 body.\n",
    "\n",
    "\n",
    "## Poznámky k odevzdání\n",
    "\n",
    "  * Řiďte se pokyny ze stránky https://courses.fit.cvut.cz/BI-ML2/homeworks/index.html.\n",
    "  * Vytvořte i csv soubor `results.csv` s predikcemi a uložte ho v rámci projektu vedle ipython notebooku."
   ]
  },
  {
   "cell_type": "code",
   "execution_count": 1,
   "metadata": {
    "ExecuteTime": {
     "start_time": "2024-05-12T01:13:39.146118Z",
     "end_time": "2024-05-12T01:13:49.014632Z"
    }
   },
   "outputs": [],
   "source": [
    "import pandas as pd\n",
    "import numpy as np\n",
    "import matplotlib.pyplot as plt\n",
    "import torch\n",
    "import torch.nn as nn\n",
    "from tqdm import tqdm\n",
    "from torch.utils.data import DataLoader, TensorDataset, Dataset, RandomSampler\n",
    "from sklearn.model_selection import train_test_split\n",
    "from torchvision import transforms\n",
    "import random\n",
    "import torch.nn.functional as F\n",
    "from sklearn.metrics import confusion_matrix\n",
    "import itertools\n",
    "import torch.optim as optim\n",
    "import os\n",
    "from sklearn.metrics import accuracy_score"
   ]
  },
  {
   "cell_type": "code",
   "execution_count": 2,
   "outputs": [
    {
     "data": {
      "text/plain": "True"
     },
     "execution_count": 2,
     "metadata": {},
     "output_type": "execute_result"
    }
   ],
   "source": [
    "torch.cuda.is_available()"
   ],
   "metadata": {
    "collapsed": false,
    "ExecuteTime": {
     "start_time": "2024-05-12T01:13:49.037233Z",
     "end_time": "2024-05-12T01:13:49.091850Z"
    }
   }
  },
  {
   "cell_type": "code",
   "execution_count": 3,
   "outputs": [
    {
     "data": {
      "text/plain": "device(type='cuda')"
     },
     "execution_count": 3,
     "metadata": {},
     "output_type": "execute_result"
    }
   ],
   "source": [
    "# try to set device to GPU if CUDA is available, otherwise fallback to CPU\n",
    "device = torch.device(\"cuda\" if torch.cuda.is_available() else \"cpu\")\n",
    "device"
   ],
   "metadata": {
    "collapsed": false,
    "ExecuteTime": {
     "start_time": "2024-05-12T01:13:49.042873Z",
     "end_time": "2024-05-12T01:13:49.110535Z"
    }
   }
  },
  {
   "cell_type": "code",
   "execution_count": 4,
   "outputs": [
    {
     "data": {
      "text/plain": "device(type='cuda', index=0)"
     },
     "execution_count": 4,
     "metadata": {},
     "output_type": "execute_result"
    }
   ],
   "source": [
    "torch.set_default_device(device)\n",
    "torch.get_default_device()"
   ],
   "metadata": {
    "collapsed": false,
    "ExecuteTime": {
     "start_time": "2024-05-12T01:13:49.055772Z",
     "end_time": "2024-05-12T01:13:49.200716Z"
    }
   }
  },
  {
   "cell_type": "markdown",
   "source": [
    "Hooray!!!"
   ],
   "metadata": {
    "collapsed": false
   }
  },
  {
   "cell_type": "markdown",
   "source": [
    "# Data reading"
   ],
   "metadata": {
    "collapsed": false
   }
  },
  {
   "cell_type": "code",
   "execution_count": 5,
   "outputs": [],
   "source": [
    "data = pd.read_csv(\"train.csv\")"
   ],
   "metadata": {
    "collapsed": false,
    "ExecuteTime": {
     "start_time": "2024-05-12T01:13:49.156147Z",
     "end_time": "2024-05-12T01:13:53.173653Z"
    }
   }
  },
  {
   "cell_type": "code",
   "execution_count": 6,
   "outputs": [
    {
     "data": {
      "text/plain": "   pix1  pix2  pix3  pix4  pix5  pix6  pix7  pix8  pix9  pix10  ...  pix1016  \\\n0     0     0     0     0     0     0     0     0     0      0  ...        0   \n1     1     1     1     1     1     1     1     1     1      1  ...        1   \n2     1     1     1     1     1     1     1     1     1      1  ...        1   \n3     0     0     0     0     0     0     0     0     0      0  ...        0   \n4     1     1     1     1     1     1     1     1     1      1  ...        1   \n5     0     0     0     0     0     0     0     0     0      0  ...        0   \n6     0     0     0     0     0     0     0     0     0      0  ...        0   \n7     1     1     1     1     1     1     1     1     1      1  ...        1   \n8     0     0     0     0     0     0     0     0     0      0  ...        0   \n9     2     2     2     2     2     2     2     2     2      2  ...        2   \n\n   pix1017  pix1018  pix1019  pix1020  pix1021  pix1022  pix1023  pix1024  \\\n0        0        0        0        0        0        0        0        0   \n1        1        1        1        1        1        1        1        1   \n2        1        1        1        1        1        1        1        1   \n3        0        0        0        0        0        0        0        0   \n4        1        1        1        1        1        1        1        1   \n5        0        0        0        0        0        0        0        0   \n6        0        0        0        0        0        0        0        0   \n7        1        1        1        1        1        1        1        1   \n8        0        0        0        0        0        0        0        0   \n9        2        2        2        2        2        2        2        2   \n\n   label  \n0      3  \n1      3  \n2      7  \n3      9  \n4      5  \n5      5  \n6      9  \n7      1  \n8      3  \n9      6  \n\n[10 rows x 1025 columns]",
      "text/html": "<div>\n<style scoped>\n    .dataframe tbody tr th:only-of-type {\n        vertical-align: middle;\n    }\n\n    .dataframe tbody tr th {\n        vertical-align: top;\n    }\n\n    .dataframe thead th {\n        text-align: right;\n    }\n</style>\n<table border=\"1\" class=\"dataframe\">\n  <thead>\n    <tr style=\"text-align: right;\">\n      <th></th>\n      <th>pix1</th>\n      <th>pix2</th>\n      <th>pix3</th>\n      <th>pix4</th>\n      <th>pix5</th>\n      <th>pix6</th>\n      <th>pix7</th>\n      <th>pix8</th>\n      <th>pix9</th>\n      <th>pix10</th>\n      <th>...</th>\n      <th>pix1016</th>\n      <th>pix1017</th>\n      <th>pix1018</th>\n      <th>pix1019</th>\n      <th>pix1020</th>\n      <th>pix1021</th>\n      <th>pix1022</th>\n      <th>pix1023</th>\n      <th>pix1024</th>\n      <th>label</th>\n    </tr>\n  </thead>\n  <tbody>\n    <tr>\n      <th>0</th>\n      <td>0</td>\n      <td>0</td>\n      <td>0</td>\n      <td>0</td>\n      <td>0</td>\n      <td>0</td>\n      <td>0</td>\n      <td>0</td>\n      <td>0</td>\n      <td>0</td>\n      <td>...</td>\n      <td>0</td>\n      <td>0</td>\n      <td>0</td>\n      <td>0</td>\n      <td>0</td>\n      <td>0</td>\n      <td>0</td>\n      <td>0</td>\n      <td>0</td>\n      <td>3</td>\n    </tr>\n    <tr>\n      <th>1</th>\n      <td>1</td>\n      <td>1</td>\n      <td>1</td>\n      <td>1</td>\n      <td>1</td>\n      <td>1</td>\n      <td>1</td>\n      <td>1</td>\n      <td>1</td>\n      <td>1</td>\n      <td>...</td>\n      <td>1</td>\n      <td>1</td>\n      <td>1</td>\n      <td>1</td>\n      <td>1</td>\n      <td>1</td>\n      <td>1</td>\n      <td>1</td>\n      <td>1</td>\n      <td>3</td>\n    </tr>\n    <tr>\n      <th>2</th>\n      <td>1</td>\n      <td>1</td>\n      <td>1</td>\n      <td>1</td>\n      <td>1</td>\n      <td>1</td>\n      <td>1</td>\n      <td>1</td>\n      <td>1</td>\n      <td>1</td>\n      <td>...</td>\n      <td>1</td>\n      <td>1</td>\n      <td>1</td>\n      <td>1</td>\n      <td>1</td>\n      <td>1</td>\n      <td>1</td>\n      <td>1</td>\n      <td>1</td>\n      <td>7</td>\n    </tr>\n    <tr>\n      <th>3</th>\n      <td>0</td>\n      <td>0</td>\n      <td>0</td>\n      <td>0</td>\n      <td>0</td>\n      <td>0</td>\n      <td>0</td>\n      <td>0</td>\n      <td>0</td>\n      <td>0</td>\n      <td>...</td>\n      <td>0</td>\n      <td>0</td>\n      <td>0</td>\n      <td>0</td>\n      <td>0</td>\n      <td>0</td>\n      <td>0</td>\n      <td>0</td>\n      <td>0</td>\n      <td>9</td>\n    </tr>\n    <tr>\n      <th>4</th>\n      <td>1</td>\n      <td>1</td>\n      <td>1</td>\n      <td>1</td>\n      <td>1</td>\n      <td>1</td>\n      <td>1</td>\n      <td>1</td>\n      <td>1</td>\n      <td>1</td>\n      <td>...</td>\n      <td>1</td>\n      <td>1</td>\n      <td>1</td>\n      <td>1</td>\n      <td>1</td>\n      <td>1</td>\n      <td>1</td>\n      <td>1</td>\n      <td>1</td>\n      <td>5</td>\n    </tr>\n    <tr>\n      <th>5</th>\n      <td>0</td>\n      <td>0</td>\n      <td>0</td>\n      <td>0</td>\n      <td>0</td>\n      <td>0</td>\n      <td>0</td>\n      <td>0</td>\n      <td>0</td>\n      <td>0</td>\n      <td>...</td>\n      <td>0</td>\n      <td>0</td>\n      <td>0</td>\n      <td>0</td>\n      <td>0</td>\n      <td>0</td>\n      <td>0</td>\n      <td>0</td>\n      <td>0</td>\n      <td>5</td>\n    </tr>\n    <tr>\n      <th>6</th>\n      <td>0</td>\n      <td>0</td>\n      <td>0</td>\n      <td>0</td>\n      <td>0</td>\n      <td>0</td>\n      <td>0</td>\n      <td>0</td>\n      <td>0</td>\n      <td>0</td>\n      <td>...</td>\n      <td>0</td>\n      <td>0</td>\n      <td>0</td>\n      <td>0</td>\n      <td>0</td>\n      <td>0</td>\n      <td>0</td>\n      <td>0</td>\n      <td>0</td>\n      <td>9</td>\n    </tr>\n    <tr>\n      <th>7</th>\n      <td>1</td>\n      <td>1</td>\n      <td>1</td>\n      <td>1</td>\n      <td>1</td>\n      <td>1</td>\n      <td>1</td>\n      <td>1</td>\n      <td>1</td>\n      <td>1</td>\n      <td>...</td>\n      <td>1</td>\n      <td>1</td>\n      <td>1</td>\n      <td>1</td>\n      <td>1</td>\n      <td>1</td>\n      <td>1</td>\n      <td>1</td>\n      <td>1</td>\n      <td>1</td>\n    </tr>\n    <tr>\n      <th>8</th>\n      <td>0</td>\n      <td>0</td>\n      <td>0</td>\n      <td>0</td>\n      <td>0</td>\n      <td>0</td>\n      <td>0</td>\n      <td>0</td>\n      <td>0</td>\n      <td>0</td>\n      <td>...</td>\n      <td>0</td>\n      <td>0</td>\n      <td>0</td>\n      <td>0</td>\n      <td>0</td>\n      <td>0</td>\n      <td>0</td>\n      <td>0</td>\n      <td>0</td>\n      <td>3</td>\n    </tr>\n    <tr>\n      <th>9</th>\n      <td>2</td>\n      <td>2</td>\n      <td>2</td>\n      <td>2</td>\n      <td>2</td>\n      <td>2</td>\n      <td>2</td>\n      <td>2</td>\n      <td>2</td>\n      <td>2</td>\n      <td>...</td>\n      <td>2</td>\n      <td>2</td>\n      <td>2</td>\n      <td>2</td>\n      <td>2</td>\n      <td>2</td>\n      <td>2</td>\n      <td>2</td>\n      <td>2</td>\n      <td>6</td>\n    </tr>\n  </tbody>\n</table>\n<p>10 rows × 1025 columns</p>\n</div>"
     },
     "execution_count": 6,
     "metadata": {},
     "output_type": "execute_result"
    }
   ],
   "source": [
    "data.head(10)"
   ],
   "metadata": {
    "collapsed": false,
    "ExecuteTime": {
     "start_time": "2024-05-12T01:13:53.177093Z",
     "end_time": "2024-05-12T01:13:53.194885Z"
    }
   }
  },
  {
   "cell_type": "code",
   "execution_count": 7,
   "outputs": [
    {
     "name": "stdout",
     "output_type": "stream",
     "text": [
      "<class 'pandas.core.frame.DataFrame'>\n",
      "RangeIndex: 52500 entries, 0 to 52499\n",
      "Columns: 1025 entries, pix1 to label\n",
      "dtypes: int64(1025)\n",
      "memory usage: 410.6 MB\n"
     ]
    }
   ],
   "source": [
    "data.info()"
   ],
   "metadata": {
    "collapsed": false,
    "ExecuteTime": {
     "start_time": "2024-05-12T01:13:53.190585Z",
     "end_time": "2024-05-12T01:13:53.370185Z"
    }
   }
  },
  {
   "cell_type": "code",
   "execution_count": 8,
   "outputs": [
    {
     "data": {
      "text/plain": "(52500, 1025)"
     },
     "metadata": {},
     "output_type": "display_data"
    }
   ],
   "source": [
    "display(data.shape)"
   ],
   "metadata": {
    "collapsed": false,
    "ExecuteTime": {
     "start_time": "2024-05-12T01:13:53.270878Z",
     "end_time": "2024-05-12T01:13:53.371057Z"
    }
   }
  },
  {
   "cell_type": "code",
   "execution_count": 9,
   "outputs": [
    {
     "data": {
      "text/plain": "               pix1          pix2          pix3          pix4          pix5  \\\ncount  52500.000000  52500.000000  52500.000000  52500.000000  52500.000000   \nmean       0.877390      0.877390      0.877390      0.877390      0.877410   \nstd        1.493605      1.493605      1.493605      1.493605      1.493601   \nmin        0.000000      0.000000      0.000000      0.000000      0.000000   \n25%        0.000000      0.000000      0.000000      0.000000      0.000000   \n50%        0.000000      0.000000      0.000000      0.000000      0.000000   \n75%        1.000000      1.000000      1.000000      1.000000      1.000000   \nmax       11.000000     11.000000     11.000000     11.000000     11.000000   \n\n               pix6          pix7          pix8          pix9         pix10  \\\ncount  52500.000000  52500.000000  52500.000000  52500.000000  52500.000000   \nmean       0.877429      0.877429      0.877543      0.878038      0.880648   \nstd        1.493596      1.493596      1.493682      1.494258      1.528912   \nmin        0.000000      0.000000      0.000000      0.000000      0.000000   \n25%        0.000000      0.000000      0.000000      0.000000      0.000000   \n50%        0.000000      0.000000      0.000000      0.000000      0.000000   \n75%        1.000000      1.000000      1.000000      1.000000      1.000000   \nmax       11.000000     11.000000     11.000000     11.000000     73.000000   \n\n       ...       pix1016       pix1017       pix1018       pix1019  \\\ncount  ...  52500.000000  52500.000000  52500.000000  52500.000000   \nmean   ...      0.929867      0.909143      0.893524      0.883505   \nstd    ...      2.835341      2.224631      1.794160      1.615415   \nmin    ...      0.000000      0.000000      0.000000      0.000000   \n25%    ...      0.000000      0.000000      0.000000      0.000000   \n50%    ...      0.000000      0.000000      0.000000      0.000000   \n75%    ...      1.000000      1.000000      1.000000      1.000000   \nmax    ...    187.000000    172.000000    134.000000    116.000000   \n\n            pix1020       pix1021       pix1022       pix1023       pix1024  \\\ncount  52500.000000  52500.000000  52500.000000  52500.000000  52500.000000   \nmean       0.878952      0.877467      0.877410      0.877390      0.877390   \nstd        1.505722      1.493854      1.493677      1.493605      1.493605   \nmin        0.000000      0.000000      0.000000      0.000000      0.000000   \n25%        0.000000      0.000000      0.000000      0.000000      0.000000   \n50%        0.000000      0.000000      0.000000      0.000000      0.000000   \n75%        1.000000      1.000000      1.000000      1.000000      1.000000   \nmax       41.000000     11.000000     11.000000     11.000000     11.000000   \n\n              label  \ncount  52500.000000  \nmean       4.509752  \nstd        2.872106  \nmin        0.000000  \n25%        2.000000  \n50%        5.000000  \n75%        7.000000  \nmax        9.000000  \n\n[8 rows x 1025 columns]",
      "text/html": "<div>\n<style scoped>\n    .dataframe tbody tr th:only-of-type {\n        vertical-align: middle;\n    }\n\n    .dataframe tbody tr th {\n        vertical-align: top;\n    }\n\n    .dataframe thead th {\n        text-align: right;\n    }\n</style>\n<table border=\"1\" class=\"dataframe\">\n  <thead>\n    <tr style=\"text-align: right;\">\n      <th></th>\n      <th>pix1</th>\n      <th>pix2</th>\n      <th>pix3</th>\n      <th>pix4</th>\n      <th>pix5</th>\n      <th>pix6</th>\n      <th>pix7</th>\n      <th>pix8</th>\n      <th>pix9</th>\n      <th>pix10</th>\n      <th>...</th>\n      <th>pix1016</th>\n      <th>pix1017</th>\n      <th>pix1018</th>\n      <th>pix1019</th>\n      <th>pix1020</th>\n      <th>pix1021</th>\n      <th>pix1022</th>\n      <th>pix1023</th>\n      <th>pix1024</th>\n      <th>label</th>\n    </tr>\n  </thead>\n  <tbody>\n    <tr>\n      <th>count</th>\n      <td>52500.000000</td>\n      <td>52500.000000</td>\n      <td>52500.000000</td>\n      <td>52500.000000</td>\n      <td>52500.000000</td>\n      <td>52500.000000</td>\n      <td>52500.000000</td>\n      <td>52500.000000</td>\n      <td>52500.000000</td>\n      <td>52500.000000</td>\n      <td>...</td>\n      <td>52500.000000</td>\n      <td>52500.000000</td>\n      <td>52500.000000</td>\n      <td>52500.000000</td>\n      <td>52500.000000</td>\n      <td>52500.000000</td>\n      <td>52500.000000</td>\n      <td>52500.000000</td>\n      <td>52500.000000</td>\n      <td>52500.000000</td>\n    </tr>\n    <tr>\n      <th>mean</th>\n      <td>0.877390</td>\n      <td>0.877390</td>\n      <td>0.877390</td>\n      <td>0.877390</td>\n      <td>0.877410</td>\n      <td>0.877429</td>\n      <td>0.877429</td>\n      <td>0.877543</td>\n      <td>0.878038</td>\n      <td>0.880648</td>\n      <td>...</td>\n      <td>0.929867</td>\n      <td>0.909143</td>\n      <td>0.893524</td>\n      <td>0.883505</td>\n      <td>0.878952</td>\n      <td>0.877467</td>\n      <td>0.877410</td>\n      <td>0.877390</td>\n      <td>0.877390</td>\n      <td>4.509752</td>\n    </tr>\n    <tr>\n      <th>std</th>\n      <td>1.493605</td>\n      <td>1.493605</td>\n      <td>1.493605</td>\n      <td>1.493605</td>\n      <td>1.493601</td>\n      <td>1.493596</td>\n      <td>1.493596</td>\n      <td>1.493682</td>\n      <td>1.494258</td>\n      <td>1.528912</td>\n      <td>...</td>\n      <td>2.835341</td>\n      <td>2.224631</td>\n      <td>1.794160</td>\n      <td>1.615415</td>\n      <td>1.505722</td>\n      <td>1.493854</td>\n      <td>1.493677</td>\n      <td>1.493605</td>\n      <td>1.493605</td>\n      <td>2.872106</td>\n    </tr>\n    <tr>\n      <th>min</th>\n      <td>0.000000</td>\n      <td>0.000000</td>\n      <td>0.000000</td>\n      <td>0.000000</td>\n      <td>0.000000</td>\n      <td>0.000000</td>\n      <td>0.000000</td>\n      <td>0.000000</td>\n      <td>0.000000</td>\n      <td>0.000000</td>\n      <td>...</td>\n      <td>0.000000</td>\n      <td>0.000000</td>\n      <td>0.000000</td>\n      <td>0.000000</td>\n      <td>0.000000</td>\n      <td>0.000000</td>\n      <td>0.000000</td>\n      <td>0.000000</td>\n      <td>0.000000</td>\n      <td>0.000000</td>\n    </tr>\n    <tr>\n      <th>25%</th>\n      <td>0.000000</td>\n      <td>0.000000</td>\n      <td>0.000000</td>\n      <td>0.000000</td>\n      <td>0.000000</td>\n      <td>0.000000</td>\n      <td>0.000000</td>\n      <td>0.000000</td>\n      <td>0.000000</td>\n      <td>0.000000</td>\n      <td>...</td>\n      <td>0.000000</td>\n      <td>0.000000</td>\n      <td>0.000000</td>\n      <td>0.000000</td>\n      <td>0.000000</td>\n      <td>0.000000</td>\n      <td>0.000000</td>\n      <td>0.000000</td>\n      <td>0.000000</td>\n      <td>2.000000</td>\n    </tr>\n    <tr>\n      <th>50%</th>\n      <td>0.000000</td>\n      <td>0.000000</td>\n      <td>0.000000</td>\n      <td>0.000000</td>\n      <td>0.000000</td>\n      <td>0.000000</td>\n      <td>0.000000</td>\n      <td>0.000000</td>\n      <td>0.000000</td>\n      <td>0.000000</td>\n      <td>...</td>\n      <td>0.000000</td>\n      <td>0.000000</td>\n      <td>0.000000</td>\n      <td>0.000000</td>\n      <td>0.000000</td>\n      <td>0.000000</td>\n      <td>0.000000</td>\n      <td>0.000000</td>\n      <td>0.000000</td>\n      <td>5.000000</td>\n    </tr>\n    <tr>\n      <th>75%</th>\n      <td>1.000000</td>\n      <td>1.000000</td>\n      <td>1.000000</td>\n      <td>1.000000</td>\n      <td>1.000000</td>\n      <td>1.000000</td>\n      <td>1.000000</td>\n      <td>1.000000</td>\n      <td>1.000000</td>\n      <td>1.000000</td>\n      <td>...</td>\n      <td>1.000000</td>\n      <td>1.000000</td>\n      <td>1.000000</td>\n      <td>1.000000</td>\n      <td>1.000000</td>\n      <td>1.000000</td>\n      <td>1.000000</td>\n      <td>1.000000</td>\n      <td>1.000000</td>\n      <td>7.000000</td>\n    </tr>\n    <tr>\n      <th>max</th>\n      <td>11.000000</td>\n      <td>11.000000</td>\n      <td>11.000000</td>\n      <td>11.000000</td>\n      <td>11.000000</td>\n      <td>11.000000</td>\n      <td>11.000000</td>\n      <td>11.000000</td>\n      <td>11.000000</td>\n      <td>73.000000</td>\n      <td>...</td>\n      <td>187.000000</td>\n      <td>172.000000</td>\n      <td>134.000000</td>\n      <td>116.000000</td>\n      <td>41.000000</td>\n      <td>11.000000</td>\n      <td>11.000000</td>\n      <td>11.000000</td>\n      <td>11.000000</td>\n      <td>9.000000</td>\n    </tr>\n  </tbody>\n</table>\n<p>8 rows × 1025 columns</p>\n</div>"
     },
     "execution_count": 9,
     "metadata": {},
     "output_type": "execute_result"
    }
   ],
   "source": [
    "data.describe()"
   ],
   "metadata": {
    "collapsed": false,
    "ExecuteTime": {
     "start_time": "2024-05-12T01:13:53.275557Z",
     "end_time": "2024-05-12T01:13:56.469250Z"
    }
   }
  },
  {
   "cell_type": "code",
   "execution_count": 10,
   "outputs": [
    {
     "data": {
      "text/plain": "0"
     },
     "execution_count": 10,
     "metadata": {},
     "output_type": "execute_result"
    }
   ],
   "source": [
    "data.isnull().sum(axis=0).sum()"
   ],
   "metadata": {
    "collapsed": false,
    "ExecuteTime": {
     "start_time": "2024-05-12T01:13:56.467423Z",
     "end_time": "2024-05-12T01:13:56.646933Z"
    }
   }
  },
  {
   "cell_type": "code",
   "execution_count": 11,
   "outputs": [
    {
     "data": {
      "text/plain": "pix1       12\npix2       12\npix3       12\npix4       12\npix5       12\n           ..\npix1021    12\npix1022    12\npix1023    12\npix1024    12\nlabel      10\nLength: 1025, dtype: int64"
     },
     "metadata": {},
     "output_type": "display_data"
    }
   ],
   "source": [
    "display(data.nunique())"
   ],
   "metadata": {
    "collapsed": false,
    "ExecuteTime": {
     "start_time": "2024-05-12T01:13:56.505242Z",
     "end_time": "2024-05-12T01:13:56.909589Z"
    }
   }
  },
  {
   "cell_type": "markdown",
   "source": [
    "- As stated in the description, and it can be seen that we have data that represents 32*32 pixel grayscale images, where pixel represents a value in from 0 to 255. The target variable is \"label\", we have 52500 data samples of 10 classes, no null values. As in the previous task, the pixels on the edges have almost always a low, near-zero value.\n",
    "\n",
    "I'll  show some pictures."
   ],
   "metadata": {
    "collapsed": false
   }
  },
  {
   "cell_type": "code",
   "execution_count": 12,
   "outputs": [],
   "source": [
    "X = data.iloc[:, :1024].values  # pixel data\n",
    "labels = data['label'].values   # labels"
   ],
   "metadata": {
    "collapsed": false,
    "ExecuteTime": {
     "start_time": "2024-05-12T01:13:56.913090Z",
     "end_time": "2024-05-12T01:13:56.964642Z"
    }
   }
  },
  {
   "cell_type": "code",
   "execution_count": 14,
   "outputs": [
    {
     "data": {
      "text/plain": "<Figure size 2000x2000 with 36 Axes>",
      "image/png": "[encoded data removed]"
     },
     "metadata": {},
     "output_type": "display_data"
    }
   ],
   "source": [
    "figure = plt.figure(figsize=(20, 20))\n",
    "cols, rows = 6, 6\n",
    "for i in range(cols * rows):\n",
    "    img = X[i].reshape(32, 32)  # row into 32x32 image\n",
    "    label = labels[i]\n",
    "    figure.add_subplot(rows, cols, i+1)\n",
    "    plt.title(f\"{label}\")\n",
    "    plt.axis(\"off\")\n",
    "    plt.imshow(img, cmap=\"gray\")\n",
    "plt.show()"
   ],
   "metadata": {
    "collapsed": false,
    "ExecuteTime": {
     "start_time": "2024-05-12T01:14:14.775601Z",
     "end_time": "2024-05-12T01:14:16.102692Z"
    }
   }
  },
  {
   "cell_type": "markdown",
   "source": [
    "- I noticed that we have 3 classes representing different types of shoes, and the shoes can be rotated either right or left"
   ],
   "metadata": {
    "collapsed": false
   }
  },
  {
   "cell_type": "markdown",
   "source": [
    "# Prepare and split data"
   ],
   "metadata": {
    "collapsed": false
   }
  },
  {
   "cell_type": "code",
   "execution_count": 23,
   "outputs": [
    {
     "name": "stdout",
     "output_type": "stream",
     "text": [
      "Generator device: cuda\n"
     ]
    }
   ],
   "source": [
    "device = torch.device(\"cuda\" if torch.cuda.is_available() else \"cpu\")\n",
    "generator = torch.Generator(device=device)\n",
    "print(\"Generator device:\", generator.device)"
   ],
   "metadata": {
    "collapsed": false,
    "ExecuteTime": {
     "start_time": "2024-05-11T12:54:20.023764Z",
     "end_time": "2024-05-11T12:54:20.170509Z"
    }
   }
  },
  {
   "cell_type": "code",
   "execution_count": 24,
   "outputs": [],
   "source": [
    "class AddGaussianNoise(object):\n",
    "    \"\"\"Adds Gaussian noise to the tensor.\n",
    "\n",
    "    This class is designed for data augmentation by adding Gaussian noise\n",
    "    to tensors. The noise is generated with a given mean and standard deviation.\n",
    "    It is used to create robustness of deep learning models to random noise in the data.\n",
    "\n",
    "    Args:\n",
    "        mean (float): The mean of the Gaussian noise distribution.\n",
    "        std (float): The standard deviation of the Gaussian noise distribution.\n",
    "    \"\"\"\n",
    "    def __init__(self, mean=0., std=1.):\n",
    "        self.mean = mean\n",
    "        self.std = std\n",
    "\n",
    "    def __call__(self, tensor):\n",
    "        noise = torch.randn(tensor.size(), device=tensor.device) * self.std + self.mean\n",
    "        return tensor + noise\n",
    "\n",
    "\n",
    "    def __repr__(self):\n",
    "        return self.__class__.__name__ + '(mean={0}, std={1})'.format(self.mean, self.std)"
   ],
   "metadata": {
    "collapsed": false,
    "ExecuteTime": {
     "start_time": "2024-05-11T12:54:20.574756Z",
     "end_time": "2024-05-11T12:54:20.756942Z"
    }
   }
  },
  {
   "cell_type": "code",
   "execution_count": 25,
   "outputs": [],
   "source": [
    "# Define transforms\n",
    "transform_norm = transforms.Compose([\n",
    "    transforms.ToTensor(), # convert to a tensor\n",
    "    AddGaussianNoise(0., 0.05), # add Gaussian noise with 0 mean and standard deviation 0.05\n",
    "    transforms.RandomHorizontalFlip(), # horizontal mirroring with 50% probability\n",
    "])\n",
    "\n",
    "transform_reg = transforms.Compose([\n",
    "    transforms.ToTensor(), # convert to a tensor\n",
    "    AddGaussianNoise(0., 12.75), # add Gaussian noise with 0 mean and standard deviation 12.75 (0.05 * 255)\n",
    "    transforms.RandomHorizontalFlip(), # horizontal mirroring with 50% probability\n",
    "])\n",
    "\n",
    "basic_transform = transforms.Compose([\n",
    "    transforms.ToTensor(),  # convert to a tensor\n",
    "    transforms.Lambda(lambda x: x.float())\n",
    "])"
   ],
   "metadata": {
    "collapsed": false,
    "ExecuteTime": {
     "start_time": "2024-05-11T12:54:21.423511Z",
     "end_time": "2024-05-11T12:54:21.438501Z"
    }
   }
  },
  {
   "cell_type": "code",
   "execution_count": 26,
   "outputs": [],
   "source": [
    "class CustomDataset(Dataset):\n",
    "    \"\"\"My customisable dataset in PyTorch.\n",
    "\n",
    "    This class provides a mechanism to load data and associated labels,\n",
    "    and to apply certain transformations to the data before using it.\n",
    "    It inherits from PyTorch's Dataset class and overrides the __len__ and __getitem__ methods.\n",
    "\n",
    "    Args:\n",
    "        data (array-like): An array of data where each element is a single pattern.\n",
    "        labels (array-like): An array of labels corresponding to the data.\n",
    "        transform (callable, optional): The transformation function to be applied to each data item.\n",
    "    \"\"\"\n",
    "\n",
    "    def __init__(self, data, labels, transform=None):\n",
    "        self.data = data\n",
    "        self.labels = labels\n",
    "        self.transform = transform\n",
    "\n",
    "    def __len__(self):\n",
    "        return len(self.data)\n",
    "\n",
    "    def __getitem__(self, idx):\n",
    "        x = self.data[idx]\n",
    "        y = self.labels[idx]\n",
    "\n",
    "        x = x.reshape((32, 32))\n",
    "\n",
    "        if self.transform:\n",
    "            x = self.transform(x)\n",
    "\n",
    "        return x, y"
   ],
   "metadata": {
    "collapsed": false,
    "ExecuteTime": {
     "start_time": "2024-05-11T12:54:22.027099Z",
     "end_time": "2024-05-11T12:54:22.097641Z"
    }
   }
  },
  {
   "cell_type": "markdown",
   "source": [
    "- I decided to use a custom dataset and a set of transformations to train the model. This was done in order to improve the generalisation ability of the model and to adapt to the variability of data. Gaussian noise was chosen as a way to increase the robustness of the model to random distortion, and horizontal mirroring allows the model to efficiently handle objects whose orientation may vary. A custom dataset allows these augmentations to be integrated directly into the training process. I used the material in this article as a basis - https://pytorch.org/tutorials/beginner/data_loading_tutorial.html#transforms"
   ],
   "metadata": {
    "collapsed": false
   }
  },
  {
   "cell_type": "code",
   "execution_count": 27,
   "outputs": [],
   "source": [
    "# split the data into training, validation and test samples\n",
    "X_train, X_temp, y_train, y_temp = train_test_split(X, labels, test_size=0.3, random_state=367) # 70% training, 30% temp\n",
    "X_val, X_test, y_val, y_test = train_test_split(X_temp, y_temp, test_size=0.5, random_state=367) # split temp into 50% validation and 50% test"
   ],
   "metadata": {
    "collapsed": false,
    "ExecuteTime": {
     "start_time": "2024-05-11T12:54:23.163131Z",
     "end_time": "2024-05-11T12:54:23.771345Z"
    }
   }
  },
  {
   "cell_type": "markdown",
   "source": [
    "- This results in 70% of the data for training, 15% for validation, and 15% for testing."
   ],
   "metadata": {
    "collapsed": false
   }
  },
  {
   "cell_type": "code",
   "execution_count": 28,
   "outputs": [],
   "source": [
    "# Normalisation\n",
    "X_train_norm = X_train / 255.0\n",
    "X_val_norm = X_val / 255.0\n",
    "X_test_norm = X_test / 255.0"
   ],
   "metadata": {
    "collapsed": false,
    "ExecuteTime": {
     "start_time": "2024-05-11T12:54:24.554866Z",
     "end_time": "2024-05-11T12:54:24.721663Z"
    }
   }
  },
  {
   "cell_type": "code",
   "execution_count": 29,
   "outputs": [],
   "source": [
    "train_dataset = CustomDataset(X_train, y_train, transform=transform_reg)\n",
    "val_dataset = CustomDataset(X_val, y_val, transform=basic_transform) # no augmentation for validate and test data\n",
    "test_dataset = CustomDataset(X_test, y_test, transform=basic_transform)\n",
    "\n",
    "train_norm_dataset = CustomDataset(X_train, y_train, transform=transform_norm)\n",
    "val_norm_dataset = CustomDataset(X_val, y_val, transform=basic_transform)\n",
    "test_norm_dataset = CustomDataset(X_test, y_test, transform=basic_transform)"
   ],
   "metadata": {
    "collapsed": false,
    "ExecuteTime": {
     "start_time": "2024-05-11T12:54:25.121971Z",
     "end_time": "2024-05-11T12:54:25.188779Z"
    }
   }
  },
  {
   "cell_type": "code",
   "execution_count": 30,
   "outputs": [],
   "source": [
    "# create DataLoaders\n",
    "\n",
    "sampler_reg = RandomSampler(train_dataset, generator=generator)\n",
    "sampler_norm = RandomSampler(train_norm_dataset, generator=generator)\n",
    "# reg data\n",
    "train_loader = DataLoader(train_dataset, batch_size=64, shuffle=False, sampler = sampler_reg)  # otherwise there was an error that the random number generator was on the CPU\n",
    "val_loader = DataLoader(val_dataset, batch_size=64, shuffle=False)\n",
    "test_loader = DataLoader(test_dataset, batch_size=64, shuffle=False)\n",
    "\n",
    "# normalised data\n",
    "train_norm_loader = DataLoader(train_norm_dataset, batch_size=64, shuffle=False, sampler=sampler_norm)\n",
    "val_norm_loader = DataLoader(val_norm_dataset, batch_size=64, shuffle=False)\n",
    "test_norm_loader = DataLoader(test_norm_dataset, batch_size=64, shuffle=False)"
   ],
   "metadata": {
    "collapsed": false,
    "ExecuteTime": {
     "start_time": "2024-05-11T12:54:25.584499Z",
     "end_time": "2024-05-11T12:54:25.674564Z"
    }
   }
  },
  {
   "cell_type": "markdown",
   "source": [
    "# Feedforward Neural Network"
   ],
   "metadata": {
    "collapsed": false
   }
  },
  {
   "cell_type": "markdown",
   "source": [
    "- First, I'll try to implement a feed-forward neural network - a multi-layer preceptron model. This model is good with simple implementation in PyTorch and can achieve good results in computer vision tasks, but it does not always catch complex patterns in data, ignores spatial relationship between pixels (all data is translated into a one-dimensional array)."
   ],
   "metadata": {
    "collapsed": false
   }
  },
  {
   "cell_type": "code",
   "execution_count": 22,
   "outputs": [],
   "source": [
    "class DynamicMLP(nn.Module):\n",
    "    \"\"\"\n",
    "    Multilayer perceptron (MLP) with dynamic layer configuration and optional Dropout regularisation.\n",
    "\n",
    "    This class allows the creation of MLPs with an arbitrary number of layers and neurons, and with the ability to\n",
    "    adding Dropout between layers to prevent overtraining.\n",
    "\n",
    "    Args:\n",
    "        layers (list): A list containing the number of neurons in each layer. The length of the list determines\n",
    "                       the number of layers; the list values are the number of neurons in each corresponding layer.\n",
    "        dropout_rate (float, optional): The probability of neurons in Dropout layers being switched off.\n",
    "                                        The default is 0, which means no Dropout.\n",
    "    \"\"\"\n",
    "    def __init__(self, layers, dropout_rate=0):\n",
    "        super(DynamicMLP, self).__init__()\n",
    "        self.layers = nn.ModuleList()\n",
    "        self.dropout_rate = dropout_rate\n",
    "\n",
    "        for i in range(len(layers) - 1):\n",
    "            self.layers.append(nn.Linear(layers[i], layers[i + 1]))\n",
    "            if i < len(layers) - 2:  # no activation function after last layer\n",
    "                self.layers.append(nn.ReLU())\n",
    "                if self.dropout_rate != 0:\n",
    "                    self.layers.append(nn.Dropout(self.dropout_rate))\n",
    "\n",
    "    def forward(self, x):\n",
    "        x = x.flatten(start_dim = 1)\n",
    "        for layer in self.layers:\n",
    "            x = layer(x)\n",
    "        return x"
   ],
   "metadata": {
    "collapsed": false,
    "ExecuteTime": {
     "start_time": "2024-05-10T17:20:26.521414Z",
     "end_time": "2024-05-10T17:20:26.574918Z"
    }
   }
  },
  {
   "cell_type": "code",
   "execution_count": 114,
   "outputs": [],
   "source": [
    "def reset_to_initial_state(m):\n",
    "    \"\"\"Reinitialize weights if the layer has 'reset_parameters' method.\"\"\"\n",
    "    if hasattr(m, 'reset_parameters'):\n",
    "        print(f\"Resetting parameters of layer {type(m)}\")\n",
    "        m.reset_parameters()\n",
    "    else:\n",
    "        print(f\"No reset_parameters method available for layer {type(m)}\")\n"
   ],
   "metadata": {
    "collapsed": false,
    "ExecuteTime": {
     "start_time": "2024-05-10T19:26:36.319244Z",
     "end_time": "2024-05-10T19:26:36.362840Z"
    }
   }
  },
  {
   "cell_type": "code",
   "execution_count": 24,
   "outputs": [],
   "source": [
    "def l1_regularization(model, loss, lambda_term):\n",
    "    \"\"\"adds L1 regularization\"\"\"\n",
    "    l1_norm = sum(p.abs().sum() for p in model.parameters())\n",
    "    loss = loss + lambda_term * l1_norm\n",
    "    return loss"
   ],
   "metadata": {
    "collapsed": false,
    "ExecuteTime": {
     "start_time": "2024-05-10T17:20:26.584020Z",
     "end_time": "2024-05-10T17:20:26.625852Z"
    }
   }
  },
  {
   "cell_type": "code",
   "execution_count": 81,
   "outputs": [],
   "source": [
    "# code in this cell was taken from cviceni 10 notebook\n",
    "def train_one_epoch(model, loss_fn, optimizer, training_loader, lreg = False):\n",
    "    running_cum_loss = 0.\n",
    "    # Here, we use enumerate(training_loader) instead of\n",
    "    # iter(training_loader) so that we can track the batch\n",
    "    # index and do some intra-epoch reporting\n",
    "    for data in iter(training_loader):\n",
    "        # Every data instance is an input + label pair\n",
    "        inputs, labels = data\n",
    "        inputs, labels = inputs.to(device), labels.to(device)\n",
    "\n",
    "        # Zero your gradients for every batch!\n",
    "        optimizer.zero_grad()\n",
    "\n",
    "        # Make predictions for this batch\n",
    "        outputs = model(inputs)\n",
    "\n",
    "        # Compute the loss and its gradients\n",
    "        loss = loss_fn(outputs, labels)\n",
    "        if lreg:\n",
    "            loss = l1_regularization(model, loss, 0.0001)\n",
    "\n",
    "        # Backpropagation\n",
    "        loss.backward()\n",
    "\n",
    "        # Adjust learning weights\n",
    "        optimizer.step()\n",
    "\n",
    "        # Gather data and report\n",
    "        last_mean_loss = loss.item()\n",
    "        running_cum_loss += last_mean_loss * inputs.shape[0]\n",
    "\n",
    "    # Return of the average over the whole training set\n",
    "    return running_cum_loss / len(training_loader.dataset)"
   ],
   "metadata": {
    "collapsed": false,
    "ExecuteTime": {
     "start_time": "2024-05-11T14:06:10.070764Z",
     "end_time": "2024-05-11T14:06:10.129780Z"
    }
   }
  },
  {
   "cell_type": "code",
   "execution_count": 88,
   "outputs": [],
   "source": [
    "# Code in this cell was taken from cvičeni 10 notebook\n",
    "# Maximum number of training epochs\n",
    "MAX_EPOCHS = 30\n",
    "# Number of epochs when we are willing to accept that there will be no improvement. Otherwise, we stop learning.\n",
    "K_EPOCHS = 7\n",
    "\n",
    "def train_n_epochs(model, loss_fn, optimizer, training_loader, validate_loader, save_path, regularization=False):\n",
    "    epochs_list = []\n",
    "    train_loss = []\n",
    "    validation_loss = []\n",
    "    best_vloss = 1000000.\n",
    "    epochs_from_best = 0\n",
    "\n",
    "    for epoch in range(MAX_EPOCHS):\n",
    "        # print('EPOCH {}:'.format(epoch + 1))\n",
    "\n",
    "        model.train()\n",
    "        # One training step\n",
    "        avg_loss = train_one_epoch(model, loss_fn, optimizer, training_loader, regularization)\n",
    "\n",
    "        model.eval()\n",
    "        # Validation performance\n",
    "        running_cum_vloss = 0.0\n",
    "        vcorrect = 0\n",
    "        for i, vdata in enumerate(validate_loader):\n",
    "            vinputs, vlabels = vdata\n",
    "            vinputs, vlabels = vinputs.to(device), vlabels.to(device)\n",
    "            with torch.no_grad():\n",
    "                voutputs = model(vinputs)\n",
    "                vloss = loss_fn(voutputs, vlabels)\n",
    "            running_cum_vloss += vloss * vinputs.shape[0]\n",
    "            # count the correctly classified samples\n",
    "            vcorrect += (voutputs.argmax(1) == vlabels).float().sum()\n",
    "        # Get average loss and accuraccy on valid data\n",
    "        avg_vloss = running_cum_vloss / len(validate_loader.dataset)\n",
    "        vacc = vcorrect / len(validate_loader.dataset)\n",
    "\n",
    "        # collect values\n",
    "        epochs_list.append(epoch)\n",
    "        validation_loss.append(avg_vloss)\n",
    "        train_loss.append(avg_loss)\n",
    "\n",
    "        # print(f\"TRAIN loss: {avg_loss:.3f}, VALIDATION loss: {avg_vloss:.3f}, accuraccy: {vacc:.3f}\")\n",
    "\n",
    "        # Track the best performance, and save the model's state\n",
    "        if avg_vloss < best_vloss:\n",
    "            # print(\"Saving best model\")\n",
    "            best_vloss = avg_vloss\n",
    "            if not os.path.exists(os.path.dirname(save_path)):\n",
    "                os.makedirs(os.path.dirname(save_path))\n",
    "            torch.save(model.state_dict(), save_path)\n",
    "            epochs_from_best = 0\n",
    "        else:\n",
    "            # print(\"No improvement in this epoch.\")\n",
    "            epochs_from_best += 1\n",
    "\n",
    "        # EARLY STOPPING\n",
    "        if epochs_from_best > K_EPOCHS:\n",
    "            # print(\"Early stopping now\")\n",
    "            break\n",
    "\n",
    "    return best_vloss\n"
   ],
   "metadata": {
    "collapsed": false,
    "ExecuteTime": {
     "start_time": "2024-05-06T09:09:46.339275Z",
     "end_time": "2024-05-06T09:09:46.350608Z"
    }
   }
  },
  {
   "cell_type": "markdown",
   "source": [
    "- I use an early stop to detect overtraining and stop calculations."
   ],
   "metadata": {
    "collapsed": false
   }
  },
  {
   "cell_type": "markdown",
   "source": [
    "## Tuning MLP model"
   ],
   "metadata": {
    "collapsed": false
   }
  },
  {
   "cell_type": "code",
   "execution_count": 90,
   "outputs": [],
   "source": [
    "# possible configurations\n",
    "layer_configurations = [\n",
    "    [1024, 512, 10],\n",
    "    [1024, 256, 128, 10],\n",
    "    [1024, 512, 256, 10],\n",
    "    [1024, 512, 256, 128, 10],\n",
    "    [1024, 512, 256, 128, 64, 10],\n",
    "]\n",
    "\n",
    "# optimizers and their parameters\n",
    "optimizers = {\n",
    "    'Adam': {\"lr\": [0.001, 0.0001], \"weight_decay\": [0.001, 0.01]},\n",
    "    'SGD': {\"lr\": [0.01, 0.005], \"momentum\": [0.9], \"weight_decay\": [0.001, 0.01]}\n",
    "}\n",
    "\n",
    "# Dropout и regularization\n",
    "dropout_rates = [0, 0.25, 0.5]\n",
    "regularizations = ['l1', 'l2', None]\n",
    "\n",
    "# all combs\n",
    "param_grid = list(itertools.product(\n",
    "    layer_configurations,\n",
    "    optimizers.items(),\n",
    "    dropout_rates,\n",
    "    regularizations\n",
    "))\n",
    "\n",
    "loss_fn = torch.nn.CrossEntropyLoss()"
   ],
   "metadata": {
    "collapsed": false,
    "ExecuteTime": {
     "start_time": "2024-05-06T09:09:48.190215Z",
     "end_time": "2024-05-06T09:09:48.226906Z"
    }
   }
  },
  {
   "cell_type": "markdown",
   "source": [
    "- By experimenting with these settings, I aim to identify the best configuration that provides the highest validation accuracy. This methodical yet randomized approach allows for a broad exploration of the parameter space, ensuring that the final model is both robust and effective."
   ],
   "metadata": {
    "collapsed": false
   }
  },
  {
   "cell_type": "code",
   "execution_count": 91,
   "outputs": [],
   "source": [
    "def train_model_with_params(layers, optimizer_info, dropout, regularization, train_loader, val_loader, model_save_dir, model_id):\n",
    "    model = DynamicMLP(layers, dropout)\n",
    "    model.to(device)\n",
    "    optimizer_name, opts = optimizer_info\n",
    "\n",
    "    optimizer_params = {k: random.choice(v) for k, v in opts.items() if k != 'weight_decay'}\n",
    "    if regularization == 'l2':\n",
    "        optimizer_params['weight_decay'] = random.choice(opts['weight_decay'])\n",
    "\n",
    "    optimizer = getattr(optim, optimizer_name)(model.parameters(), **optimizer_params)\n",
    "    model_save_path = os.path.join(model_save_dir, f\"model_{model_id}.pt\")\n",
    "\n",
    "\n",
    "    return train_n_epochs(model, loss_fn, optimizer, train_loader, val_loader, model_save_path, regularization==\"l1\")\n"
   ],
   "metadata": {
    "collapsed": false,
    "ExecuteTime": {
     "start_time": "2024-05-06T09:09:49.501290Z",
     "end_time": "2024-05-06T09:09:49.506069Z"
    }
   }
  },
  {
   "cell_type": "markdown",
   "source": [
    "- Before I ran the big training session, I ran one model and saw that everything was fine. I'm going to train 60 models, 30 on normalised data and 30 not, so I've removed all progress prints for now"
   ],
   "metadata": {
    "collapsed": false
   }
  },
  {
   "cell_type": "code",
   "execution_count": 92,
   "outputs": [],
   "source": [
    "# choose random configs\n",
    "random_samples = np.random.choice(len(param_grid), 30, replace=False)"
   ],
   "metadata": {
    "collapsed": false,
    "ExecuteTime": {
     "start_time": "2024-05-06T09:09:50.062215Z",
     "end_time": "2024-05-06T09:09:50.119769Z"
    }
   }
  },
  {
   "cell_type": "code",
   "execution_count": 98,
   "outputs": [
    {
     "name": "stdout",
     "output_type": "stream",
     "text": [
      "Training model 0...\n",
      "Training model 1...\n",
      "Training model 2...\n",
      "Training model 3...\n",
      "Training model 4...\n",
      "Training model 5...\n",
      "Training model 6...\n",
      "Training model 7...\n",
      "Training model 8...\n",
      "Training model 9...\n",
      "Training model 10...\n",
      "Training model 11...\n",
      "Training model 12...\n",
      "Training model 13...\n",
      "Training model 14...\n",
      "Training model 15...\n",
      "Training model 16...\n",
      "Training model 17...\n",
      "Training model 18...\n",
      "Training model 19...\n",
      "Training model 20...\n",
      "Training model 21...\n",
      "Training model 22...\n",
      "Training model 23...\n",
      "Training model 24...\n",
      "Training model 25...\n",
      "Training model 26...\n",
      "Training model 27...\n",
      "Training model 28...\n",
      "Training model 29...\n"
     ]
    }
   ],
   "source": [
    "validation_losses_reg = {}\n",
    "for i, config in enumerate(random_samples):\n",
    "    layers, optimizer_info, dropout, regularization = param_grid[config]\n",
    "    print(f\"Training model {i}...\")\n",
    "    val_loss = train_model_with_params(\n",
    "        layers, optimizer_info, dropout, regularization, train_loader, val_loader, \"./model_saves\", f\"config_{i}\"\n",
    "    )\n",
    "    validation_losses_reg[val_loss] = [layers, optimizer_info, dropout, regularization]"
   ],
   "metadata": {
    "collapsed": false,
    "ExecuteTime": {
     "start_time": "2024-05-06T09:14:10.620620Z",
     "end_time": "2024-05-06T10:26:59.667486Z"
    }
   }
  },
  {
   "cell_type": "code",
   "execution_count": 99,
   "outputs": [
    {
     "name": "stdout",
     "output_type": "stream",
     "text": [
      "tensor(0.4061, device='cuda:0') [[1024, 512, 256, 10], ('Adam', {'lr': [0.001, 0.0001], 'weight_decay': [0.001, 0.01]}), 0, None]\n"
     ]
    }
   ],
   "source": [
    "min_key = min(validation_losses_reg.keys())\n",
    "min_value = validation_losses_reg[min_key]\n",
    "print(min_key, min_value)"
   ],
   "metadata": {
    "collapsed": false,
    "ExecuteTime": {
     "start_time": "2024-05-06T10:26:59.711729Z",
     "end_time": "2024-05-06T10:26:59.921532Z"
    }
   }
  },
  {
   "cell_type": "code",
   "execution_count": 100,
   "outputs": [
    {
     "name": "stdout",
     "output_type": "stream",
     "text": [
      "5\n",
      "30\n"
     ]
    }
   ],
   "source": [
    "keys_list = list(validation_losses_reg.keys())\n",
    "index = keys_list.index(min_key)\n",
    "print(index)\n",
    "print(len(validation_losses_reg.keys()))"
   ],
   "metadata": {
    "collapsed": false,
    "ExecuteTime": {
     "start_time": "2024-05-06T10:26:59.920066Z",
     "end_time": "2024-05-06T10:26:59.972757Z"
    }
   }
  },
  {
   "cell_type": "markdown",
   "source": [
    "- This shows me the architecture of the best model for not normalised data and I know its index. So the weights will be in ./model_saves/model_config_5.pt"
   ],
   "metadata": {
    "collapsed": false
   }
  },
  {
   "cell_type": "code",
   "execution_count": 101,
   "outputs": [
    {
     "name": "stdout",
     "output_type": "stream",
     "text": [
      "Training model 0...\n",
      "Training model 1...\n",
      "Training model 2...\n",
      "Training model 3...\n",
      "Training model 4...\n",
      "Training model 5...\n",
      "Training model 6...\n",
      "Training model 7...\n",
      "Training model 8...\n",
      "Training model 9...\n",
      "Training model 10...\n",
      "Training model 11...\n",
      "Training model 12...\n",
      "Training model 13...\n",
      "Training model 14...\n",
      "Training model 15...\n",
      "Training model 16...\n",
      "Training model 17...\n",
      "Training model 18...\n",
      "Training model 19...\n",
      "Training model 20...\n",
      "Training model 21...\n",
      "Training model 22...\n",
      "Training model 23...\n",
      "Training model 24...\n",
      "Training model 25...\n",
      "Training model 26...\n",
      "Training model 27...\n",
      "Training model 28...\n",
      "Training model 29...\n"
     ]
    }
   ],
   "source": [
    "validation_losses_norm = {}\n",
    "for i, config in enumerate(random_samples):\n",
    "    layers, optimizer_info, dropout, regularization = param_grid[config]\n",
    "    print(f\"Training model {i}...\")\n",
    "    val_loss = train_model_with_params(\n",
    "        layers, optimizer_info, dropout, regularization, train_norm_loader, val_norm_loader, \"./model_saves\", f\"config_{30+i}\"\n",
    "    )\n",
    "    validation_losses_norm[val_loss] = [layers, optimizer_info, dropout, regularization]"
   ],
   "metadata": {
    "collapsed": false,
    "ExecuteTime": {
     "start_time": "2024-05-06T10:26:59.942497Z",
     "end_time": "2024-05-06T11:38:04.837563Z"
    }
   }
  },
  {
   "cell_type": "code",
   "execution_count": 102,
   "outputs": [
    {
     "name": "stdout",
     "output_type": "stream",
     "text": [
      "tensor(0.4116, device='cuda:0') [[1024, 512, 256, 128, 64, 10], ('SGD', {'lr': [0.01, 0.005], 'momentum': [0.9], 'weight_decay': [0.001, 0.01]}), 0, 'l2']\n"
     ]
    }
   ],
   "source": [
    "min_key1 = min(validation_losses_norm.keys())\n",
    "min_value1 = validation_losses_norm[min_key1]\n",
    "print(min_key1, min_value1)"
   ],
   "metadata": {
    "collapsed": false,
    "ExecuteTime": {
     "start_time": "2024-05-06T11:38:04.838598Z",
     "end_time": "2024-05-06T11:38:04.844840Z"
    }
   }
  },
  {
   "cell_type": "code",
   "execution_count": 103,
   "outputs": [
    {
     "name": "stdout",
     "output_type": "stream",
     "text": [
      "20\n",
      "30\n"
     ]
    }
   ],
   "source": [
    "keys_list = list(validation_losses_norm.keys())\n",
    "index = keys_list.index(min_key1)\n",
    "print(index)\n",
    "print(len(validation_losses_norm.keys()))"
   ],
   "metadata": {
    "collapsed": false,
    "ExecuteTime": {
     "start_time": "2024-05-06T11:38:04.844994Z",
     "end_time": "2024-05-06T11:38:04.908678Z"
    }
   }
  },
  {
   "cell_type": "markdown",
   "source": [
    "- The weights will be in ./model_saves/model_config_50.pt"
   ],
   "metadata": {
    "collapsed": false
   }
  },
  {
   "cell_type": "markdown",
   "source": [
    "# Best MLP model"
   ],
   "metadata": {
    "collapsed": false
   }
  },
  {
   "cell_type": "code",
   "execution_count": 35,
   "outputs": [],
   "source": [
    "def evaluate_model(model, data_loader, device):\n",
    "    \"\"\"\n",
    "    Evaluate a model on a dataset provided by a DataLoader.\n",
    "    \"\"\"\n",
    "    val_predictions = np.zeros(len(data_loader.dataset))\n",
    "    val_y = np.zeros(len(data_loader.dataset))\n",
    "    index = 0\n",
    "\n",
    "    for vdata in tqdm(data_loader, desc=\"Evaluating model\", leave=False):\n",
    "        vinputs, vlabels = vdata\n",
    "        vinputs, vlabels = vinputs.to(device), vlabels.to(device)\n",
    "\n",
    "        with torch.no_grad():\n",
    "            voutputs = model(vinputs)\n",
    "\n",
    "\n",
    "        val_predictions[index:(index + vinputs.shape[0])] = voutputs.argmax(1).cpu().numpy()\n",
    "        val_y[index:(index + vinputs.shape[0])] = vlabels.cpu().numpy()\n",
    "        index += vinputs.shape[0]\n",
    "\n",
    "    print(f\"Validate accuracy: {accuracy_score(val_y, val_predictions):.6f}\")\n",
    "    return val_y, val_predictions"
   ],
   "metadata": {
    "collapsed": false,
    "ExecuteTime": {
     "start_time": "2024-05-11T12:56:10.267312Z",
     "end_time": "2024-05-11T12:56:10.325383Z"
    }
   }
  },
  {
   "cell_type": "code",
   "execution_count": 188,
   "outputs": [],
   "source": [
    "def plot_confusion_matrix(cm, classes,\n",
    "                          normalize=False,\n",
    "                          title='Confusion matrix',\n",
    "                          cmap=plt.cm.Blues):\n",
    "    \"\"\"\n",
    "    This function prints and builds an error matrix.\n",
    "    Normalisation can be applied by setting `normalize=True`.\n",
    "    \"\"\"\n",
    "    if normalize:\n",
    "        cm = cm.astype('float') / cm.sum(axis=1)[:, np.newaxis]\n",
    "\n",
    "    plt.imshow(cm, interpolation='nearest', cmap=cmap)\n",
    "    plt.title(title)\n",
    "    plt.grid(False)\n",
    "    tick_marks = np.arange(len(classes))\n",
    "    plt.xticks(tick_marks, classes, rotation=45)\n",
    "    plt.yticks(tick_marks, classes)\n",
    "\n",
    "    fmt = '.2f' if normalize else 'd'\n",
    "    thresh = cm.max() / 2.\n",
    "    for i, j in itertools.product(range(cm.shape[0]), range(cm.shape[1])):\n",
    "        plt.text(j, i, format(cm[i, j], fmt),\n",
    "                 horizontalalignment=\"center\",\n",
    "                 color=\"white\" if cm[i, j] > thresh else \"black\")\n",
    "\n",
    "    plt.tight_layout()\n",
    "    plt.ylabel('True values')\n",
    "    plt.xlabel('Predicted values')"
   ],
   "metadata": {
    "collapsed": false,
    "ExecuteTime": {
     "start_time": "2024-05-10T22:33:30.841855Z",
     "end_time": "2024-05-10T22:33:30.855489Z"
    }
   }
  },
  {
   "cell_type": "code",
   "execution_count": 196,
   "outputs": [
    {
     "data": {
      "text/plain": "DynamicMLP(\n  (layers): ModuleList(\n    (0): Linear(in_features=1024, out_features=512, bias=True)\n    (1): ReLU()\n    (2): Linear(in_features=512, out_features=256, bias=True)\n    (3): ReLU()\n    (4): Linear(in_features=256, out_features=10, bias=True)\n  )\n)"
     },
     "execution_count": 196,
     "metadata": {},
     "output_type": "execute_result"
    }
   ],
   "source": [
    "# no normalisation\n",
    "model_reg = DynamicMLP([1024, 512, 256, 10])\n",
    "model_reg.load_state_dict(torch.load('model_saves/model_config_5.pt'))\n",
    "model_reg.eval()"
   ],
   "metadata": {
    "collapsed": false,
    "ExecuteTime": {
     "start_time": "2024-05-10T23:00:05.260689Z",
     "end_time": "2024-05-10T23:00:05.344440Z"
    }
   }
  },
  {
   "cell_type": "code",
   "execution_count": 197,
   "outputs": [
    {
     "name": "stderr",
     "output_type": "stream",
     "text": [
      "                                                                    "
     ]
    },
    {
     "name": "stdout",
     "output_type": "stream",
     "text": [
      "Validate accuracy: 0.857143\n"
     ]
    },
    {
     "name": "stderr",
     "output_type": "stream",
     "text": [
      "\r"
     ]
    }
   ],
   "source": [
    "class_names = [0, 1, 2, 3, 4, 5, 6, 7, 8, 9]\n",
    "val_y, val_pred = evaluate_model(model_reg, val_loader, device)"
   ],
   "metadata": {
    "collapsed": false,
    "ExecuteTime": {
     "start_time": "2024-05-10T23:00:07.509309Z",
     "end_time": "2024-05-10T23:00:07.744076Z"
    }
   }
  },
  {
   "cell_type": "code",
   "execution_count": 186,
   "outputs": [
    {
     "data": {
      "text/plain": "DynamicMLP(\n  (layers): ModuleList(\n    (0): Linear(in_features=1024, out_features=512, bias=True)\n    (1): ReLU()\n    (2): Linear(in_features=512, out_features=256, bias=True)\n    (3): ReLU()\n    (4): Linear(in_features=256, out_features=128, bias=True)\n    (5): ReLU()\n    (6): Linear(in_features=128, out_features=64, bias=True)\n    (7): ReLU()\n    (8): Linear(in_features=64, out_features=10, bias=True)\n  )\n)"
     },
     "execution_count": 186,
     "metadata": {},
     "output_type": "execute_result"
    }
   ],
   "source": [
    "# with normalisation\n",
    "model_norm = DynamicMLP([1024, 512, 256, 128, 64, 10])\n",
    "model_norm.load_state_dict(torch.load('model_saves/model_config_50.pt'))\n",
    "model_norm.eval()"
   ],
   "metadata": {
    "collapsed": false,
    "ExecuteTime": {
     "start_time": "2024-05-10T22:33:12.485739Z",
     "end_time": "2024-05-10T22:33:12.530227Z"
    }
   }
  },
  {
   "cell_type": "code",
   "execution_count": 189,
   "outputs": [
    {
     "name": "stderr",
     "output_type": "stream",
     "text": [
      "                                                                   "
     ]
    },
    {
     "name": "stdout",
     "output_type": "stream",
     "text": [
      "Validate accuracy: 0.859175\n"
     ]
    },
    {
     "name": "stderr",
     "output_type": "stream",
     "text": [
      "\r"
     ]
    }
   ],
   "source": [
    "val_y_norm, val_pred_norm = evaluate_model(model_norm, val_norm_loader, device)\n",
    "cnf = confusion_matrix(val_y_norm, val_pred_norm)"
   ],
   "metadata": {
    "collapsed": false,
    "ExecuteTime": {
     "start_time": "2024-05-10T22:33:41.597610Z",
     "end_time": "2024-05-10T22:33:41.907857Z"
    }
   }
  },
  {
   "cell_type": "markdown",
   "source": [
    "- The normalised data showed a slightly better result, which is around 0.86. I think this is pretty good for a multilayer perceptron. Let me draw a confusion matrix"
   ],
   "metadata": {
    "collapsed": false
   }
  },
  {
   "cell_type": "code",
   "execution_count": 137,
   "outputs": [
    {
     "data": {
      "text/plain": "<Figure size 1000x800 with 1 Axes>",
      "image/png": "[encoded data removed]"
     },
     "metadata": {},
     "output_type": "display_data"
    }
   ],
   "source": [
    "plt.figure(figsize=(10, 8))\n",
    "plot_confusion_matrix(cnf, classes=class_names, title='Confusion matrix without normalisation' )\n",
    "plt.show()"
   ],
   "metadata": {
    "collapsed": false,
    "ExecuteTime": {
     "start_time": "2024-05-06T22:31:20.184220Z",
     "end_time": "2024-05-06T22:31:20.550065Z"
    }
   }
  },
  {
   "cell_type": "code",
   "execution_count": 119,
   "outputs": [
    {
     "data": {
      "text/plain": "<Figure size 1000x800 with 1 Axes>",
      "image/png": "[encoded data removed]"
     },
     "metadata": {},
     "output_type": "display_data"
    }
   ],
   "source": [
    "plt.figure(figsize=(10, 8))\n",
    "plot_confusion_matrix(cnf, classes=class_names, normalize=True, title='Confusion matrix with normalisation' )\n",
    "plt.show()"
   ],
   "metadata": {
    "collapsed": false,
    "ExecuteTime": {
     "start_time": "2024-05-06T21:53:12.157388Z",
     "end_time": "2024-05-06T21:53:12.658000Z"
    }
   }
  },
  {
   "cell_type": "markdown",
   "source": [
    "- What stands out immediately is that class 6 is often confused with class 0 (labelled as ‘0’ on the vertical axis), with a probability of about 0.21. The model quite often erroneously predicts that it is class 0. Less frequently, 6 is confused with 4 and 2. If you look at the pictures and data at https://www.kaggle.com/datasets/zalando-research/fashionmnist, these are all items of outerwear that can be very similar to the human eye as well. Let's move on to the CNN."
   ],
   "metadata": {
    "collapsed": false
   }
  },
  {
   "cell_type": "markdown",
   "source": [
    "# Convolutional Neural Network"
   ],
   "metadata": {
    "collapsed": false
   }
  },
  {
   "cell_type": "markdown",
   "source": [
    "- CNNs are specifically designed for image processing. They can automatically and efficiently extract important visual features due to their convolutional layer architecture, making them ideal for image recognition tasks. CNNs are capable of learning feature hierarchies, which allows them to recognise objects in images at different levels of complexity (from simple textures to complex objects). However, one has to keep an eye on over-learning and also a simple student like me faces the problem of computational power requirement and training time. CNN is also very difficult to interpret."
   ],
   "metadata": {
    "collapsed": false
   }
  },
  {
   "cell_type": "code",
   "execution_count": 83,
   "outputs": [],
   "source": [
    "def train_one_epochCNN(model, loss_fn, optimizer, training_loader, lreg=False):\n",
    "    running_cum_loss = 0.\n",
    "\n",
    "    # tqdm is used for nice progress visualisation\n",
    "    for data in tqdm(training_loader, total=len(training_loader)):\n",
    "        # Every data instance is an input + label pair\n",
    "        inputs, labels = data\n",
    "        inputs, labels = inputs.to(device), labels.to(device)\n",
    "\n",
    "        # Zero your gradients for every batch!\n",
    "        optimizer.zero_grad()\n",
    "\n",
    "        # Make predictions for this batch\n",
    "        inputs = inputs.float()\n",
    "        outputs = model(inputs)\n",
    "\n",
    "        # Compute the loss and its gradients\n",
    "        loss = loss_fn(outputs, labels)\n",
    "        if lreg:\n",
    "            loss = l1_regularization(model, loss, 0.0001)\n",
    "\n",
    "        # Backpropagation\n",
    "        loss.backward()\n",
    "\n",
    "        # Adjust learning weights\n",
    "        optimizer.step()\n",
    "\n",
    "        # Gather data and report\n",
    "        last_mean_loss = loss.item()\n",
    "        running_cum_loss += last_mean_loss * inputs.shape[0]\n",
    "\n",
    "    # Return of the average over the whole training set\n",
    "    return running_cum_loss / len(training_loader.dataset)"
   ],
   "metadata": {
    "collapsed": false,
    "ExecuteTime": {
     "start_time": "2024-05-11T14:07:42.348906Z",
     "end_time": "2024-05-11T14:07:42.378222Z"
    }
   }
  },
  {
   "cell_type": "code",
   "execution_count": 84,
   "outputs": [],
   "source": [
    "# Maximum number of training epochs\n",
    "MAX_EPOCHS = 100\n",
    "# Number of epochs when we are willing to accept that there will be no improvement. Otherwise, we stop learning.\n",
    "K_EPOCHS = 15\n",
    "\n",
    "def train_n_epochsCNN(model, loss_fn, optimizer, training_loader, validation_loader, save_path, lreg=False):\n",
    "    epochs_list = []\n",
    "    train_loss = []\n",
    "    validation_loss = []\n",
    "    best_vloss = 1000000.\n",
    "    epochs_from_best = 0\n",
    "\n",
    "    for epoch in range(MAX_EPOCHS):\n",
    "        print('EPOCH {}:'.format(epoch + 1))\n",
    "\n",
    "        # Indicate training phase\n",
    "        model.train(True)\n",
    "\n",
    "        # One training step\n",
    "        avg_loss = train_one_epochCNN(model, loss_fn, optimizer, training_loader, lreg)\n",
    "\n",
    "        # Indicate evaluation phase\n",
    "        model.eval()\n",
    "\n",
    "        # Validation performance\n",
    "        running_cum_vloss = 0.0\n",
    "        vcorrect = 0\n",
    "        for i, vdata in enumerate(validation_loader):\n",
    "            vinputs, vlabels = vdata\n",
    "            vinputs, vlabels = vinputs.to(device), vlabels.to(device)\n",
    "            with torch.no_grad():\n",
    "                voutputs = model(vinputs)\n",
    "                vloss = loss_fn(voutputs, vlabels)\n",
    "            running_cum_vloss += vloss * vinputs.shape[0]\n",
    "            # count the correctly classified samoples\n",
    "            vcorrect += (voutputs.argmax(1) == vlabels).float().sum()\n",
    "        # Get average loss and accuraccy\n",
    "        avg_vloss = running_cum_vloss / len(validation_loader.dataset)\n",
    "        vacc = vcorrect / len(validation_loader.dataset)\n",
    "\n",
    "        # collect values\n",
    "        epochs_list.append(epoch)\n",
    "        validation_loss.append(avg_vloss)\n",
    "        train_loss.append(avg_loss)\n",
    "\n",
    "        # Report progress\n",
    "        print(f\"TRAIN loss: {avg_loss:.3f}, VALIDATION loss: {avg_vloss:.3f}, accuraccy: {vacc:.3f}\")\n",
    "\n",
    "        # Track the best performance, and save the model's state\n",
    "        if avg_vloss < best_vloss:\n",
    "            print(\"Saving best model\")\n",
    "            best_vloss = avg_vloss\n",
    "            if not os.path.exists(os.path.dirname(save_path)):\n",
    "                os.makedirs(os.path.dirname(save_path))\n",
    "            torch.save(model.state_dict(), save_path)\n",
    "            epochs_from_best = 0\n",
    "        else:\n",
    "            print(\"No improvement in this epoch.\")\n",
    "            epochs_from_best += 1\n",
    "\n",
    "        # EARLY STOPPING\n",
    "        if epochs_from_best > K_EPOCHS:\n",
    "            print(\"Early stopping now\")\n",
    "            break\n",
    "    return train_loss, validation_loss"
   ],
   "metadata": {
    "collapsed": false,
    "ExecuteTime": {
     "start_time": "2024-05-11T14:07:44.370971Z",
     "end_time": "2024-05-11T14:07:44.384232Z"
    }
   }
  },
  {
   "cell_type": "markdown",
   "source": [
    "- It's the same as MLP, but with a nice write-up of the training process. I've increased the maximum number of epochs."
   ],
   "metadata": {
    "collapsed": false
   }
  },
  {
   "cell_type": "code",
   "execution_count": 25,
   "outputs": [],
   "source": [
    "class ConvolutionalNetwork(nn.Module):\n",
    "    def __init__(self):\n",
    "        super(ConvolutionalNetwork, self).__init__()\n",
    "        # Define the first convolutional layer with 32 filters and a 3x3 kernel\n",
    "        self.conv1 = nn.Conv2d(1, 32, kernel_size=3, padding='same')\n",
    "        # Define a second convolution layer with 64 filters and a kernel size of 3x3\n",
    "        self.conv2 = nn.Conv2d(32, 64, kernel_size=3, padding='same')\n",
    "        # Pooling layers\n",
    "        self.pool = nn.MaxPool2d(kernel_size=2, stride=2)\n",
    "        # Full-link layer\n",
    "        self.fc1 = nn.Linear(4096, 128) # Size after pooling and convolution\n",
    "        # Output layer\n",
    "        self.fc2 = nn.Linear(128, 10)\n",
    "\n",
    "    def forward(self, x):\n",
    "        # Applying the first convolution layer and pooling\n",
    "        x = F.relu(self.conv1(x))\n",
    "        x = self.pool(x)\n",
    "        # Applying the second convolution layer and pooling\n",
    "        x = F.relu(self.conv2(x))\n",
    "        x = self.pool(x)\n",
    "        # Flattening the data for the fully-connected layer\n",
    "        x = x.flatten(start_dim=1)\n",
    "        # First full-link layer\n",
    "        x = F.relu(self.fc1(x))\n",
    "        # Output layer\n",
    "        x = self.fc2(x)\n",
    "        return x"
   ],
   "metadata": {
    "collapsed": false
   }
  },
  {
   "cell_type": "markdown",
   "source": [
    "- This convolutional network is a starting point for me, I made a simple structure to see how things work and what direction to go in next"
   ],
   "metadata": {
    "collapsed": false
   }
  },
  {
   "cell_type": "code",
   "execution_count": 131,
   "outputs": [
    {
     "data": {
      "text/plain": "ConvolutionalNetwork(\n  (conv1): Conv2d(1, 32, kernel_size=(3, 3), stride=(1, 1), padding=same)\n  (conv2): Conv2d(32, 64, kernel_size=(3, 3), stride=(1, 1), padding=same)\n  (pool): MaxPool2d(kernel_size=2, stride=2, padding=0, dilation=1, ceil_mode=False)\n  (fc1): Linear(in_features=4096, out_features=128, bias=True)\n  (fc2): Linear(in_features=128, out_features=10, bias=True)\n)"
     },
     "execution_count": 131,
     "metadata": {},
     "output_type": "execute_result"
    }
   ],
   "source": [
    "conv_model = ConvolutionalNetwork()\n",
    "conv_model.to(device)"
   ],
   "metadata": {
    "collapsed": false,
    "ExecuteTime": {
     "start_time": "2024-05-10T20:03:17.633205Z",
     "end_time": "2024-05-10T20:03:17.677668Z"
    }
   }
  },
  {
   "cell_type": "code",
   "execution_count": 132,
   "outputs": [],
   "source": [
    "loss_fn = torch.nn.CrossEntropyLoss()"
   ],
   "metadata": {
    "collapsed": false,
    "ExecuteTime": {
     "start_time": "2024-05-10T20:03:19.298689Z",
     "end_time": "2024-05-10T20:03:19.309454Z"
    }
   }
  },
  {
   "cell_type": "code",
   "execution_count": 133,
   "outputs": [],
   "source": [
    "optimizer = torch.optim.Adam(conv_model.parameters())"
   ],
   "metadata": {
    "collapsed": false,
    "ExecuteTime": {
     "start_time": "2024-05-10T20:03:20.939158Z",
     "end_time": "2024-05-10T20:03:20.953179Z"
    }
   }
  },
  {
   "cell_type": "code",
   "execution_count": 134,
   "outputs": [
    {
     "name": "stdout",
     "output_type": "stream",
     "text": [
      "EPOCH 1:\n"
     ]
    },
    {
     "name": "stderr",
     "output_type": "stream",
     "text": [
      "100%|██████████| 575/575 [00:07<00:00, 76.16it/s]\n"
     ]
    },
    {
     "name": "stdout",
     "output_type": "stream",
     "text": [
      "TRAIN loss: 0.917, VALIDATION loss: 0.518, accuraccy: 0.812\n",
      "Saving best model\n",
      "EPOCH 2:\n"
     ]
    },
    {
     "name": "stderr",
     "output_type": "stream",
     "text": [
      "100%|██████████| 575/575 [00:07<00:00, 73.24it/s]\n"
     ]
    },
    {
     "name": "stdout",
     "output_type": "stream",
     "text": [
      "TRAIN loss: 0.467, VALIDATION loss: 0.479, accuraccy: 0.818\n",
      "Saving best model\n",
      "EPOCH 3:\n"
     ]
    },
    {
     "name": "stderr",
     "output_type": "stream",
     "text": [
      "100%|██████████| 575/575 [00:07<00:00, 75.16it/s]\n"
     ]
    },
    {
     "name": "stdout",
     "output_type": "stream",
     "text": [
      "TRAIN loss: 0.427, VALIDATION loss: 0.450, accuraccy: 0.830\n",
      "Saving best model\n",
      "EPOCH 4:\n"
     ]
    },
    {
     "name": "stderr",
     "output_type": "stream",
     "text": [
      "100%|██████████| 575/575 [00:07<00:00, 73.50it/s]\n"
     ]
    },
    {
     "name": "stdout",
     "output_type": "stream",
     "text": [
      "TRAIN loss: 0.396, VALIDATION loss: 0.418, accuraccy: 0.843\n",
      "Saving best model\n",
      "EPOCH 5:\n"
     ]
    },
    {
     "name": "stderr",
     "output_type": "stream",
     "text": [
      "100%|██████████| 575/575 [00:07<00:00, 76.73it/s]\n"
     ]
    },
    {
     "name": "stdout",
     "output_type": "stream",
     "text": [
      "TRAIN loss: 0.380, VALIDATION loss: 0.408, accuraccy: 0.843\n",
      "Saving best model\n",
      "EPOCH 6:\n"
     ]
    },
    {
     "name": "stderr",
     "output_type": "stream",
     "text": [
      "100%|██████████| 575/575 [00:07<00:00, 75.62it/s]\n"
     ]
    },
    {
     "name": "stdout",
     "output_type": "stream",
     "text": [
      "TRAIN loss: 0.363, VALIDATION loss: 0.508, accuraccy: 0.801\n",
      "No improvement in this epoch.\n",
      "EPOCH 7:\n"
     ]
    },
    {
     "name": "stderr",
     "output_type": "stream",
     "text": [
      "100%|██████████| 575/575 [00:07<00:00, 75.04it/s]\n"
     ]
    },
    {
     "name": "stdout",
     "output_type": "stream",
     "text": [
      "TRAIN loss: 0.355, VALIDATION loss: 0.489, accuraccy: 0.804\n",
      "No improvement in this epoch.\n",
      "EPOCH 8:\n"
     ]
    },
    {
     "name": "stderr",
     "output_type": "stream",
     "text": [
      "100%|██████████| 575/575 [00:07<00:00, 74.60it/s]\n"
     ]
    },
    {
     "name": "stdout",
     "output_type": "stream",
     "text": [
      "TRAIN loss: 0.346, VALIDATION loss: 0.417, accuraccy: 0.842\n",
      "No improvement in this epoch.\n",
      "EPOCH 9:\n"
     ]
    },
    {
     "name": "stderr",
     "output_type": "stream",
     "text": [
      "100%|██████████| 575/575 [00:07<00:00, 76.29it/s]\n"
     ]
    },
    {
     "name": "stdout",
     "output_type": "stream",
     "text": [
      "TRAIN loss: 0.338, VALIDATION loss: 0.425, accuraccy: 0.835\n",
      "No improvement in this epoch.\n",
      "EPOCH 10:\n"
     ]
    },
    {
     "name": "stderr",
     "output_type": "stream",
     "text": [
      "100%|██████████| 575/575 [00:07<00:00, 74.19it/s]\n"
     ]
    },
    {
     "name": "stdout",
     "output_type": "stream",
     "text": [
      "TRAIN loss: 0.328, VALIDATION loss: 0.463, accuraccy: 0.822\n",
      "No improvement in this epoch.\n",
      "EPOCH 11:\n"
     ]
    },
    {
     "name": "stderr",
     "output_type": "stream",
     "text": [
      "100%|██████████| 575/575 [00:07<00:00, 75.03it/s]\n"
     ]
    },
    {
     "name": "stdout",
     "output_type": "stream",
     "text": [
      "TRAIN loss: 0.319, VALIDATION loss: 0.438, accuraccy: 0.831\n",
      "No improvement in this epoch.\n",
      "EPOCH 12:\n"
     ]
    },
    {
     "name": "stderr",
     "output_type": "stream",
     "text": [
      "100%|██████████| 575/575 [00:07<00:00, 76.52it/s]\n"
     ]
    },
    {
     "name": "stdout",
     "output_type": "stream",
     "text": [
      "TRAIN loss: 0.312, VALIDATION loss: 0.416, accuraccy: 0.846\n",
      "No improvement in this epoch.\n",
      "EPOCH 13:\n"
     ]
    },
    {
     "name": "stderr",
     "output_type": "stream",
     "text": [
      "100%|██████████| 575/575 [00:07<00:00, 77.26it/s]\n"
     ]
    },
    {
     "name": "stdout",
     "output_type": "stream",
     "text": [
      "TRAIN loss: 0.309, VALIDATION loss: 0.447, accuraccy: 0.830\n",
      "No improvement in this epoch.\n",
      "EPOCH 14:\n"
     ]
    },
    {
     "name": "stderr",
     "output_type": "stream",
     "text": [
      "100%|██████████| 575/575 [00:08<00:00, 68.70it/s]\n"
     ]
    },
    {
     "name": "stdout",
     "output_type": "stream",
     "text": [
      "TRAIN loss: 0.306, VALIDATION loss: 0.431, accuraccy: 0.837\n",
      "No improvement in this epoch.\n",
      "EPOCH 15:\n"
     ]
    },
    {
     "name": "stderr",
     "output_type": "stream",
     "text": [
      "100%|██████████| 575/575 [00:07<00:00, 73.64it/s]\n"
     ]
    },
    {
     "name": "stdout",
     "output_type": "stream",
     "text": [
      "TRAIN loss: 0.300, VALIDATION loss: 0.415, accuraccy: 0.845\n",
      "No improvement in this epoch.\n",
      "EPOCH 16:\n"
     ]
    },
    {
     "name": "stderr",
     "output_type": "stream",
     "text": [
      "100%|██████████| 575/575 [00:07<00:00, 76.04it/s]\n"
     ]
    },
    {
     "name": "stdout",
     "output_type": "stream",
     "text": [
      "TRAIN loss: 0.292, VALIDATION loss: 0.408, accuraccy: 0.846\n",
      "Saving best model\n",
      "EPOCH 17:\n"
     ]
    },
    {
     "name": "stderr",
     "output_type": "stream",
     "text": [
      "100%|██████████| 575/575 [00:07<00:00, 73.58it/s]\n"
     ]
    },
    {
     "name": "stdout",
     "output_type": "stream",
     "text": [
      "TRAIN loss: 0.287, VALIDATION loss: 0.455, accuraccy: 0.830\n",
      "No improvement in this epoch.\n",
      "EPOCH 18:\n"
     ]
    },
    {
     "name": "stderr",
     "output_type": "stream",
     "text": [
      "100%|██████████| 575/575 [00:07<00:00, 75.42it/s]\n"
     ]
    },
    {
     "name": "stdout",
     "output_type": "stream",
     "text": [
      "TRAIN loss: 0.285, VALIDATION loss: 0.419, accuraccy: 0.846\n",
      "No improvement in this epoch.\n",
      "EPOCH 19:\n"
     ]
    },
    {
     "name": "stderr",
     "output_type": "stream",
     "text": [
      "100%|██████████| 575/575 [00:07<00:00, 75.94it/s]\n"
     ]
    },
    {
     "name": "stdout",
     "output_type": "stream",
     "text": [
      "TRAIN loss: 0.283, VALIDATION loss: 0.435, accuraccy: 0.829\n",
      "No improvement in this epoch.\n",
      "EPOCH 20:\n"
     ]
    },
    {
     "name": "stderr",
     "output_type": "stream",
     "text": [
      "100%|██████████| 575/575 [00:07<00:00, 76.08it/s]\n"
     ]
    },
    {
     "name": "stdout",
     "output_type": "stream",
     "text": [
      "TRAIN loss: 0.278, VALIDATION loss: 0.427, accuraccy: 0.842\n",
      "No improvement in this epoch.\n",
      "EPOCH 21:\n"
     ]
    },
    {
     "name": "stderr",
     "output_type": "stream",
     "text": [
      "100%|██████████| 575/575 [00:08<00:00, 66.75it/s]\n"
     ]
    },
    {
     "name": "stdout",
     "output_type": "stream",
     "text": [
      "TRAIN loss: 0.275, VALIDATION loss: 0.453, accuraccy: 0.839\n",
      "No improvement in this epoch.\n",
      "EPOCH 22:\n"
     ]
    },
    {
     "name": "stderr",
     "output_type": "stream",
     "text": [
      "100%|██████████| 575/575 [00:09<00:00, 62.63it/s]\n"
     ]
    },
    {
     "name": "stdout",
     "output_type": "stream",
     "text": [
      "TRAIN loss: 0.269, VALIDATION loss: 0.410, accuraccy: 0.855\n",
      "No improvement in this epoch.\n",
      "EPOCH 23:\n"
     ]
    },
    {
     "name": "stderr",
     "output_type": "stream",
     "text": [
      "100%|██████████| 575/575 [00:09<00:00, 60.40it/s]\n"
     ]
    },
    {
     "name": "stdout",
     "output_type": "stream",
     "text": [
      "TRAIN loss: 0.269, VALIDATION loss: 0.428, accuraccy: 0.846\n",
      "No improvement in this epoch.\n",
      "EPOCH 24:\n"
     ]
    },
    {
     "name": "stderr",
     "output_type": "stream",
     "text": [
      "100%|██████████| 575/575 [00:09<00:00, 58.09it/s]\n"
     ]
    },
    {
     "name": "stdout",
     "output_type": "stream",
     "text": [
      "TRAIN loss: 0.262, VALIDATION loss: 0.457, accuraccy: 0.841\n",
      "No improvement in this epoch.\n",
      "EPOCH 25:\n"
     ]
    },
    {
     "name": "stderr",
     "output_type": "stream",
     "text": [
      "100%|██████████| 575/575 [00:09<00:00, 60.87it/s]\n"
     ]
    },
    {
     "name": "stdout",
     "output_type": "stream",
     "text": [
      "TRAIN loss: 0.260, VALIDATION loss: 0.453, accuraccy: 0.830\n",
      "No improvement in this epoch.\n",
      "EPOCH 26:\n"
     ]
    },
    {
     "name": "stderr",
     "output_type": "stream",
     "text": [
      "100%|██████████| 575/575 [00:09<00:00, 60.35it/s]\n"
     ]
    },
    {
     "name": "stdout",
     "output_type": "stream",
     "text": [
      "TRAIN loss: 0.258, VALIDATION loss: 0.470, accuraccy: 0.833\n",
      "No improvement in this epoch.\n",
      "EPOCH 27:\n"
     ]
    },
    {
     "name": "stderr",
     "output_type": "stream",
     "text": [
      "100%|██████████| 575/575 [00:09<00:00, 63.85it/s]\n"
     ]
    },
    {
     "name": "stdout",
     "output_type": "stream",
     "text": [
      "TRAIN loss: 0.253, VALIDATION loss: 0.470, accuraccy: 0.833\n",
      "No improvement in this epoch.\n",
      "EPOCH 28:\n"
     ]
    },
    {
     "name": "stderr",
     "output_type": "stream",
     "text": [
      "100%|██████████| 575/575 [00:08<00:00, 70.21it/s]\n"
     ]
    },
    {
     "name": "stdout",
     "output_type": "stream",
     "text": [
      "TRAIN loss: 0.252, VALIDATION loss: 0.444, accuraccy: 0.847\n",
      "No improvement in this epoch.\n",
      "EPOCH 29:\n"
     ]
    },
    {
     "name": "stderr",
     "output_type": "stream",
     "text": [
      "100%|██████████| 575/575 [00:07<00:00, 79.53it/s]\n"
     ]
    },
    {
     "name": "stdout",
     "output_type": "stream",
     "text": [
      "TRAIN loss: 0.247, VALIDATION loss: 0.429, accuraccy: 0.856\n",
      "No improvement in this epoch.\n",
      "EPOCH 30:\n"
     ]
    },
    {
     "name": "stderr",
     "output_type": "stream",
     "text": [
      "100%|██████████| 575/575 [00:07<00:00, 79.11it/s]\n"
     ]
    },
    {
     "name": "stdout",
     "output_type": "stream",
     "text": [
      "TRAIN loss: 0.250, VALIDATION loss: 0.440, accuraccy: 0.851\n",
      "No improvement in this epoch.\n",
      "EPOCH 31:\n"
     ]
    },
    {
     "name": "stderr",
     "output_type": "stream",
     "text": [
      "100%|██████████| 575/575 [00:06<00:00, 82.60it/s]\n"
     ]
    },
    {
     "name": "stdout",
     "output_type": "stream",
     "text": [
      "TRAIN loss: 0.243, VALIDATION loss: 0.440, accuraccy: 0.852\n",
      "No improvement in this epoch.\n",
      "EPOCH 32:\n"
     ]
    },
    {
     "name": "stderr",
     "output_type": "stream",
     "text": [
      "100%|██████████| 575/575 [00:07<00:00, 81.97it/s]\n"
     ]
    },
    {
     "name": "stdout",
     "output_type": "stream",
     "text": [
      "TRAIN loss: 0.238, VALIDATION loss: 0.476, accuraccy: 0.840\n",
      "No improvement in this epoch.\n",
      "Early stopping now\n"
     ]
    }
   ],
   "source": [
    "tr_loss1_1, val_loss1_1 = train_n_epochsCNN(conv_model, loss_fn, optimizer, train_loader, val_loader, \"savesCNN/model1_1.pt\")"
   ],
   "metadata": {
    "collapsed": false,
    "ExecuteTime": {
     "start_time": "2024-05-10T20:03:23.274790Z",
     "end_time": "2024-05-10T20:07:47.847232Z"
    }
   }
  },
  {
   "cell_type": "markdown",
   "source": [],
   "metadata": {
    "collapsed": false
   }
  },
  {
   "cell_type": "code",
   "execution_count": 135,
   "outputs": [
    {
     "data": {
      "text/plain": "ConvolutionalNetwork(\n  (conv1): Conv2d(1, 32, kernel_size=(3, 3), stride=(1, 1), padding=same)\n  (conv2): Conv2d(32, 64, kernel_size=(3, 3), stride=(1, 1), padding=same)\n  (pool): MaxPool2d(kernel_size=2, stride=2, padding=0, dilation=1, ceil_mode=False)\n  (fc1): Linear(in_features=4096, out_features=128, bias=True)\n  (fc2): Linear(in_features=128, out_features=10, bias=True)\n)"
     },
     "execution_count": 135,
     "metadata": {},
     "output_type": "execute_result"
    }
   ],
   "source": [
    "conv_model = ConvolutionalNetwork()\n",
    "conv_model.to(device)"
   ],
   "metadata": {
    "collapsed": false,
    "ExecuteTime": {
     "start_time": "2024-05-10T20:07:47.849028Z",
     "end_time": "2024-05-10T20:07:47.892567Z"
    }
   }
  },
  {
   "cell_type": "code",
   "execution_count": 136,
   "outputs": [],
   "source": [
    "optimizer = torch.optim.Adam(conv_model.parameters())"
   ],
   "metadata": {
    "collapsed": false,
    "ExecuteTime": {
     "start_time": "2024-05-10T20:07:47.889458Z",
     "end_time": "2024-05-10T20:07:47.892701Z"
    }
   }
  },
  {
   "cell_type": "code",
   "execution_count": 137,
   "outputs": [
    {
     "name": "stdout",
     "output_type": "stream",
     "text": [
      "EPOCH 1:\n"
     ]
    },
    {
     "name": "stderr",
     "output_type": "stream",
     "text": [
      "100%|██████████| 575/575 [00:07<00:00, 78.23it/s]\n"
     ]
    },
    {
     "name": "stdout",
     "output_type": "stream",
     "text": [
      "TRAIN loss: 0.803, VALIDATION loss: 0.440, accuraccy: 0.838\n",
      "Saving best model\n",
      "EPOCH 2:\n"
     ]
    },
    {
     "name": "stderr",
     "output_type": "stream",
     "text": [
      "100%|██████████| 575/575 [00:07<00:00, 76.19it/s]\n"
     ]
    },
    {
     "name": "stdout",
     "output_type": "stream",
     "text": [
      "TRAIN loss: 0.399, VALIDATION loss: 0.383, accuraccy: 0.861\n",
      "Saving best model\n",
      "EPOCH 3:\n"
     ]
    },
    {
     "name": "stderr",
     "output_type": "stream",
     "text": [
      "100%|██████████| 575/575 [00:07<00:00, 80.60it/s]\n"
     ]
    },
    {
     "name": "stdout",
     "output_type": "stream",
     "text": [
      "TRAIN loss: 0.351, VALIDATION loss: 0.381, accuraccy: 0.866\n",
      "Saving best model\n",
      "EPOCH 4:\n"
     ]
    },
    {
     "name": "stderr",
     "output_type": "stream",
     "text": [
      "100%|██████████| 575/575 [00:07<00:00, 77.80it/s]\n"
     ]
    },
    {
     "name": "stdout",
     "output_type": "stream",
     "text": [
      "TRAIN loss: 0.322, VALIDATION loss: 0.352, accuraccy: 0.872\n",
      "Saving best model\n",
      "EPOCH 5:\n"
     ]
    },
    {
     "name": "stderr",
     "output_type": "stream",
     "text": [
      "100%|██████████| 575/575 [00:08<00:00, 71.34it/s]\n"
     ]
    },
    {
     "name": "stdout",
     "output_type": "stream",
     "text": [
      "TRAIN loss: 0.301, VALIDATION loss: 0.329, accuraccy: 0.881\n",
      "Saving best model\n",
      "EPOCH 6:\n"
     ]
    },
    {
     "name": "stderr",
     "output_type": "stream",
     "text": [
      "100%|██████████| 575/575 [00:08<00:00, 67.13it/s]\n"
     ]
    },
    {
     "name": "stdout",
     "output_type": "stream",
     "text": [
      "TRAIN loss: 0.285, VALIDATION loss: 0.331, accuraccy: 0.883\n",
      "No improvement in this epoch.\n",
      "EPOCH 7:\n"
     ]
    },
    {
     "name": "stderr",
     "output_type": "stream",
     "text": [
      "100%|██████████| 575/575 [00:08<00:00, 70.59it/s]\n"
     ]
    },
    {
     "name": "stdout",
     "output_type": "stream",
     "text": [
      "TRAIN loss: 0.266, VALIDATION loss: 0.344, accuraccy: 0.887\n",
      "No improvement in this epoch.\n",
      "EPOCH 8:\n"
     ]
    },
    {
     "name": "stderr",
     "output_type": "stream",
     "text": [
      "100%|██████████| 575/575 [00:08<00:00, 69.66it/s]\n"
     ]
    },
    {
     "name": "stdout",
     "output_type": "stream",
     "text": [
      "TRAIN loss: 0.252, VALIDATION loss: 0.329, accuraccy: 0.885\n",
      "No improvement in this epoch.\n",
      "EPOCH 9:\n"
     ]
    },
    {
     "name": "stderr",
     "output_type": "stream",
     "text": [
      "100%|██████████| 575/575 [00:08<00:00, 67.55it/s]\n"
     ]
    },
    {
     "name": "stdout",
     "output_type": "stream",
     "text": [
      "TRAIN loss: 0.234, VALIDATION loss: 0.418, accuraccy: 0.861\n",
      "No improvement in this epoch.\n",
      "EPOCH 10:\n"
     ]
    },
    {
     "name": "stderr",
     "output_type": "stream",
     "text": [
      "100%|██████████| 575/575 [00:09<00:00, 63.18it/s]\n"
     ]
    },
    {
     "name": "stdout",
     "output_type": "stream",
     "text": [
      "TRAIN loss: 0.230, VALIDATION loss: 0.354, accuraccy: 0.879\n",
      "No improvement in this epoch.\n",
      "EPOCH 11:\n"
     ]
    },
    {
     "name": "stderr",
     "output_type": "stream",
     "text": [
      "100%|██████████| 575/575 [00:08<00:00, 67.99it/s]\n"
     ]
    },
    {
     "name": "stdout",
     "output_type": "stream",
     "text": [
      "TRAIN loss: 0.215, VALIDATION loss: 0.366, accuraccy: 0.878\n",
      "No improvement in this epoch.\n",
      "EPOCH 12:\n"
     ]
    },
    {
     "name": "stderr",
     "output_type": "stream",
     "text": [
      "100%|██████████| 575/575 [00:09<00:00, 60.55it/s]\n"
     ]
    },
    {
     "name": "stdout",
     "output_type": "stream",
     "text": [
      "TRAIN loss: 0.206, VALIDATION loss: 0.357, accuraccy: 0.884\n",
      "No improvement in this epoch.\n",
      "EPOCH 13:\n"
     ]
    },
    {
     "name": "stderr",
     "output_type": "stream",
     "text": [
      "100%|██████████| 575/575 [00:08<00:00, 65.20it/s]\n"
     ]
    },
    {
     "name": "stdout",
     "output_type": "stream",
     "text": [
      "TRAIN loss: 0.196, VALIDATION loss: 0.351, accuraccy: 0.888\n",
      "No improvement in this epoch.\n",
      "EPOCH 14:\n"
     ]
    },
    {
     "name": "stderr",
     "output_type": "stream",
     "text": [
      "100%|██████████| 575/575 [00:08<00:00, 67.72it/s]\n"
     ]
    },
    {
     "name": "stdout",
     "output_type": "stream",
     "text": [
      "TRAIN loss: 0.187, VALIDATION loss: 0.369, accuraccy: 0.893\n",
      "No improvement in this epoch.\n",
      "EPOCH 15:\n"
     ]
    },
    {
     "name": "stderr",
     "output_type": "stream",
     "text": [
      "100%|██████████| 575/575 [00:08<00:00, 70.76it/s]\n"
     ]
    },
    {
     "name": "stdout",
     "output_type": "stream",
     "text": [
      "TRAIN loss: 0.179, VALIDATION loss: 0.383, accuraccy: 0.887\n",
      "No improvement in this epoch.\n",
      "EPOCH 16:\n"
     ]
    },
    {
     "name": "stderr",
     "output_type": "stream",
     "text": [
      "100%|██████████| 575/575 [00:08<00:00, 70.95it/s]\n"
     ]
    },
    {
     "name": "stdout",
     "output_type": "stream",
     "text": [
      "TRAIN loss: 0.172, VALIDATION loss: 0.409, accuraccy: 0.884\n",
      "No improvement in this epoch.\n",
      "EPOCH 17:\n"
     ]
    },
    {
     "name": "stderr",
     "output_type": "stream",
     "text": [
      "100%|██████████| 575/575 [00:08<00:00, 70.67it/s]\n"
     ]
    },
    {
     "name": "stdout",
     "output_type": "stream",
     "text": [
      "TRAIN loss: 0.160, VALIDATION loss: 0.425, accuraccy: 0.887\n",
      "No improvement in this epoch.\n",
      "EPOCH 18:\n"
     ]
    },
    {
     "name": "stderr",
     "output_type": "stream",
     "text": [
      "100%|██████████| 575/575 [00:08<00:00, 64.16it/s]\n"
     ]
    },
    {
     "name": "stdout",
     "output_type": "stream",
     "text": [
      "TRAIN loss: 0.152, VALIDATION loss: 0.430, accuraccy: 0.882\n",
      "No improvement in this epoch.\n",
      "EPOCH 19:\n"
     ]
    },
    {
     "name": "stderr",
     "output_type": "stream",
     "text": [
      "100%|██████████| 575/575 [00:09<00:00, 62.39it/s]\n"
     ]
    },
    {
     "name": "stdout",
     "output_type": "stream",
     "text": [
      "TRAIN loss: 0.151, VALIDATION loss: 0.430, accuraccy: 0.887\n",
      "No improvement in this epoch.\n",
      "EPOCH 20:\n"
     ]
    },
    {
     "name": "stderr",
     "output_type": "stream",
     "text": [
      "100%|██████████| 575/575 [00:08<00:00, 66.52it/s]\n"
     ]
    },
    {
     "name": "stdout",
     "output_type": "stream",
     "text": [
      "TRAIN loss: 0.145, VALIDATION loss: 0.413, accuraccy: 0.890\n",
      "No improvement in this epoch.\n",
      "EPOCH 21:\n"
     ]
    },
    {
     "name": "stderr",
     "output_type": "stream",
     "text": [
      "100%|██████████| 575/575 [00:08<00:00, 66.26it/s]\n"
     ]
    },
    {
     "name": "stdout",
     "output_type": "stream",
     "text": [
      "TRAIN loss: 0.136, VALIDATION loss: 0.436, accuraccy: 0.886\n",
      "No improvement in this epoch.\n",
      "Early stopping now\n"
     ]
    }
   ],
   "source": [
    "tr_loss1_2, val_loss1_2 = train_n_epochsCNN(conv_model, loss_fn, optimizer, train_norm_loader, val_norm_loader, \"savesCNN/model1_2.pt\")"
   ],
   "metadata": {
    "collapsed": false,
    "ExecuteTime": {
     "start_time": "2024-05-10T20:07:47.889536Z",
     "end_time": "2024-05-10T20:10:49.439140Z"
    }
   }
  },
  {
   "cell_type": "markdown",
   "source": [
    "- The normalised data show a significantly better result, so I will only continue with them, both times model overtrained quickly, I will try adding dropout."
   ],
   "metadata": {
    "collapsed": false
   }
  },
  {
   "cell_type": "code",
   "execution_count": 119,
   "outputs": [],
   "source": [
    "class ConvolutionalNetwork2(nn.Module):\n",
    "    def __init__(self):\n",
    "        super(ConvolutionalNetwork2, self).__init__()\n",
    "        # Convolutional layers\n",
    "        self.conv1 = nn.Conv2d(1, 32, kernel_size=3, padding='same')\n",
    "        self.conv2 = nn.Conv2d(32, 64, kernel_size=3, padding='same')\n",
    "\n",
    "        # Pooling layers\n",
    "        self.pool = nn.MaxPool2d(kernel_size=2, stride=2)\n",
    "\n",
    "        # Dropout layers\n",
    "        self.dropout_input = nn.Dropout(p=0.1)  # Dropout for input layer\n",
    "        self.dropout_internal = nn.Dropout(p=0.25)  # Dropout for internal layers\n",
    "\n",
    "        # Fully connected layers\n",
    "        self.fc1 = nn.Linear(4096, 128)\n",
    "        self.fc2 = nn.Linear(128, 10)\n",
    "\n",
    "    def forward(self, x):\n",
    "        # Apply dropout to the input\n",
    "        x = self.dropout_input(x)\n",
    "\n",
    "        # First convolutional layer and pooling\n",
    "        x = F.relu(self.conv1(x))\n",
    "        x = self.pool(x)\n",
    "\n",
    "        # Second convolutional layer and pooling\n",
    "        x = F.relu(self.conv2(x))\n",
    "        x = self.pool(x)\n",
    "\n",
    "        # Flattening the data for the fully-connected layer\n",
    "        x = x.flatten(start_dim=1)\n",
    "\n",
    "        # First fully-connected layer\n",
    "        x = F.relu(self.fc1(x))\n",
    "        x = self.dropout_internal(x)  # Apply dropout before the final layer\n",
    "\n",
    "        # Output layer\n",
    "        x = self.fc2(x)\n",
    "\n",
    "        return x"
   ],
   "metadata": {
    "collapsed": false,
    "ExecuteTime": {
     "start_time": "2024-05-10T19:33:44.485766Z",
     "end_time": "2024-05-10T19:33:44.529827Z"
    }
   }
  },
  {
   "cell_type": "code",
   "execution_count": 138,
   "outputs": [
    {
     "data": {
      "text/plain": "ConvolutionalNetwork2(\n  (conv1): Conv2d(1, 32, kernel_size=(3, 3), stride=(1, 1), padding=same)\n  (conv2): Conv2d(32, 64, kernel_size=(3, 3), stride=(1, 1), padding=same)\n  (pool): MaxPool2d(kernel_size=2, stride=2, padding=0, dilation=1, ceil_mode=False)\n  (dropout_input): Dropout(p=0.1, inplace=False)\n  (dropout_internal): Dropout(p=0.25, inplace=False)\n  (fc1): Linear(in_features=4096, out_features=128, bias=True)\n  (fc2): Linear(in_features=128, out_features=10, bias=True)\n)"
     },
     "execution_count": 138,
     "metadata": {},
     "output_type": "execute_result"
    }
   ],
   "source": [
    "conv2_model = ConvolutionalNetwork2()\n",
    "conv2_model.to(device)"
   ],
   "metadata": {
    "collapsed": false,
    "ExecuteTime": {
     "start_time": "2024-05-10T20:10:49.437166Z",
     "end_time": "2024-05-10T20:10:49.547619Z"
    }
   }
  },
  {
   "cell_type": "code",
   "execution_count": 139,
   "outputs": [],
   "source": [
    "optimizer2 = torch.optim.Adam(conv2_model.parameters())"
   ],
   "metadata": {
    "collapsed": false,
    "ExecuteTime": {
     "start_time": "2024-05-10T20:10:49.440696Z",
     "end_time": "2024-05-10T20:10:49.622298Z"
    }
   }
  },
  {
   "cell_type": "code",
   "execution_count": 140,
   "outputs": [
    {
     "name": "stdout",
     "output_type": "stream",
     "text": [
      "EPOCH 1:\n"
     ]
    },
    {
     "name": "stderr",
     "output_type": "stream",
     "text": [
      "100%|██████████| 575/575 [00:09<00:00, 60.45it/s]\n"
     ]
    },
    {
     "name": "stdout",
     "output_type": "stream",
     "text": [
      "TRAIN loss: 1.171, VALIDATION loss: 0.475, accuraccy: 0.822\n",
      "Saving best model\n",
      "EPOCH 2:\n"
     ]
    },
    {
     "name": "stderr",
     "output_type": "stream",
     "text": [
      "100%|██████████| 575/575 [00:09<00:00, 59.42it/s]\n"
     ]
    },
    {
     "name": "stdout",
     "output_type": "stream",
     "text": [
      "TRAIN loss: 0.750, VALIDATION loss: 0.435, accuraccy: 0.837\n",
      "Saving best model\n",
      "EPOCH 3:\n"
     ]
    },
    {
     "name": "stderr",
     "output_type": "stream",
     "text": [
      "100%|██████████| 575/575 [00:09<00:00, 61.52it/s]\n"
     ]
    },
    {
     "name": "stdout",
     "output_type": "stream",
     "text": [
      "TRAIN loss: 0.671, VALIDATION loss: 0.426, accuraccy: 0.842\n",
      "Saving best model\n",
      "EPOCH 4:\n"
     ]
    },
    {
     "name": "stderr",
     "output_type": "stream",
     "text": [
      "100%|██████████| 575/575 [00:09<00:00, 59.05it/s]\n"
     ]
    },
    {
     "name": "stdout",
     "output_type": "stream",
     "text": [
      "TRAIN loss: 0.629, VALIDATION loss: 0.398, accuraccy: 0.854\n",
      "Saving best model\n",
      "EPOCH 5:\n"
     ]
    },
    {
     "name": "stderr",
     "output_type": "stream",
     "text": [
      "100%|██████████| 575/575 [00:09<00:00, 58.67it/s]\n"
     ]
    },
    {
     "name": "stdout",
     "output_type": "stream",
     "text": [
      "TRAIN loss: 0.604, VALIDATION loss: 0.390, accuraccy: 0.850\n",
      "Saving best model\n",
      "EPOCH 6:\n"
     ]
    },
    {
     "name": "stderr",
     "output_type": "stream",
     "text": [
      "100%|██████████| 575/575 [00:09<00:00, 62.10it/s]\n"
     ]
    },
    {
     "name": "stdout",
     "output_type": "stream",
     "text": [
      "TRAIN loss: 0.592, VALIDATION loss: 0.383, accuraccy: 0.860\n",
      "Saving best model\n",
      "EPOCH 7:\n"
     ]
    },
    {
     "name": "stderr",
     "output_type": "stream",
     "text": [
      "100%|██████████| 575/575 [00:09<00:00, 60.49it/s]\n"
     ]
    },
    {
     "name": "stdout",
     "output_type": "stream",
     "text": [
      "TRAIN loss: 0.568, VALIDATION loss: 0.363, accuraccy: 0.867\n",
      "Saving best model\n",
      "EPOCH 8:\n"
     ]
    },
    {
     "name": "stderr",
     "output_type": "stream",
     "text": [
      "100%|██████████| 575/575 [00:09<00:00, 59.13it/s]\n"
     ]
    },
    {
     "name": "stdout",
     "output_type": "stream",
     "text": [
      "TRAIN loss: 0.562, VALIDATION loss: 0.352, accuraccy: 0.872\n",
      "Saving best model\n",
      "EPOCH 9:\n"
     ]
    },
    {
     "name": "stderr",
     "output_type": "stream",
     "text": [
      "100%|██████████| 575/575 [00:08<00:00, 64.43it/s]\n"
     ]
    },
    {
     "name": "stdout",
     "output_type": "stream",
     "text": [
      "TRAIN loss: 0.559, VALIDATION loss: 0.358, accuraccy: 0.868\n",
      "No improvement in this epoch.\n",
      "EPOCH 10:\n"
     ]
    },
    {
     "name": "stderr",
     "output_type": "stream",
     "text": [
      "100%|██████████| 575/575 [00:07<00:00, 76.96it/s]\n"
     ]
    },
    {
     "name": "stdout",
     "output_type": "stream",
     "text": [
      "TRAIN loss: 0.558, VALIDATION loss: 0.362, accuraccy: 0.865\n",
      "No improvement in this epoch.\n",
      "EPOCH 11:\n"
     ]
    },
    {
     "name": "stderr",
     "output_type": "stream",
     "text": [
      "100%|██████████| 575/575 [00:07<00:00, 75.18it/s]\n"
     ]
    },
    {
     "name": "stdout",
     "output_type": "stream",
     "text": [
      "TRAIN loss: 0.550, VALIDATION loss: 0.361, accuraccy: 0.866\n",
      "No improvement in this epoch.\n",
      "EPOCH 12:\n"
     ]
    },
    {
     "name": "stderr",
     "output_type": "stream",
     "text": [
      "100%|██████████| 575/575 [00:07<00:00, 75.45it/s]\n"
     ]
    },
    {
     "name": "stdout",
     "output_type": "stream",
     "text": [
      "TRAIN loss: 0.547, VALIDATION loss: 0.367, accuraccy: 0.866\n",
      "No improvement in this epoch.\n",
      "EPOCH 13:\n"
     ]
    },
    {
     "name": "stderr",
     "output_type": "stream",
     "text": [
      "100%|██████████| 575/575 [00:07<00:00, 75.45it/s]\n"
     ]
    },
    {
     "name": "stdout",
     "output_type": "stream",
     "text": [
      "TRAIN loss: 0.551, VALIDATION loss: 0.363, accuraccy: 0.865\n",
      "No improvement in this epoch.\n",
      "EPOCH 14:\n"
     ]
    },
    {
     "name": "stderr",
     "output_type": "stream",
     "text": [
      "100%|██████████| 575/575 [00:07<00:00, 76.42it/s]\n"
     ]
    },
    {
     "name": "stdout",
     "output_type": "stream",
     "text": [
      "TRAIN loss: 0.550, VALIDATION loss: 0.330, accuraccy: 0.879\n",
      "Saving best model\n",
      "EPOCH 15:\n"
     ]
    },
    {
     "name": "stderr",
     "output_type": "stream",
     "text": [
      "100%|██████████| 575/575 [00:07<00:00, 76.15it/s]\n"
     ]
    },
    {
     "name": "stdout",
     "output_type": "stream",
     "text": [
      "TRAIN loss: 0.544, VALIDATION loss: 0.366, accuraccy: 0.867\n",
      "No improvement in this epoch.\n",
      "EPOCH 16:\n"
     ]
    },
    {
     "name": "stderr",
     "output_type": "stream",
     "text": [
      "100%|██████████| 575/575 [00:07<00:00, 76.98it/s]\n"
     ]
    },
    {
     "name": "stdout",
     "output_type": "stream",
     "text": [
      "TRAIN loss: 0.535, VALIDATION loss: 0.338, accuraccy: 0.876\n",
      "No improvement in this epoch.\n",
      "EPOCH 17:\n"
     ]
    },
    {
     "name": "stderr",
     "output_type": "stream",
     "text": [
      "100%|██████████| 575/575 [00:07<00:00, 76.31it/s]\n"
     ]
    },
    {
     "name": "stdout",
     "output_type": "stream",
     "text": [
      "TRAIN loss: 0.546, VALIDATION loss: 0.342, accuraccy: 0.874\n",
      "No improvement in this epoch.\n",
      "EPOCH 18:\n"
     ]
    },
    {
     "name": "stderr",
     "output_type": "stream",
     "text": [
      "100%|██████████| 575/575 [00:07<00:00, 76.34it/s]\n"
     ]
    },
    {
     "name": "stdout",
     "output_type": "stream",
     "text": [
      "TRAIN loss: 0.538, VALIDATION loss: 0.333, accuraccy: 0.878\n",
      "No improvement in this epoch.\n",
      "EPOCH 19:\n"
     ]
    },
    {
     "name": "stderr",
     "output_type": "stream",
     "text": [
      "100%|██████████| 575/575 [00:07<00:00, 75.21it/s]\n"
     ]
    },
    {
     "name": "stdout",
     "output_type": "stream",
     "text": [
      "TRAIN loss: 0.537, VALIDATION loss: 0.339, accuraccy: 0.874\n",
      "No improvement in this epoch.\n",
      "EPOCH 20:\n"
     ]
    },
    {
     "name": "stderr",
     "output_type": "stream",
     "text": [
      "100%|██████████| 575/575 [00:07<00:00, 77.56it/s]\n"
     ]
    },
    {
     "name": "stdout",
     "output_type": "stream",
     "text": [
      "TRAIN loss: 0.527, VALIDATION loss: 0.337, accuraccy: 0.874\n",
      "No improvement in this epoch.\n",
      "EPOCH 21:\n"
     ]
    },
    {
     "name": "stderr",
     "output_type": "stream",
     "text": [
      "100%|██████████| 575/575 [00:07<00:00, 76.88it/s]\n"
     ]
    },
    {
     "name": "stdout",
     "output_type": "stream",
     "text": [
      "TRAIN loss: 0.537, VALIDATION loss: 0.334, accuraccy: 0.879\n",
      "No improvement in this epoch.\n",
      "EPOCH 22:\n"
     ]
    },
    {
     "name": "stderr",
     "output_type": "stream",
     "text": [
      "100%|██████████| 575/575 [00:07<00:00, 77.32it/s]\n"
     ]
    },
    {
     "name": "stdout",
     "output_type": "stream",
     "text": [
      "TRAIN loss: 0.527, VALIDATION loss: 0.340, accuraccy: 0.875\n",
      "No improvement in this epoch.\n",
      "EPOCH 23:\n"
     ]
    },
    {
     "name": "stderr",
     "output_type": "stream",
     "text": [
      "100%|██████████| 575/575 [00:07<00:00, 76.47it/s]\n"
     ]
    },
    {
     "name": "stdout",
     "output_type": "stream",
     "text": [
      "TRAIN loss: 0.524, VALIDATION loss: 0.329, accuraccy: 0.879\n",
      "Saving best model\n",
      "EPOCH 24:\n"
     ]
    },
    {
     "name": "stderr",
     "output_type": "stream",
     "text": [
      "100%|██████████| 575/575 [00:07<00:00, 77.59it/s]\n"
     ]
    },
    {
     "name": "stdout",
     "output_type": "stream",
     "text": [
      "TRAIN loss: 0.525, VALIDATION loss: 0.320, accuraccy: 0.884\n",
      "Saving best model\n",
      "EPOCH 25:\n"
     ]
    },
    {
     "name": "stderr",
     "output_type": "stream",
     "text": [
      "100%|██████████| 575/575 [00:07<00:00, 74.76it/s]\n"
     ]
    },
    {
     "name": "stdout",
     "output_type": "stream",
     "text": [
      "TRAIN loss: 0.536, VALIDATION loss: 0.335, accuraccy: 0.872\n",
      "No improvement in this epoch.\n",
      "EPOCH 26:\n"
     ]
    },
    {
     "name": "stderr",
     "output_type": "stream",
     "text": [
      "100%|██████████| 575/575 [00:07<00:00, 76.01it/s]\n"
     ]
    },
    {
     "name": "stdout",
     "output_type": "stream",
     "text": [
      "TRAIN loss: 0.525, VALIDATION loss: 0.344, accuraccy: 0.877\n",
      "No improvement in this epoch.\n",
      "EPOCH 27:\n"
     ]
    },
    {
     "name": "stderr",
     "output_type": "stream",
     "text": [
      "100%|██████████| 575/575 [00:07<00:00, 76.92it/s]\n"
     ]
    },
    {
     "name": "stdout",
     "output_type": "stream",
     "text": [
      "TRAIN loss: 0.525, VALIDATION loss: 0.321, accuraccy: 0.879\n",
      "No improvement in this epoch.\n",
      "EPOCH 28:\n"
     ]
    },
    {
     "name": "stderr",
     "output_type": "stream",
     "text": [
      "100%|██████████| 575/575 [00:07<00:00, 75.91it/s]\n"
     ]
    },
    {
     "name": "stdout",
     "output_type": "stream",
     "text": [
      "TRAIN loss: 0.522, VALIDATION loss: 0.339, accuraccy: 0.876\n",
      "No improvement in this epoch.\n",
      "EPOCH 29:\n"
     ]
    },
    {
     "name": "stderr",
     "output_type": "stream",
     "text": [
      "100%|██████████| 575/575 [00:07<00:00, 75.41it/s]\n"
     ]
    },
    {
     "name": "stdout",
     "output_type": "stream",
     "text": [
      "TRAIN loss: 0.521, VALIDATION loss: 0.315, accuraccy: 0.885\n",
      "Saving best model\n",
      "EPOCH 30:\n"
     ]
    },
    {
     "name": "stderr",
     "output_type": "stream",
     "text": [
      "100%|██████████| 575/575 [00:07<00:00, 74.68it/s]\n"
     ]
    },
    {
     "name": "stdout",
     "output_type": "stream",
     "text": [
      "TRAIN loss: 0.517, VALIDATION loss: 0.343, accuraccy: 0.873\n",
      "No improvement in this epoch.\n",
      "EPOCH 31:\n"
     ]
    },
    {
     "name": "stderr",
     "output_type": "stream",
     "text": [
      "100%|██████████| 575/575 [00:07<00:00, 77.01it/s]\n"
     ]
    },
    {
     "name": "stdout",
     "output_type": "stream",
     "text": [
      "TRAIN loss: 0.526, VALIDATION loss: 0.329, accuraccy: 0.877\n",
      "No improvement in this epoch.\n",
      "EPOCH 32:\n"
     ]
    },
    {
     "name": "stderr",
     "output_type": "stream",
     "text": [
      "100%|██████████| 575/575 [00:07<00:00, 73.64it/s]\n"
     ]
    },
    {
     "name": "stdout",
     "output_type": "stream",
     "text": [
      "TRAIN loss: 0.522, VALIDATION loss: 0.314, accuraccy: 0.884\n",
      "Saving best model\n",
      "EPOCH 33:\n"
     ]
    },
    {
     "name": "stderr",
     "output_type": "stream",
     "text": [
      "100%|██████████| 575/575 [00:07<00:00, 76.58it/s]\n"
     ]
    },
    {
     "name": "stdout",
     "output_type": "stream",
     "text": [
      "TRAIN loss: 0.519, VALIDATION loss: 0.317, accuraccy: 0.883\n",
      "No improvement in this epoch.\n",
      "EPOCH 34:\n"
     ]
    },
    {
     "name": "stderr",
     "output_type": "stream",
     "text": [
      "100%|██████████| 575/575 [00:07<00:00, 76.48it/s]\n"
     ]
    },
    {
     "name": "stdout",
     "output_type": "stream",
     "text": [
      "TRAIN loss: 0.515, VALIDATION loss: 0.325, accuraccy: 0.883\n",
      "No improvement in this epoch.\n",
      "EPOCH 35:\n"
     ]
    },
    {
     "name": "stderr",
     "output_type": "stream",
     "text": [
      "100%|██████████| 575/575 [00:07<00:00, 77.55it/s]\n"
     ]
    },
    {
     "name": "stdout",
     "output_type": "stream",
     "text": [
      "TRAIN loss: 0.516, VALIDATION loss: 0.325, accuraccy: 0.879\n",
      "No improvement in this epoch.\n",
      "EPOCH 36:\n"
     ]
    },
    {
     "name": "stderr",
     "output_type": "stream",
     "text": [
      "100%|██████████| 575/575 [00:07<00:00, 76.62it/s]\n"
     ]
    },
    {
     "name": "stdout",
     "output_type": "stream",
     "text": [
      "TRAIN loss: 0.516, VALIDATION loss: 0.315, accuraccy: 0.882\n",
      "No improvement in this epoch.\n",
      "EPOCH 37:\n"
     ]
    },
    {
     "name": "stderr",
     "output_type": "stream",
     "text": [
      "100%|██████████| 575/575 [00:07<00:00, 77.20it/s]\n"
     ]
    },
    {
     "name": "stdout",
     "output_type": "stream",
     "text": [
      "TRAIN loss: 0.508, VALIDATION loss: 0.310, accuraccy: 0.885\n",
      "Saving best model\n",
      "EPOCH 38:\n"
     ]
    },
    {
     "name": "stderr",
     "output_type": "stream",
     "text": [
      "100%|██████████| 575/575 [00:07<00:00, 76.96it/s]\n"
     ]
    },
    {
     "name": "stdout",
     "output_type": "stream",
     "text": [
      "TRAIN loss: 0.516, VALIDATION loss: 0.314, accuraccy: 0.881\n",
      "No improvement in this epoch.\n",
      "EPOCH 39:\n"
     ]
    },
    {
     "name": "stderr",
     "output_type": "stream",
     "text": [
      "100%|██████████| 575/575 [00:07<00:00, 77.27it/s]\n"
     ]
    },
    {
     "name": "stdout",
     "output_type": "stream",
     "text": [
      "TRAIN loss: 0.509, VALIDATION loss: 0.345, accuraccy: 0.874\n",
      "No improvement in this epoch.\n",
      "EPOCH 40:\n"
     ]
    },
    {
     "name": "stderr",
     "output_type": "stream",
     "text": [
      "100%|██████████| 575/575 [00:07<00:00, 76.81it/s]\n"
     ]
    },
    {
     "name": "stdout",
     "output_type": "stream",
     "text": [
      "TRAIN loss: 0.515, VALIDATION loss: 0.317, accuraccy: 0.883\n",
      "No improvement in this epoch.\n",
      "EPOCH 41:\n"
     ]
    },
    {
     "name": "stderr",
     "output_type": "stream",
     "text": [
      "100%|██████████| 575/575 [00:07<00:00, 76.03it/s]\n"
     ]
    },
    {
     "name": "stdout",
     "output_type": "stream",
     "text": [
      "TRAIN loss: 0.509, VALIDATION loss: 0.353, accuraccy: 0.872\n",
      "No improvement in this epoch.\n",
      "EPOCH 42:\n"
     ]
    },
    {
     "name": "stderr",
     "output_type": "stream",
     "text": [
      "100%|██████████| 575/575 [00:07<00:00, 75.83it/s]\n"
     ]
    },
    {
     "name": "stdout",
     "output_type": "stream",
     "text": [
      "TRAIN loss: 0.514, VALIDATION loss: 0.312, accuraccy: 0.882\n",
      "No improvement in this epoch.\n",
      "EPOCH 43:\n"
     ]
    },
    {
     "name": "stderr",
     "output_type": "stream",
     "text": [
      "100%|██████████| 575/575 [00:07<00:00, 76.21it/s]\n"
     ]
    },
    {
     "name": "stdout",
     "output_type": "stream",
     "text": [
      "TRAIN loss: 0.515, VALIDATION loss: 0.335, accuraccy: 0.876\n",
      "No improvement in this epoch.\n",
      "EPOCH 44:\n"
     ]
    },
    {
     "name": "stderr",
     "output_type": "stream",
     "text": [
      "100%|██████████| 575/575 [00:07<00:00, 76.43it/s]\n"
     ]
    },
    {
     "name": "stdout",
     "output_type": "stream",
     "text": [
      "TRAIN loss: 0.507, VALIDATION loss: 0.321, accuraccy: 0.884\n",
      "No improvement in this epoch.\n",
      "EPOCH 45:\n"
     ]
    },
    {
     "name": "stderr",
     "output_type": "stream",
     "text": [
      "100%|██████████| 575/575 [00:07<00:00, 77.01it/s]\n"
     ]
    },
    {
     "name": "stdout",
     "output_type": "stream",
     "text": [
      "TRAIN loss: 0.508, VALIDATION loss: 0.315, accuraccy: 0.883\n",
      "No improvement in this epoch.\n",
      "EPOCH 46:\n"
     ]
    },
    {
     "name": "stderr",
     "output_type": "stream",
     "text": [
      "100%|██████████| 575/575 [00:07<00:00, 73.71it/s]\n"
     ]
    },
    {
     "name": "stdout",
     "output_type": "stream",
     "text": [
      "TRAIN loss: 0.520, VALIDATION loss: 0.310, accuraccy: 0.882\n",
      "No improvement in this epoch.\n",
      "EPOCH 47:\n"
     ]
    },
    {
     "name": "stderr",
     "output_type": "stream",
     "text": [
      "100%|██████████| 575/575 [00:07<00:00, 75.65it/s]\n"
     ]
    },
    {
     "name": "stdout",
     "output_type": "stream",
     "text": [
      "TRAIN loss: 0.513, VALIDATION loss: 0.316, accuraccy: 0.881\n",
      "No improvement in this epoch.\n",
      "EPOCH 48:\n"
     ]
    },
    {
     "name": "stderr",
     "output_type": "stream",
     "text": [
      "100%|██████████| 575/575 [00:07<00:00, 75.51it/s]\n"
     ]
    },
    {
     "name": "stdout",
     "output_type": "stream",
     "text": [
      "TRAIN loss: 0.513, VALIDATION loss: 0.322, accuraccy: 0.879\n",
      "No improvement in this epoch.\n",
      "EPOCH 49:\n"
     ]
    },
    {
     "name": "stderr",
     "output_type": "stream",
     "text": [
      "100%|██████████| 575/575 [00:07<00:00, 76.87it/s]\n"
     ]
    },
    {
     "name": "stdout",
     "output_type": "stream",
     "text": [
      "TRAIN loss: 0.503, VALIDATION loss: 0.325, accuraccy: 0.881\n",
      "No improvement in this epoch.\n",
      "EPOCH 50:\n"
     ]
    },
    {
     "name": "stderr",
     "output_type": "stream",
     "text": [
      "100%|██████████| 575/575 [00:07<00:00, 76.48it/s]\n"
     ]
    },
    {
     "name": "stdout",
     "output_type": "stream",
     "text": [
      "TRAIN loss: 0.509, VALIDATION loss: 0.336, accuraccy: 0.875\n",
      "No improvement in this epoch.\n",
      "EPOCH 51:\n"
     ]
    },
    {
     "name": "stderr",
     "output_type": "stream",
     "text": [
      "100%|██████████| 575/575 [00:07<00:00, 77.61it/s]\n"
     ]
    },
    {
     "name": "stdout",
     "output_type": "stream",
     "text": [
      "TRAIN loss: 0.507, VALIDATION loss: 0.308, accuraccy: 0.886\n",
      "Saving best model\n",
      "EPOCH 52:\n"
     ]
    },
    {
     "name": "stderr",
     "output_type": "stream",
     "text": [
      "100%|██████████| 575/575 [00:07<00:00, 77.23it/s]\n"
     ]
    },
    {
     "name": "stdout",
     "output_type": "stream",
     "text": [
      "TRAIN loss: 0.506, VALIDATION loss: 0.305, accuraccy: 0.883\n",
      "Saving best model\n",
      "EPOCH 53:\n"
     ]
    },
    {
     "name": "stderr",
     "output_type": "stream",
     "text": [
      "100%|██████████| 575/575 [00:07<00:00, 76.97it/s]\n"
     ]
    },
    {
     "name": "stdout",
     "output_type": "stream",
     "text": [
      "TRAIN loss: 0.506, VALIDATION loss: 0.313, accuraccy: 0.885\n",
      "No improvement in this epoch.\n",
      "EPOCH 54:\n"
     ]
    },
    {
     "name": "stderr",
     "output_type": "stream",
     "text": [
      "100%|██████████| 575/575 [00:07<00:00, 76.81it/s]\n"
     ]
    },
    {
     "name": "stdout",
     "output_type": "stream",
     "text": [
      "TRAIN loss: 0.508, VALIDATION loss: 0.321, accuraccy: 0.883\n",
      "No improvement in this epoch.\n",
      "EPOCH 55:\n"
     ]
    },
    {
     "name": "stderr",
     "output_type": "stream",
     "text": [
      "100%|██████████| 575/575 [00:07<00:00, 77.07it/s]\n"
     ]
    },
    {
     "name": "stdout",
     "output_type": "stream",
     "text": [
      "TRAIN loss: 0.505, VALIDATION loss: 0.313, accuraccy: 0.886\n",
      "No improvement in this epoch.\n",
      "EPOCH 56:\n"
     ]
    },
    {
     "name": "stderr",
     "output_type": "stream",
     "text": [
      "100%|██████████| 575/575 [00:07<00:00, 76.28it/s]\n"
     ]
    },
    {
     "name": "stdout",
     "output_type": "stream",
     "text": [
      "TRAIN loss: 0.512, VALIDATION loss: 0.321, accuraccy: 0.883\n",
      "No improvement in this epoch.\n",
      "EPOCH 57:\n"
     ]
    },
    {
     "name": "stderr",
     "output_type": "stream",
     "text": [
      "100%|██████████| 575/575 [00:07<00:00, 75.71it/s]\n"
     ]
    },
    {
     "name": "stdout",
     "output_type": "stream",
     "text": [
      "TRAIN loss: 0.503, VALIDATION loss: 0.320, accuraccy: 0.879\n",
      "No improvement in this epoch.\n",
      "EPOCH 58:\n"
     ]
    },
    {
     "name": "stderr",
     "output_type": "stream",
     "text": [
      "100%|██████████| 575/575 [00:07<00:00, 75.30it/s]\n"
     ]
    },
    {
     "name": "stdout",
     "output_type": "stream",
     "text": [
      "TRAIN loss: 0.507, VALIDATION loss: 0.312, accuraccy: 0.883\n",
      "No improvement in this epoch.\n",
      "EPOCH 59:\n"
     ]
    },
    {
     "name": "stderr",
     "output_type": "stream",
     "text": [
      "100%|██████████| 575/575 [00:07<00:00, 75.55it/s]\n"
     ]
    },
    {
     "name": "stdout",
     "output_type": "stream",
     "text": [
      "TRAIN loss: 0.506, VALIDATION loss: 0.315, accuraccy: 0.883\n",
      "No improvement in this epoch.\n",
      "EPOCH 60:\n"
     ]
    },
    {
     "name": "stderr",
     "output_type": "stream",
     "text": [
      "100%|██████████| 575/575 [00:07<00:00, 76.40it/s]\n"
     ]
    },
    {
     "name": "stdout",
     "output_type": "stream",
     "text": [
      "TRAIN loss: 0.505, VALIDATION loss: 0.307, accuraccy: 0.885\n",
      "No improvement in this epoch.\n",
      "EPOCH 61:\n"
     ]
    },
    {
     "name": "stderr",
     "output_type": "stream",
     "text": [
      "100%|██████████| 575/575 [00:07<00:00, 74.56it/s]\n"
     ]
    },
    {
     "name": "stdout",
     "output_type": "stream",
     "text": [
      "TRAIN loss: 0.512, VALIDATION loss: 0.317, accuraccy: 0.883\n",
      "No improvement in this epoch.\n",
      "EPOCH 62:\n"
     ]
    },
    {
     "name": "stderr",
     "output_type": "stream",
     "text": [
      "100%|██████████| 575/575 [00:07<00:00, 77.05it/s]\n"
     ]
    },
    {
     "name": "stdout",
     "output_type": "stream",
     "text": [
      "TRAIN loss: 0.511, VALIDATION loss: 0.318, accuraccy: 0.885\n",
      "No improvement in this epoch.\n",
      "EPOCH 63:\n"
     ]
    },
    {
     "name": "stderr",
     "output_type": "stream",
     "text": [
      "100%|██████████| 575/575 [00:07<00:00, 77.25it/s]\n"
     ]
    },
    {
     "name": "stdout",
     "output_type": "stream",
     "text": [
      "TRAIN loss: 0.507, VALIDATION loss: 0.328, accuraccy: 0.882\n",
      "No improvement in this epoch.\n",
      "EPOCH 64:\n"
     ]
    },
    {
     "name": "stderr",
     "output_type": "stream",
     "text": [
      "100%|██████████| 575/575 [00:07<00:00, 78.55it/s]\n"
     ]
    },
    {
     "name": "stdout",
     "output_type": "stream",
     "text": [
      "TRAIN loss: 0.503, VALIDATION loss: 0.322, accuraccy: 0.882\n",
      "No improvement in this epoch.\n",
      "EPOCH 65:\n"
     ]
    },
    {
     "name": "stderr",
     "output_type": "stream",
     "text": [
      "100%|██████████| 575/575 [00:07<00:00, 76.98it/s]\n"
     ]
    },
    {
     "name": "stdout",
     "output_type": "stream",
     "text": [
      "TRAIN loss: 0.509, VALIDATION loss: 0.318, accuraccy: 0.882\n",
      "No improvement in this epoch.\n",
      "EPOCH 66:\n"
     ]
    },
    {
     "name": "stderr",
     "output_type": "stream",
     "text": [
      "100%|██████████| 575/575 [00:07<00:00, 77.14it/s]\n"
     ]
    },
    {
     "name": "stdout",
     "output_type": "stream",
     "text": [
      "TRAIN loss: 0.499, VALIDATION loss: 0.309, accuraccy: 0.886\n",
      "No improvement in this epoch.\n",
      "EPOCH 67:\n"
     ]
    },
    {
     "name": "stderr",
     "output_type": "stream",
     "text": [
      "100%|██████████| 575/575 [00:07<00:00, 75.31it/s]\n"
     ]
    },
    {
     "name": "stdout",
     "output_type": "stream",
     "text": [
      "TRAIN loss: 0.505, VALIDATION loss: 0.320, accuraccy: 0.885\n",
      "No improvement in this epoch.\n",
      "EPOCH 68:\n"
     ]
    },
    {
     "name": "stderr",
     "output_type": "stream",
     "text": [
      "100%|██████████| 575/575 [00:07<00:00, 76.36it/s]\n"
     ]
    },
    {
     "name": "stdout",
     "output_type": "stream",
     "text": [
      "TRAIN loss: 0.509, VALIDATION loss: 0.333, accuraccy: 0.877\n",
      "No improvement in this epoch.\n",
      "Early stopping now\n"
     ]
    }
   ],
   "source": [
    "tr_loss2, val_loss2 = train_n_epochsCNN(conv2_model, loss_fn, optimizer2, train_norm_loader, val_norm_loader, \"savesCNN/model2\", True)\n",
    "# this time I will also try l1 regularization"
   ],
   "metadata": {
    "collapsed": false,
    "ExecuteTime": {
     "start_time": "2024-05-10T20:10:49.481489Z",
     "end_time": "2024-05-10T20:19:56.831427Z"
    }
   }
  },
  {
   "cell_type": "markdown",
   "source": [
    "- This boosted the result a bit, but accuracy is still below the required 90% level, so I'll try adding another convolutional layer and batch normalisation"
   ],
   "metadata": {
    "collapsed": false
   }
  },
  {
   "cell_type": "code",
   "execution_count": 31,
   "outputs": [],
   "source": [
    "class ConvolutionalNetwork3(nn.Module):\n",
    "    def __init__(self):\n",
    "        super(ConvolutionalNetwork3, self).__init__()\n",
    "        self.conv1 = nn.Conv2d(1, 32, kernel_size=3, padding='same')\n",
    "        self.bn1 = nn.BatchNorm2d(32)\n",
    "        self.dropout1 = nn.Dropout2d(p=0.25)  # Dropout for convolutional layers\n",
    "\n",
    "        self.conv2 = nn.Conv2d(32, 64, kernel_size=3, padding='same')\n",
    "        self.bn2 = nn.BatchNorm2d(64)\n",
    "        self.dropout2 = nn.Dropout2d(p=0.25)  # Dropout for convolutional layers\n",
    "\n",
    "        # Adding a third convolutional layer\n",
    "        self.conv3 = nn.Conv2d(64, 128, kernel_size=3, padding='same')\n",
    "        self.bn3 = nn.BatchNorm2d(128)\n",
    "        self.dropout3 = nn.Dropout2d(p=0.25)  # Dropout for convolutional layers\n",
    "\n",
    "        self.pool = nn.MaxPool2d(kernel_size=2, stride=2)\n",
    "        # Adjusting the size of the first fully connected layer input\n",
    "        self.fc1 = nn.Linear(8192, 64)  # Adjusted for new layer\n",
    "        self.dropout_fc = nn.Dropout(p=0.35)  # Higher dropout before fully connected layer\n",
    "        self.fc2 = nn.Linear(64, 10)\n",
    "\n",
    "    def forward(self, x):\n",
    "        x = F.relu(self.bn1(self.conv1(x)))\n",
    "        x = self.dropout1(x)\n",
    "        x = self.pool(x)\n",
    "\n",
    "        x = F.relu(self.bn2(self.conv2(x)))\n",
    "        x = self.dropout2(x)\n",
    "        x = self.pool(x)\n",
    "\n",
    "        x = F.relu(self.bn3(self.conv3(x)))\n",
    "        x = self.dropout3(x)\n",
    "        # x = self.pool(x)\n",
    "\n",
    "        x = x.flatten(start_dim=1)\n",
    "        x = F.relu(self.fc1(x))\n",
    "        x = self.dropout_fc(x)\n",
    "        x = self.fc2(x)\n",
    "        return x"
   ],
   "metadata": {
    "collapsed": false,
    "ExecuteTime": {
     "start_time": "2024-05-11T12:55:15.285386Z",
     "end_time": "2024-05-11T12:55:15.334353Z"
    }
   }
  },
  {
   "cell_type": "code",
   "execution_count": 32,
   "outputs": [
    {
     "data": {
      "text/plain": "ConvolutionalNetwork3(\n  (conv1): Conv2d(1, 32, kernel_size=(3, 3), stride=(1, 1), padding=same)\n  (bn1): BatchNorm2d(32, eps=1e-05, momentum=0.1, affine=True, track_running_stats=True)\n  (dropout1): Dropout2d(p=0.25, inplace=False)\n  (conv2): Conv2d(32, 64, kernel_size=(3, 3), stride=(1, 1), padding=same)\n  (bn2): BatchNorm2d(64, eps=1e-05, momentum=0.1, affine=True, track_running_stats=True)\n  (dropout2): Dropout2d(p=0.25, inplace=False)\n  (conv3): Conv2d(64, 128, kernel_size=(3, 3), stride=(1, 1), padding=same)\n  (bn3): BatchNorm2d(128, eps=1e-05, momentum=0.1, affine=True, track_running_stats=True)\n  (dropout3): Dropout2d(p=0.25, inplace=False)\n  (pool): MaxPool2d(kernel_size=2, stride=2, padding=0, dilation=1, ceil_mode=False)\n  (fc1): Linear(in_features=8192, out_features=64, bias=True)\n  (dropout_fc): Dropout(p=0.35, inplace=False)\n  (fc2): Linear(in_features=64, out_features=10, bias=True)\n)"
     },
     "execution_count": 32,
     "metadata": {},
     "output_type": "execute_result"
    }
   ],
   "source": [
    "conv3_model = ConvolutionalNetwork3()\n",
    "conv3_model.to(device)"
   ],
   "metadata": {
    "collapsed": false,
    "ExecuteTime": {
     "start_time": "2024-05-11T12:55:24.086348Z",
     "end_time": "2024-05-11T12:55:24.234663Z"
    }
   }
  },
  {
   "cell_type": "code",
   "execution_count": 142,
   "outputs": [],
   "source": [
    "optimizer3 = torch.optim.Adam(conv3_model.parameters(), weight_decay=0.0001) # now I will try l2 regularisation"
   ],
   "metadata": {
    "collapsed": false,
    "ExecuteTime": {
     "start_time": "2024-05-10T20:19:56.840605Z",
     "end_time": "2024-05-10T20:19:56.887011Z"
    }
   }
  },
  {
   "cell_type": "code",
   "execution_count": 143,
   "outputs": [
    {
     "name": "stdout",
     "output_type": "stream",
     "text": [
      "EPOCH 1:\n"
     ]
    },
    {
     "name": "stderr",
     "output_type": "stream",
     "text": [
      "100%|██████████| 575/575 [00:08<00:00, 69.23it/s]\n"
     ]
    },
    {
     "name": "stdout",
     "output_type": "stream",
     "text": [
      "TRAIN loss: 0.777, VALIDATION loss: 0.485, accuraccy: 0.815\n",
      "Saving best model\n",
      "EPOCH 2:\n"
     ]
    },
    {
     "name": "stderr",
     "output_type": "stream",
     "text": [
      "100%|██████████| 575/575 [00:08<00:00, 70.36it/s]\n"
     ]
    },
    {
     "name": "stdout",
     "output_type": "stream",
     "text": [
      "TRAIN loss: 0.577, VALIDATION loss: 0.416, accuraccy: 0.849\n",
      "Saving best model\n",
      "EPOCH 3:\n"
     ]
    },
    {
     "name": "stderr",
     "output_type": "stream",
     "text": [
      "100%|██████████| 575/575 [00:08<00:00, 68.77it/s]\n"
     ]
    },
    {
     "name": "stdout",
     "output_type": "stream",
     "text": [
      "TRAIN loss: 0.529, VALIDATION loss: 0.388, accuraccy: 0.859\n",
      "Saving best model\n",
      "EPOCH 4:\n"
     ]
    },
    {
     "name": "stderr",
     "output_type": "stream",
     "text": [
      "100%|██████████| 575/575 [00:08<00:00, 68.57it/s]\n"
     ]
    },
    {
     "name": "stdout",
     "output_type": "stream",
     "text": [
      "TRAIN loss: 0.491, VALIDATION loss: 0.382, accuraccy: 0.860\n",
      "Saving best model\n",
      "EPOCH 5:\n"
     ]
    },
    {
     "name": "stderr",
     "output_type": "stream",
     "text": [
      "100%|██████████| 575/575 [00:08<00:00, 69.25it/s]\n"
     ]
    },
    {
     "name": "stdout",
     "output_type": "stream",
     "text": [
      "TRAIN loss: 0.468, VALIDATION loss: 0.339, accuraccy: 0.876\n",
      "Saving best model\n",
      "EPOCH 6:\n"
     ]
    },
    {
     "name": "stderr",
     "output_type": "stream",
     "text": [
      "100%|██████████| 575/575 [00:08<00:00, 69.20it/s]\n"
     ]
    },
    {
     "name": "stdout",
     "output_type": "stream",
     "text": [
      "TRAIN loss: 0.449, VALIDATION loss: 0.336, accuraccy: 0.877\n",
      "Saving best model\n",
      "EPOCH 7:\n"
     ]
    },
    {
     "name": "stderr",
     "output_type": "stream",
     "text": [
      "100%|██████████| 575/575 [00:08<00:00, 69.89it/s]\n"
     ]
    },
    {
     "name": "stdout",
     "output_type": "stream",
     "text": [
      "TRAIN loss: 0.425, VALIDATION loss: 0.325, accuraccy: 0.880\n",
      "Saving best model\n",
      "EPOCH 8:\n"
     ]
    },
    {
     "name": "stderr",
     "output_type": "stream",
     "text": [
      "100%|██████████| 575/575 [00:08<00:00, 69.81it/s]\n"
     ]
    },
    {
     "name": "stdout",
     "output_type": "stream",
     "text": [
      "TRAIN loss: 0.415, VALIDATION loss: 0.313, accuraccy: 0.886\n",
      "Saving best model\n",
      "EPOCH 9:\n"
     ]
    },
    {
     "name": "stderr",
     "output_type": "stream",
     "text": [
      "100%|██████████| 575/575 [00:08<00:00, 70.15it/s]\n"
     ]
    },
    {
     "name": "stdout",
     "output_type": "stream",
     "text": [
      "TRAIN loss: 0.400, VALIDATION loss: 0.327, accuraccy: 0.883\n",
      "No improvement in this epoch.\n",
      "EPOCH 10:\n"
     ]
    },
    {
     "name": "stderr",
     "output_type": "stream",
     "text": [
      "100%|██████████| 575/575 [00:08<00:00, 67.78it/s]\n"
     ]
    },
    {
     "name": "stdout",
     "output_type": "stream",
     "text": [
      "TRAIN loss: 0.389, VALIDATION loss: 0.314, accuraccy: 0.884\n",
      "No improvement in this epoch.\n",
      "EPOCH 11:\n"
     ]
    },
    {
     "name": "stderr",
     "output_type": "stream",
     "text": [
      "100%|██████████| 575/575 [00:08<00:00, 68.70it/s]\n"
     ]
    },
    {
     "name": "stdout",
     "output_type": "stream",
     "text": [
      "TRAIN loss: 0.386, VALIDATION loss: 0.299, accuraccy: 0.891\n",
      "Saving best model\n",
      "EPOCH 12:\n"
     ]
    },
    {
     "name": "stderr",
     "output_type": "stream",
     "text": [
      "100%|██████████| 575/575 [00:08<00:00, 70.15it/s]\n"
     ]
    },
    {
     "name": "stdout",
     "output_type": "stream",
     "text": [
      "TRAIN loss: 0.371, VALIDATION loss: 0.291, accuraccy: 0.894\n",
      "Saving best model\n",
      "EPOCH 13:\n"
     ]
    },
    {
     "name": "stderr",
     "output_type": "stream",
     "text": [
      "100%|██████████| 575/575 [00:08<00:00, 69.87it/s]\n"
     ]
    },
    {
     "name": "stdout",
     "output_type": "stream",
     "text": [
      "TRAIN loss: 0.368, VALIDATION loss: 0.292, accuraccy: 0.892\n",
      "No improvement in this epoch.\n",
      "EPOCH 14:\n"
     ]
    },
    {
     "name": "stderr",
     "output_type": "stream",
     "text": [
      "100%|██████████| 575/575 [00:08<00:00, 70.05it/s]\n"
     ]
    },
    {
     "name": "stdout",
     "output_type": "stream",
     "text": [
      "TRAIN loss: 0.360, VALIDATION loss: 0.286, accuraccy: 0.900\n",
      "Saving best model\n",
      "EPOCH 15:\n"
     ]
    },
    {
     "name": "stderr",
     "output_type": "stream",
     "text": [
      "100%|██████████| 575/575 [00:08<00:00, 69.50it/s]\n"
     ]
    },
    {
     "name": "stdout",
     "output_type": "stream",
     "text": [
      "TRAIN loss: 0.355, VALIDATION loss: 0.276, accuraccy: 0.902\n",
      "Saving best model\n",
      "EPOCH 16:\n"
     ]
    },
    {
     "name": "stderr",
     "output_type": "stream",
     "text": [
      "100%|██████████| 575/575 [00:08<00:00, 70.35it/s]\n"
     ]
    },
    {
     "name": "stdout",
     "output_type": "stream",
     "text": [
      "TRAIN loss: 0.346, VALIDATION loss: 0.282, accuraccy: 0.896\n",
      "No improvement in this epoch.\n",
      "EPOCH 17:\n"
     ]
    },
    {
     "name": "stderr",
     "output_type": "stream",
     "text": [
      "100%|██████████| 575/575 [00:08<00:00, 69.74it/s]\n"
     ]
    },
    {
     "name": "stdout",
     "output_type": "stream",
     "text": [
      "TRAIN loss: 0.337, VALIDATION loss: 0.305, accuraccy: 0.886\n",
      "No improvement in this epoch.\n",
      "EPOCH 18:\n"
     ]
    },
    {
     "name": "stderr",
     "output_type": "stream",
     "text": [
      "100%|██████████| 575/575 [00:08<00:00, 69.15it/s]\n"
     ]
    },
    {
     "name": "stdout",
     "output_type": "stream",
     "text": [
      "TRAIN loss: 0.337, VALIDATION loss: 0.274, accuraccy: 0.901\n",
      "Saving best model\n",
      "EPOCH 19:\n"
     ]
    },
    {
     "name": "stderr",
     "output_type": "stream",
     "text": [
      "100%|██████████| 575/575 [00:08<00:00, 69.10it/s]\n"
     ]
    },
    {
     "name": "stdout",
     "output_type": "stream",
     "text": [
      "TRAIN loss: 0.325, VALIDATION loss: 0.273, accuraccy: 0.900\n",
      "Saving best model\n",
      "EPOCH 20:\n"
     ]
    },
    {
     "name": "stderr",
     "output_type": "stream",
     "text": [
      "100%|██████████| 575/575 [00:08<00:00, 69.42it/s]\n"
     ]
    },
    {
     "name": "stdout",
     "output_type": "stream",
     "text": [
      "TRAIN loss: 0.322, VALIDATION loss: 0.291, accuraccy: 0.894\n",
      "No improvement in this epoch.\n",
      "EPOCH 21:\n"
     ]
    },
    {
     "name": "stderr",
     "output_type": "stream",
     "text": [
      "100%|██████████| 575/575 [00:08<00:00, 70.68it/s]\n"
     ]
    },
    {
     "name": "stdout",
     "output_type": "stream",
     "text": [
      "TRAIN loss: 0.318, VALIDATION loss: 0.272, accuraccy: 0.902\n",
      "Saving best model\n",
      "EPOCH 22:\n"
     ]
    },
    {
     "name": "stderr",
     "output_type": "stream",
     "text": [
      "100%|██████████| 575/575 [00:08<00:00, 69.64it/s]\n"
     ]
    },
    {
     "name": "stdout",
     "output_type": "stream",
     "text": [
      "TRAIN loss: 0.308, VALIDATION loss: 0.258, accuraccy: 0.910\n",
      "Saving best model\n",
      "EPOCH 23:\n"
     ]
    },
    {
     "name": "stderr",
     "output_type": "stream",
     "text": [
      "100%|██████████| 575/575 [00:08<00:00, 69.10it/s]\n"
     ]
    },
    {
     "name": "stdout",
     "output_type": "stream",
     "text": [
      "TRAIN loss: 0.307, VALIDATION loss: 0.266, accuraccy: 0.905\n",
      "No improvement in this epoch.\n",
      "EPOCH 24:\n"
     ]
    },
    {
     "name": "stderr",
     "output_type": "stream",
     "text": [
      "100%|██████████| 575/575 [00:08<00:00, 69.74it/s]\n"
     ]
    },
    {
     "name": "stdout",
     "output_type": "stream",
     "text": [
      "TRAIN loss: 0.302, VALIDATION loss: 0.258, accuraccy: 0.906\n",
      "Saving best model\n",
      "EPOCH 25:\n"
     ]
    },
    {
     "name": "stderr",
     "output_type": "stream",
     "text": [
      "100%|██████████| 575/575 [00:08<00:00, 70.25it/s]\n"
     ]
    },
    {
     "name": "stdout",
     "output_type": "stream",
     "text": [
      "TRAIN loss: 0.300, VALIDATION loss: 0.279, accuraccy: 0.896\n",
      "No improvement in this epoch.\n",
      "EPOCH 26:\n"
     ]
    },
    {
     "name": "stderr",
     "output_type": "stream",
     "text": [
      "100%|██████████| 575/575 [00:08<00:00, 69.68it/s]\n"
     ]
    },
    {
     "name": "stdout",
     "output_type": "stream",
     "text": [
      "TRAIN loss: 0.297, VALIDATION loss: 0.258, accuraccy: 0.905\n",
      "Saving best model\n",
      "EPOCH 27:\n"
     ]
    },
    {
     "name": "stderr",
     "output_type": "stream",
     "text": [
      "100%|██████████| 575/575 [00:08<00:00, 69.12it/s]\n"
     ]
    },
    {
     "name": "stdout",
     "output_type": "stream",
     "text": [
      "TRAIN loss: 0.293, VALIDATION loss: 0.258, accuraccy: 0.907\n",
      "No improvement in this epoch.\n",
      "EPOCH 28:\n"
     ]
    },
    {
     "name": "stderr",
     "output_type": "stream",
     "text": [
      "100%|██████████| 575/575 [00:08<00:00, 69.33it/s]\n"
     ]
    },
    {
     "name": "stdout",
     "output_type": "stream",
     "text": [
      "TRAIN loss: 0.287, VALIDATION loss: 0.260, accuraccy: 0.906\n",
      "No improvement in this epoch.\n",
      "EPOCH 29:\n"
     ]
    },
    {
     "name": "stderr",
     "output_type": "stream",
     "text": [
      "100%|██████████| 575/575 [00:08<00:00, 69.91it/s]\n"
     ]
    },
    {
     "name": "stdout",
     "output_type": "stream",
     "text": [
      "TRAIN loss: 0.289, VALIDATION loss: 0.255, accuraccy: 0.910\n",
      "Saving best model\n",
      "EPOCH 30:\n"
     ]
    },
    {
     "name": "stderr",
     "output_type": "stream",
     "text": [
      "100%|██████████| 575/575 [00:08<00:00, 70.67it/s]\n"
     ]
    },
    {
     "name": "stdout",
     "output_type": "stream",
     "text": [
      "TRAIN loss: 0.286, VALIDATION loss: 0.264, accuraccy: 0.901\n",
      "No improvement in this epoch.\n",
      "EPOCH 31:\n"
     ]
    },
    {
     "name": "stderr",
     "output_type": "stream",
     "text": [
      "100%|██████████| 575/575 [00:08<00:00, 69.87it/s]\n"
     ]
    },
    {
     "name": "stdout",
     "output_type": "stream",
     "text": [
      "TRAIN loss: 0.276, VALIDATION loss: 0.249, accuraccy: 0.908\n",
      "Saving best model\n",
      "EPOCH 32:\n"
     ]
    },
    {
     "name": "stderr",
     "output_type": "stream",
     "text": [
      "100%|██████████| 575/575 [00:08<00:00, 70.71it/s]\n"
     ]
    },
    {
     "name": "stdout",
     "output_type": "stream",
     "text": [
      "TRAIN loss: 0.278, VALIDATION loss: 0.253, accuraccy: 0.910\n",
      "No improvement in this epoch.\n",
      "EPOCH 33:\n"
     ]
    },
    {
     "name": "stderr",
     "output_type": "stream",
     "text": [
      "100%|██████████| 575/575 [00:08<00:00, 70.06it/s]\n"
     ]
    },
    {
     "name": "stdout",
     "output_type": "stream",
     "text": [
      "TRAIN loss: 0.276, VALIDATION loss: 0.250, accuraccy: 0.911\n",
      "No improvement in this epoch.\n",
      "EPOCH 34:\n"
     ]
    },
    {
     "name": "stderr",
     "output_type": "stream",
     "text": [
      "100%|██████████| 575/575 [00:08<00:00, 69.17it/s]\n"
     ]
    },
    {
     "name": "stdout",
     "output_type": "stream",
     "text": [
      "TRAIN loss: 0.272, VALIDATION loss: 0.256, accuraccy: 0.910\n",
      "No improvement in this epoch.\n",
      "EPOCH 35:\n"
     ]
    },
    {
     "name": "stderr",
     "output_type": "stream",
     "text": [
      "100%|██████████| 575/575 [00:08<00:00, 70.91it/s]\n"
     ]
    },
    {
     "name": "stdout",
     "output_type": "stream",
     "text": [
      "TRAIN loss: 0.270, VALIDATION loss: 0.251, accuraccy: 0.909\n",
      "No improvement in this epoch.\n",
      "EPOCH 36:\n"
     ]
    },
    {
     "name": "stderr",
     "output_type": "stream",
     "text": [
      "100%|██████████| 575/575 [00:08<00:00, 70.10it/s]\n"
     ]
    },
    {
     "name": "stdout",
     "output_type": "stream",
     "text": [
      "TRAIN loss: 0.267, VALIDATION loss: 0.251, accuraccy: 0.910\n",
      "No improvement in this epoch.\n",
      "EPOCH 37:\n"
     ]
    },
    {
     "name": "stderr",
     "output_type": "stream",
     "text": [
      "100%|██████████| 575/575 [00:08<00:00, 69.52it/s]\n"
     ]
    },
    {
     "name": "stdout",
     "output_type": "stream",
     "text": [
      "TRAIN loss: 0.262, VALIDATION loss: 0.250, accuraccy: 0.908\n",
      "No improvement in this epoch.\n",
      "EPOCH 38:\n"
     ]
    },
    {
     "name": "stderr",
     "output_type": "stream",
     "text": [
      "100%|██████████| 575/575 [00:08<00:00, 68.68it/s]\n"
     ]
    },
    {
     "name": "stdout",
     "output_type": "stream",
     "text": [
      "TRAIN loss: 0.262, VALIDATION loss: 0.252, accuraccy: 0.909\n",
      "No improvement in this epoch.\n",
      "EPOCH 39:\n"
     ]
    },
    {
     "name": "stderr",
     "output_type": "stream",
     "text": [
      "100%|██████████| 575/575 [00:08<00:00, 69.36it/s]\n"
     ]
    },
    {
     "name": "stdout",
     "output_type": "stream",
     "text": [
      "TRAIN loss: 0.264, VALIDATION loss: 0.249, accuraccy: 0.909\n",
      "Saving best model\n",
      "EPOCH 40:\n"
     ]
    },
    {
     "name": "stderr",
     "output_type": "stream",
     "text": [
      "100%|██████████| 575/575 [00:08<00:00, 70.52it/s]\n"
     ]
    },
    {
     "name": "stdout",
     "output_type": "stream",
     "text": [
      "TRAIN loss: 0.261, VALIDATION loss: 0.243, accuraccy: 0.911\n",
      "Saving best model\n",
      "EPOCH 41:\n"
     ]
    },
    {
     "name": "stderr",
     "output_type": "stream",
     "text": [
      "100%|██████████| 575/575 [00:08<00:00, 69.90it/s]\n"
     ]
    },
    {
     "name": "stdout",
     "output_type": "stream",
     "text": [
      "TRAIN loss: 0.255, VALIDATION loss: 0.237, accuraccy: 0.915\n",
      "Saving best model\n",
      "EPOCH 42:\n"
     ]
    },
    {
     "name": "stderr",
     "output_type": "stream",
     "text": [
      "100%|██████████| 575/575 [00:08<00:00, 70.56it/s]\n"
     ]
    },
    {
     "name": "stdout",
     "output_type": "stream",
     "text": [
      "TRAIN loss: 0.256, VALIDATION loss: 0.259, accuraccy: 0.906\n",
      "No improvement in this epoch.\n",
      "EPOCH 43:\n"
     ]
    },
    {
     "name": "stderr",
     "output_type": "stream",
     "text": [
      "100%|██████████| 575/575 [00:08<00:00, 68.54it/s]\n"
     ]
    },
    {
     "name": "stdout",
     "output_type": "stream",
     "text": [
      "TRAIN loss: 0.253, VALIDATION loss: 0.244, accuraccy: 0.914\n",
      "No improvement in this epoch.\n",
      "EPOCH 44:\n"
     ]
    },
    {
     "name": "stderr",
     "output_type": "stream",
     "text": [
      "100%|██████████| 575/575 [00:08<00:00, 69.60it/s]\n"
     ]
    },
    {
     "name": "stdout",
     "output_type": "stream",
     "text": [
      "TRAIN loss: 0.256, VALIDATION loss: 0.257, accuraccy: 0.906\n",
      "No improvement in this epoch.\n",
      "EPOCH 45:\n"
     ]
    },
    {
     "name": "stderr",
     "output_type": "stream",
     "text": [
      "100%|██████████| 575/575 [00:08<00:00, 70.69it/s]\n"
     ]
    },
    {
     "name": "stdout",
     "output_type": "stream",
     "text": [
      "TRAIN loss: 0.251, VALIDATION loss: 0.240, accuraccy: 0.911\n",
      "No improvement in this epoch.\n",
      "EPOCH 46:\n"
     ]
    },
    {
     "name": "stderr",
     "output_type": "stream",
     "text": [
      "100%|██████████| 575/575 [00:08<00:00, 68.27it/s]\n"
     ]
    },
    {
     "name": "stdout",
     "output_type": "stream",
     "text": [
      "TRAIN loss: 0.251, VALIDATION loss: 0.242, accuraccy: 0.912\n",
      "No improvement in this epoch.\n",
      "EPOCH 47:\n"
     ]
    },
    {
     "name": "stderr",
     "output_type": "stream",
     "text": [
      "100%|██████████| 575/575 [00:08<00:00, 69.53it/s]\n"
     ]
    },
    {
     "name": "stdout",
     "output_type": "stream",
     "text": [
      "TRAIN loss: 0.247, VALIDATION loss: 0.244, accuraccy: 0.911\n",
      "No improvement in this epoch.\n",
      "EPOCH 48:\n"
     ]
    },
    {
     "name": "stderr",
     "output_type": "stream",
     "text": [
      "100%|██████████| 575/575 [00:08<00:00, 69.66it/s]\n"
     ]
    },
    {
     "name": "stdout",
     "output_type": "stream",
     "text": [
      "TRAIN loss: 0.248, VALIDATION loss: 0.246, accuraccy: 0.907\n",
      "No improvement in this epoch.\n",
      "EPOCH 49:\n"
     ]
    },
    {
     "name": "stderr",
     "output_type": "stream",
     "text": [
      "100%|██████████| 575/575 [00:08<00:00, 69.88it/s]\n"
     ]
    },
    {
     "name": "stdout",
     "output_type": "stream",
     "text": [
      "TRAIN loss: 0.242, VALIDATION loss: 0.257, accuraccy: 0.907\n",
      "No improvement in this epoch.\n",
      "EPOCH 50:\n"
     ]
    },
    {
     "name": "stderr",
     "output_type": "stream",
     "text": [
      "100%|██████████| 575/575 [00:08<00:00, 69.52it/s]\n"
     ]
    },
    {
     "name": "stdout",
     "output_type": "stream",
     "text": [
      "TRAIN loss: 0.244, VALIDATION loss: 0.240, accuraccy: 0.914\n",
      "No improvement in this epoch.\n",
      "EPOCH 51:\n"
     ]
    },
    {
     "name": "stderr",
     "output_type": "stream",
     "text": [
      "100%|██████████| 575/575 [00:08<00:00, 70.25it/s]\n"
     ]
    },
    {
     "name": "stdout",
     "output_type": "stream",
     "text": [
      "TRAIN loss: 0.242, VALIDATION loss: 0.242, accuraccy: 0.913\n",
      "No improvement in this epoch.\n",
      "EPOCH 52:\n"
     ]
    },
    {
     "name": "stderr",
     "output_type": "stream",
     "text": [
      "100%|██████████| 575/575 [00:08<00:00, 69.63it/s]\n"
     ]
    },
    {
     "name": "stdout",
     "output_type": "stream",
     "text": [
      "TRAIN loss: 0.243, VALIDATION loss: 0.244, accuraccy: 0.914\n",
      "No improvement in this epoch.\n",
      "EPOCH 53:\n"
     ]
    },
    {
     "name": "stderr",
     "output_type": "stream",
     "text": [
      "100%|██████████| 575/575 [00:08<00:00, 69.43it/s]\n"
     ]
    },
    {
     "name": "stdout",
     "output_type": "stream",
     "text": [
      "TRAIN loss: 0.240, VALIDATION loss: 0.250, accuraccy: 0.915\n",
      "No improvement in this epoch.\n",
      "EPOCH 54:\n"
     ]
    },
    {
     "name": "stderr",
     "output_type": "stream",
     "text": [
      "100%|██████████| 575/575 [00:08<00:00, 69.89it/s]\n"
     ]
    },
    {
     "name": "stdout",
     "output_type": "stream",
     "text": [
      "TRAIN loss: 0.238, VALIDATION loss: 0.244, accuraccy: 0.913\n",
      "No improvement in this epoch.\n",
      "EPOCH 55:\n"
     ]
    },
    {
     "name": "stderr",
     "output_type": "stream",
     "text": [
      "100%|██████████| 575/575 [00:08<00:00, 69.71it/s]\n"
     ]
    },
    {
     "name": "stdout",
     "output_type": "stream",
     "text": [
      "TRAIN loss: 0.238, VALIDATION loss: 0.242, accuraccy: 0.910\n",
      "No improvement in this epoch.\n",
      "EPOCH 56:\n"
     ]
    },
    {
     "name": "stderr",
     "output_type": "stream",
     "text": [
      "100%|██████████| 575/575 [00:08<00:00, 67.78it/s]\n"
     ]
    },
    {
     "name": "stdout",
     "output_type": "stream",
     "text": [
      "TRAIN loss: 0.244, VALIDATION loss: 0.245, accuraccy: 0.907\n",
      "No improvement in this epoch.\n",
      "EPOCH 57:\n"
     ]
    },
    {
     "name": "stderr",
     "output_type": "stream",
     "text": [
      "100%|██████████| 575/575 [00:08<00:00, 70.55it/s]\n"
     ]
    },
    {
     "name": "stdout",
     "output_type": "stream",
     "text": [
      "TRAIN loss: 0.238, VALIDATION loss: 0.247, accuraccy: 0.913\n",
      "No improvement in this epoch.\n",
      "Early stopping now\n"
     ]
    }
   ],
   "source": [
    "tr_loss3, val_loss3 = train_n_epochsCNN(conv3_model, loss_fn, optimizer3, train_norm_loader, val_norm_loader, \"savesCNN/model3.pt\")"
   ],
   "metadata": {
    "collapsed": false,
    "ExecuteTime": {
     "start_time": "2024-05-10T20:19:56.864261Z",
     "end_time": "2024-05-10T20:28:03.745591Z"
    }
   }
  },
  {
   "cell_type": "code",
   "execution_count": 91,
   "outputs": [],
   "source": [
    "class ModifiedAlexNet(nn.Module):\n",
    "    def __init__(self):\n",
    "        super(ModifiedAlexNet, self).__init__()\n",
    "        # Convolutional layers\n",
    "        self.conv1 = nn.Conv2d(1, 64, kernel_size=3, stride=1, padding=1)\n",
    "        self.bn1 = nn.BatchNorm2d(64)\n",
    "        self.conv2 = nn.Conv2d(64, 128, kernel_size=3, padding=1)\n",
    "        self.bn2 = nn.BatchNorm2d(128)\n",
    "        self.conv3 = nn.Conv2d(128, 256, kernel_size=3, padding=1)\n",
    "        self.bn3 = nn.BatchNorm2d(256)\n",
    "        self.conv4 = nn.Conv2d(256, 256, kernel_size=3, padding=1)\n",
    "        self.bn4 = nn.BatchNorm2d(256)\n",
    "        self.conv5 = nn.Conv2d(256, 128, kernel_size=3, padding=1)\n",
    "        self.bn5 = nn.BatchNorm2d(128)\n",
    "\n",
    "        # Pooling layers\n",
    "        self.pool = nn.AvgPool2d(kernel_size=2, stride=2)\n",
    "\n",
    "        # Fully connected layers\n",
    "        self.fc1 = nn.Linear(128 * 4 * 4, 1024)\n",
    "        self.fc2 = nn.Linear(1024, 512)\n",
    "        self.fc3 = nn.Linear(512, 10)\n",
    "\n",
    "        # Dropout layers\n",
    "        self.dropout = nn.Dropout(0.25)\n",
    "\n",
    "    def forward(self, x):\n",
    "        x = self.conv1(x)\n",
    "        x = self.bn1(x)\n",
    "        x = F.relu(x)\n",
    "        x = self.pool(x)\n",
    "\n",
    "        x = self.conv2(x)\n",
    "        x = self.bn2(x)\n",
    "        x = F.relu(x)\n",
    "        x = self.pool(x)\n",
    "\n",
    "        x = self.conv3(x)\n",
    "        x = self.bn3(x)\n",
    "        x = F.relu(x)\n",
    "\n",
    "        x = self.conv4(x)\n",
    "        x = self.bn4(x)\n",
    "        x = F.relu(x)\n",
    "\n",
    "        x = self.conv5(x)\n",
    "        x = self.bn5(x)\n",
    "        x = F.relu(x)\n",
    "        x = self.pool(x)\n",
    "\n",
    "        x = x.flatten(start_dim=1)\n",
    "        x = self.fc1(x)\n",
    "        x = F.relu(x)\n",
    "        x = self.dropout(x)\n",
    "        x = self.fc2(x)\n",
    "        x = F.relu(x)\n",
    "        x = self.dropout(x)\n",
    "        x = self.fc3(x)\n",
    "        return x\n"
   ],
   "metadata": {
    "collapsed": false,
    "ExecuteTime": {
     "start_time": "2024-05-10T18:38:14.841542Z",
     "end_time": "2024-05-10T18:38:14.859678Z"
    }
   }
  },
  {
   "cell_type": "markdown",
   "source": [
    "- Here I will try to adapt the alexNet architecture for our images, i.e. I use 5 convolutional layers and three fully connected layers. I also decided to try average pooling instead of maxpooling."
   ],
   "metadata": {
    "collapsed": false
   }
  },
  {
   "cell_type": "code",
   "execution_count": 151,
   "outputs": [
    {
     "data": {
      "text/plain": "ModifiedAlexNet(\n  (conv1): Conv2d(1, 64, kernel_size=(3, 3), stride=(1, 1), padding=(1, 1))\n  (bn1): BatchNorm2d(64, eps=1e-05, momentum=0.1, affine=True, track_running_stats=True)\n  (conv2): Conv2d(64, 128, kernel_size=(3, 3), stride=(1, 1), padding=(1, 1))\n  (bn2): BatchNorm2d(128, eps=1e-05, momentum=0.1, affine=True, track_running_stats=True)\n  (conv3): Conv2d(128, 256, kernel_size=(3, 3), stride=(1, 1), padding=(1, 1))\n  (bn3): BatchNorm2d(256, eps=1e-05, momentum=0.1, affine=True, track_running_stats=True)\n  (conv4): Conv2d(256, 256, kernel_size=(3, 3), stride=(1, 1), padding=(1, 1))\n  (bn4): BatchNorm2d(256, eps=1e-05, momentum=0.1, affine=True, track_running_stats=True)\n  (conv5): Conv2d(256, 128, kernel_size=(3, 3), stride=(1, 1), padding=(1, 1))\n  (bn5): BatchNorm2d(128, eps=1e-05, momentum=0.1, affine=True, track_running_stats=True)\n  (pool): AvgPool2d(kernel_size=2, stride=2, padding=0)\n  (fc1): Linear(in_features=2048, out_features=1024, bias=True)\n  (fc2): Linear(in_features=1024, out_features=512, bias=True)\n  (fc3): Linear(in_features=512, out_features=10, bias=True)\n  (dropout): Dropout(p=0.25, inplace=False)\n)"
     },
     "execution_count": 151,
     "metadata": {},
     "output_type": "execute_result"
    }
   ],
   "source": [
    "conv4_model = ModifiedAlexNet()\n",
    "conv4_model.to(device)"
   ],
   "metadata": {
    "collapsed": false,
    "ExecuteTime": {
     "start_time": "2024-05-10T21:00:36.181273Z",
     "end_time": "2024-05-10T21:00:36.222095Z"
    }
   }
  },
  {
   "cell_type": "code",
   "execution_count": 152,
   "outputs": [],
   "source": [
    "optimizer4 = torch.optim.Adam(conv4_model.parameters(), weight_decay=0.001) # l2 reg"
   ],
   "metadata": {
    "collapsed": false,
    "ExecuteTime": {
     "start_time": "2024-05-10T21:00:38.046389Z",
     "end_time": "2024-05-10T21:00:38.056318Z"
    }
   }
  },
  {
   "cell_type": "code",
   "execution_count": 153,
   "outputs": [
    {
     "name": "stdout",
     "output_type": "stream",
     "text": [
      "EPOCH 1:\n"
     ]
    },
    {
     "name": "stderr",
     "output_type": "stream",
     "text": [
      "100%|██████████| 575/575 [00:15<00:00, 38.16it/s]\n"
     ]
    },
    {
     "name": "stdout",
     "output_type": "stream",
     "text": [
      "TRAIN loss: 0.620, VALIDATION loss: 0.460, accuraccy: 0.828\n",
      "Saving best model\n",
      "EPOCH 2:\n"
     ]
    },
    {
     "name": "stderr",
     "output_type": "stream",
     "text": [
      "100%|██████████| 575/575 [00:15<00:00, 38.32it/s]\n"
     ]
    },
    {
     "name": "stdout",
     "output_type": "stream",
     "text": [
      "TRAIN loss: 0.443, VALIDATION loss: 0.434, accuraccy: 0.839\n",
      "Saving best model\n",
      "EPOCH 3:\n"
     ]
    },
    {
     "name": "stderr",
     "output_type": "stream",
     "text": [
      "100%|██████████| 575/575 [00:15<00:00, 38.19it/s]\n"
     ]
    },
    {
     "name": "stdout",
     "output_type": "stream",
     "text": [
      "TRAIN loss: 0.401, VALIDATION loss: 0.358, accuraccy: 0.867\n",
      "Saving best model\n",
      "EPOCH 4:\n"
     ]
    },
    {
     "name": "stderr",
     "output_type": "stream",
     "text": [
      "100%|██████████| 575/575 [00:15<00:00, 38.21it/s]\n"
     ]
    },
    {
     "name": "stdout",
     "output_type": "stream",
     "text": [
      "TRAIN loss: 0.371, VALIDATION loss: 0.344, accuraccy: 0.876\n",
      "Saving best model\n",
      "EPOCH 5:\n"
     ]
    },
    {
     "name": "stderr",
     "output_type": "stream",
     "text": [
      "100%|██████████| 575/575 [00:15<00:00, 38.29it/s]\n"
     ]
    },
    {
     "name": "stdout",
     "output_type": "stream",
     "text": [
      "TRAIN loss: 0.353, VALIDATION loss: 0.351, accuraccy: 0.873\n",
      "No improvement in this epoch.\n",
      "EPOCH 6:\n"
     ]
    },
    {
     "name": "stderr",
     "output_type": "stream",
     "text": [
      "100%|██████████| 575/575 [00:15<00:00, 37.80it/s]\n"
     ]
    },
    {
     "name": "stdout",
     "output_type": "stream",
     "text": [
      "TRAIN loss: 0.333, VALIDATION loss: 0.334, accuraccy: 0.880\n",
      "Saving best model\n",
      "EPOCH 7:\n"
     ]
    },
    {
     "name": "stderr",
     "output_type": "stream",
     "text": [
      "100%|██████████| 575/575 [00:15<00:00, 37.87it/s]\n"
     ]
    },
    {
     "name": "stdout",
     "output_type": "stream",
     "text": [
      "TRAIN loss: 0.324, VALIDATION loss: 0.305, accuraccy: 0.888\n",
      "Saving best model\n",
      "EPOCH 8:\n"
     ]
    },
    {
     "name": "stderr",
     "output_type": "stream",
     "text": [
      "100%|██████████| 575/575 [00:15<00:00, 38.20it/s]\n"
     ]
    },
    {
     "name": "stdout",
     "output_type": "stream",
     "text": [
      "TRAIN loss: 0.308, VALIDATION loss: 0.294, accuraccy: 0.892\n",
      "Saving best model\n",
      "EPOCH 9:\n"
     ]
    },
    {
     "name": "stderr",
     "output_type": "stream",
     "text": [
      "100%|██████████| 575/575 [00:15<00:00, 37.83it/s]\n"
     ]
    },
    {
     "name": "stdout",
     "output_type": "stream",
     "text": [
      "TRAIN loss: 0.302, VALIDATION loss: 0.298, accuraccy: 0.892\n",
      "No improvement in this epoch.\n",
      "EPOCH 10:\n"
     ]
    },
    {
     "name": "stderr",
     "output_type": "stream",
     "text": [
      "100%|██████████| 575/575 [00:15<00:00, 38.12it/s]\n"
     ]
    },
    {
     "name": "stdout",
     "output_type": "stream",
     "text": [
      "TRAIN loss: 0.297, VALIDATION loss: 0.348, accuraccy: 0.877\n",
      "No improvement in this epoch.\n",
      "EPOCH 11:\n"
     ]
    },
    {
     "name": "stderr",
     "output_type": "stream",
     "text": [
      "100%|██████████| 575/575 [00:15<00:00, 37.89it/s]\n"
     ]
    },
    {
     "name": "stdout",
     "output_type": "stream",
     "text": [
      "TRAIN loss: 0.291, VALIDATION loss: 0.290, accuraccy: 0.895\n",
      "Saving best model\n",
      "EPOCH 12:\n"
     ]
    },
    {
     "name": "stderr",
     "output_type": "stream",
     "text": [
      "100%|██████████| 575/575 [00:15<00:00, 37.70it/s]\n"
     ]
    },
    {
     "name": "stdout",
     "output_type": "stream",
     "text": [
      "TRAIN loss: 0.283, VALIDATION loss: 0.351, accuraccy: 0.884\n",
      "No improvement in this epoch.\n",
      "EPOCH 13:\n"
     ]
    },
    {
     "name": "stderr",
     "output_type": "stream",
     "text": [
      "100%|██████████| 575/575 [00:14<00:00, 38.44it/s]\n"
     ]
    },
    {
     "name": "stdout",
     "output_type": "stream",
     "text": [
      "TRAIN loss: 0.274, VALIDATION loss: 0.310, accuraccy: 0.886\n",
      "No improvement in this epoch.\n",
      "EPOCH 14:\n"
     ]
    },
    {
     "name": "stderr",
     "output_type": "stream",
     "text": [
      "100%|██████████| 575/575 [00:15<00:00, 37.99it/s]\n"
     ]
    },
    {
     "name": "stdout",
     "output_type": "stream",
     "text": [
      "TRAIN loss: 0.271, VALIDATION loss: 0.309, accuraccy: 0.885\n",
      "No improvement in this epoch.\n",
      "EPOCH 15:\n"
     ]
    },
    {
     "name": "stderr",
     "output_type": "stream",
     "text": [
      "100%|██████████| 575/575 [00:15<00:00, 38.04it/s]\n"
     ]
    },
    {
     "name": "stdout",
     "output_type": "stream",
     "text": [
      "TRAIN loss: 0.268, VALIDATION loss: 0.305, accuraccy: 0.890\n",
      "No improvement in this epoch.\n",
      "EPOCH 16:\n"
     ]
    },
    {
     "name": "stderr",
     "output_type": "stream",
     "text": [
      "100%|██████████| 575/575 [00:15<00:00, 37.96it/s]\n"
     ]
    },
    {
     "name": "stdout",
     "output_type": "stream",
     "text": [
      "TRAIN loss: 0.264, VALIDATION loss: 0.288, accuraccy: 0.901\n",
      "Saving best model\n",
      "EPOCH 17:\n"
     ]
    },
    {
     "name": "stderr",
     "output_type": "stream",
     "text": [
      "100%|██████████| 575/575 [00:15<00:00, 37.98it/s]\n"
     ]
    },
    {
     "name": "stdout",
     "output_type": "stream",
     "text": [
      "TRAIN loss: 0.258, VALIDATION loss: 0.263, accuraccy: 0.904\n",
      "Saving best model\n",
      "EPOCH 18:\n"
     ]
    },
    {
     "name": "stderr",
     "output_type": "stream",
     "text": [
      "100%|██████████| 575/575 [00:14<00:00, 38.47it/s]\n"
     ]
    },
    {
     "name": "stdout",
     "output_type": "stream",
     "text": [
      "TRAIN loss: 0.260, VALIDATION loss: 0.273, accuraccy: 0.902\n",
      "No improvement in this epoch.\n",
      "EPOCH 19:\n"
     ]
    },
    {
     "name": "stderr",
     "output_type": "stream",
     "text": [
      "100%|██████████| 575/575 [00:15<00:00, 38.05it/s]\n"
     ]
    },
    {
     "name": "stdout",
     "output_type": "stream",
     "text": [
      "TRAIN loss: 0.251, VALIDATION loss: 0.300, accuraccy: 0.892\n",
      "No improvement in this epoch.\n",
      "EPOCH 20:\n"
     ]
    },
    {
     "name": "stderr",
     "output_type": "stream",
     "text": [
      "100%|██████████| 575/575 [00:15<00:00, 38.26it/s]\n"
     ]
    },
    {
     "name": "stdout",
     "output_type": "stream",
     "text": [
      "TRAIN loss: 0.254, VALIDATION loss: 0.279, accuraccy: 0.894\n",
      "No improvement in this epoch.\n",
      "EPOCH 21:\n"
     ]
    },
    {
     "name": "stderr",
     "output_type": "stream",
     "text": [
      "100%|██████████| 575/575 [00:15<00:00, 38.23it/s]\n"
     ]
    },
    {
     "name": "stdout",
     "output_type": "stream",
     "text": [
      "TRAIN loss: 0.250, VALIDATION loss: 0.297, accuraccy: 0.895\n",
      "No improvement in this epoch.\n",
      "EPOCH 22:\n"
     ]
    },
    {
     "name": "stderr",
     "output_type": "stream",
     "text": [
      "100%|██████████| 575/575 [00:15<00:00, 38.33it/s]\n"
     ]
    },
    {
     "name": "stdout",
     "output_type": "stream",
     "text": [
      "TRAIN loss: 0.244, VALIDATION loss: 0.264, accuraccy: 0.901\n",
      "No improvement in this epoch.\n",
      "EPOCH 23:\n"
     ]
    },
    {
     "name": "stderr",
     "output_type": "stream",
     "text": [
      "100%|██████████| 575/575 [00:14<00:00, 38.50it/s]\n"
     ]
    },
    {
     "name": "stdout",
     "output_type": "stream",
     "text": [
      "TRAIN loss: 0.248, VALIDATION loss: 0.295, accuraccy: 0.890\n",
      "No improvement in this epoch.\n",
      "EPOCH 24:\n"
     ]
    },
    {
     "name": "stderr",
     "output_type": "stream",
     "text": [
      "100%|██████████| 575/575 [00:15<00:00, 38.27it/s]\n"
     ]
    },
    {
     "name": "stdout",
     "output_type": "stream",
     "text": [
      "TRAIN loss: 0.240, VALIDATION loss: 0.263, accuraccy: 0.904\n",
      "No improvement in this epoch.\n",
      "EPOCH 25:\n"
     ]
    },
    {
     "name": "stderr",
     "output_type": "stream",
     "text": [
      "100%|██████████| 575/575 [00:14<00:00, 38.79it/s]\n"
     ]
    },
    {
     "name": "stdout",
     "output_type": "stream",
     "text": [
      "TRAIN loss: 0.239, VALIDATION loss: 0.263, accuraccy: 0.905\n",
      "No improvement in this epoch.\n",
      "EPOCH 26:\n"
     ]
    },
    {
     "name": "stderr",
     "output_type": "stream",
     "text": [
      "100%|██████████| 575/575 [00:14<00:00, 38.60it/s]\n"
     ]
    },
    {
     "name": "stdout",
     "output_type": "stream",
     "text": [
      "TRAIN loss: 0.238, VALIDATION loss: 0.297, accuraccy: 0.892\n",
      "No improvement in this epoch.\n",
      "EPOCH 27:\n"
     ]
    },
    {
     "name": "stderr",
     "output_type": "stream",
     "text": [
      "100%|██████████| 575/575 [00:14<00:00, 38.70it/s]\n"
     ]
    },
    {
     "name": "stdout",
     "output_type": "stream",
     "text": [
      "TRAIN loss: 0.237, VALIDATION loss: 0.280, accuraccy: 0.898\n",
      "No improvement in this epoch.\n",
      "EPOCH 28:\n"
     ]
    },
    {
     "name": "stderr",
     "output_type": "stream",
     "text": [
      "100%|██████████| 575/575 [00:14<00:00, 38.41it/s]\n"
     ]
    },
    {
     "name": "stdout",
     "output_type": "stream",
     "text": [
      "TRAIN loss: 0.232, VALIDATION loss: 0.386, accuraccy: 0.874\n",
      "No improvement in this epoch.\n",
      "EPOCH 29:\n"
     ]
    },
    {
     "name": "stderr",
     "output_type": "stream",
     "text": [
      "100%|██████████| 575/575 [00:14<00:00, 38.59it/s]\n"
     ]
    },
    {
     "name": "stdout",
     "output_type": "stream",
     "text": [
      "TRAIN loss: 0.233, VALIDATION loss: 0.258, accuraccy: 0.908\n",
      "Saving best model\n",
      "EPOCH 30:\n"
     ]
    },
    {
     "name": "stderr",
     "output_type": "stream",
     "text": [
      "100%|██████████| 575/575 [00:14<00:00, 38.34it/s]\n"
     ]
    },
    {
     "name": "stdout",
     "output_type": "stream",
     "text": [
      "TRAIN loss: 0.236, VALIDATION loss: 0.299, accuraccy: 0.895\n",
      "No improvement in this epoch.\n",
      "EPOCH 31:\n"
     ]
    },
    {
     "name": "stderr",
     "output_type": "stream",
     "text": [
      "100%|██████████| 575/575 [00:14<00:00, 38.50it/s]\n"
     ]
    },
    {
     "name": "stdout",
     "output_type": "stream",
     "text": [
      "TRAIN loss: 0.228, VALIDATION loss: 0.275, accuraccy: 0.903\n",
      "No improvement in this epoch.\n",
      "EPOCH 32:\n"
     ]
    },
    {
     "name": "stderr",
     "output_type": "stream",
     "text": [
      "100%|██████████| 575/575 [00:14<00:00, 38.41it/s]\n"
     ]
    },
    {
     "name": "stdout",
     "output_type": "stream",
     "text": [
      "TRAIN loss: 0.227, VALIDATION loss: 0.275, accuraccy: 0.901\n",
      "No improvement in this epoch.\n",
      "EPOCH 33:\n"
     ]
    },
    {
     "name": "stderr",
     "output_type": "stream",
     "text": [
      "100%|██████████| 575/575 [00:14<00:00, 38.59it/s]\n"
     ]
    },
    {
     "name": "stdout",
     "output_type": "stream",
     "text": [
      "TRAIN loss: 0.225, VALIDATION loss: 0.268, accuraccy: 0.904\n",
      "No improvement in this epoch.\n",
      "EPOCH 34:\n"
     ]
    },
    {
     "name": "stderr",
     "output_type": "stream",
     "text": [
      "100%|██████████| 575/575 [00:15<00:00, 38.24it/s]\n"
     ]
    },
    {
     "name": "stdout",
     "output_type": "stream",
     "text": [
      "TRAIN loss: 0.221, VALIDATION loss: 0.289, accuraccy: 0.895\n",
      "No improvement in this epoch.\n",
      "EPOCH 35:\n"
     ]
    },
    {
     "name": "stderr",
     "output_type": "stream",
     "text": [
      "100%|██████████| 575/575 [00:14<00:00, 38.41it/s]\n"
     ]
    },
    {
     "name": "stdout",
     "output_type": "stream",
     "text": [
      "TRAIN loss: 0.222, VALIDATION loss: 0.285, accuraccy: 0.899\n",
      "No improvement in this epoch.\n",
      "EPOCH 36:\n"
     ]
    },
    {
     "name": "stderr",
     "output_type": "stream",
     "text": [
      "100%|██████████| 575/575 [00:14<00:00, 39.02it/s]\n"
     ]
    },
    {
     "name": "stdout",
     "output_type": "stream",
     "text": [
      "TRAIN loss: 0.222, VALIDATION loss: 0.305, accuraccy: 0.895\n",
      "No improvement in this epoch.\n",
      "EPOCH 37:\n"
     ]
    },
    {
     "name": "stderr",
     "output_type": "stream",
     "text": [
      "100%|██████████| 575/575 [00:14<00:00, 38.71it/s]\n"
     ]
    },
    {
     "name": "stdout",
     "output_type": "stream",
     "text": [
      "TRAIN loss: 0.221, VALIDATION loss: 0.272, accuraccy: 0.902\n",
      "No improvement in this epoch.\n",
      "EPOCH 38:\n"
     ]
    },
    {
     "name": "stderr",
     "output_type": "stream",
     "text": [
      "100%|██████████| 575/575 [00:14<00:00, 38.89it/s]\n"
     ]
    },
    {
     "name": "stdout",
     "output_type": "stream",
     "text": [
      "TRAIN loss: 0.215, VALIDATION loss: 0.301, accuraccy: 0.893\n",
      "No improvement in this epoch.\n",
      "EPOCH 39:\n"
     ]
    },
    {
     "name": "stderr",
     "output_type": "stream",
     "text": [
      "100%|██████████| 575/575 [00:14<00:00, 38.99it/s]\n"
     ]
    },
    {
     "name": "stdout",
     "output_type": "stream",
     "text": [
      "TRAIN loss: 0.218, VALIDATION loss: 0.301, accuraccy: 0.898\n",
      "No improvement in this epoch.\n",
      "EPOCH 40:\n"
     ]
    },
    {
     "name": "stderr",
     "output_type": "stream",
     "text": [
      "100%|██████████| 575/575 [00:14<00:00, 38.72it/s]\n"
     ]
    },
    {
     "name": "stdout",
     "output_type": "stream",
     "text": [
      "TRAIN loss: 0.219, VALIDATION loss: 0.251, accuraccy: 0.911\n",
      "Saving best model\n",
      "EPOCH 41:\n"
     ]
    },
    {
     "name": "stderr",
     "output_type": "stream",
     "text": [
      "100%|██████████| 575/575 [00:14<00:00, 38.48it/s]\n"
     ]
    },
    {
     "name": "stdout",
     "output_type": "stream",
     "text": [
      "TRAIN loss: 0.217, VALIDATION loss: 0.260, accuraccy: 0.907\n",
      "No improvement in this epoch.\n",
      "EPOCH 42:\n"
     ]
    },
    {
     "name": "stderr",
     "output_type": "stream",
     "text": [
      "100%|██████████| 575/575 [00:14<00:00, 38.40it/s]\n"
     ]
    },
    {
     "name": "stdout",
     "output_type": "stream",
     "text": [
      "TRAIN loss: 0.214, VALIDATION loss: 0.262, accuraccy: 0.907\n",
      "No improvement in this epoch.\n",
      "EPOCH 43:\n"
     ]
    },
    {
     "name": "stderr",
     "output_type": "stream",
     "text": [
      "100%|██████████| 575/575 [00:14<00:00, 39.10it/s]\n"
     ]
    },
    {
     "name": "stdout",
     "output_type": "stream",
     "text": [
      "TRAIN loss: 0.212, VALIDATION loss: 0.263, accuraccy: 0.906\n",
      "No improvement in this epoch.\n",
      "EPOCH 44:\n"
     ]
    },
    {
     "name": "stderr",
     "output_type": "stream",
     "text": [
      "100%|██████████| 575/575 [00:14<00:00, 38.53it/s]\n"
     ]
    },
    {
     "name": "stdout",
     "output_type": "stream",
     "text": [
      "TRAIN loss: 0.215, VALIDATION loss: 0.278, accuraccy: 0.902\n",
      "No improvement in this epoch.\n",
      "EPOCH 45:\n"
     ]
    },
    {
     "name": "stderr",
     "output_type": "stream",
     "text": [
      "100%|██████████| 575/575 [00:14<00:00, 38.80it/s]\n"
     ]
    },
    {
     "name": "stdout",
     "output_type": "stream",
     "text": [
      "TRAIN loss: 0.209, VALIDATION loss: 0.332, accuraccy: 0.885\n",
      "No improvement in this epoch.\n",
      "EPOCH 46:\n"
     ]
    },
    {
     "name": "stderr",
     "output_type": "stream",
     "text": [
      "100%|██████████| 575/575 [00:15<00:00, 37.95it/s]\n"
     ]
    },
    {
     "name": "stdout",
     "output_type": "stream",
     "text": [
      "TRAIN loss: 0.212, VALIDATION loss: 0.312, accuraccy: 0.895\n",
      "No improvement in this epoch.\n",
      "EPOCH 47:\n"
     ]
    },
    {
     "name": "stderr",
     "output_type": "stream",
     "text": [
      "100%|██████████| 575/575 [00:14<00:00, 38.89it/s]\n"
     ]
    },
    {
     "name": "stdout",
     "output_type": "stream",
     "text": [
      "TRAIN loss: 0.212, VALIDATION loss: 0.252, accuraccy: 0.910\n",
      "No improvement in this epoch.\n",
      "EPOCH 48:\n"
     ]
    },
    {
     "name": "stderr",
     "output_type": "stream",
     "text": [
      "100%|██████████| 575/575 [00:14<00:00, 38.73it/s]\n"
     ]
    },
    {
     "name": "stdout",
     "output_type": "stream",
     "text": [
      "TRAIN loss: 0.211, VALIDATION loss: 0.416, accuraccy: 0.866\n",
      "No improvement in this epoch.\n",
      "EPOCH 49:\n"
     ]
    },
    {
     "name": "stderr",
     "output_type": "stream",
     "text": [
      "100%|██████████| 575/575 [00:14<00:00, 38.64it/s]\n"
     ]
    },
    {
     "name": "stdout",
     "output_type": "stream",
     "text": [
      "TRAIN loss: 0.212, VALIDATION loss: 0.261, accuraccy: 0.906\n",
      "No improvement in this epoch.\n",
      "EPOCH 50:\n"
     ]
    },
    {
     "name": "stderr",
     "output_type": "stream",
     "text": [
      "100%|██████████| 575/575 [00:14<00:00, 38.90it/s]\n"
     ]
    },
    {
     "name": "stdout",
     "output_type": "stream",
     "text": [
      "TRAIN loss: 0.206, VALIDATION loss: 0.273, accuraccy: 0.903\n",
      "No improvement in this epoch.\n",
      "EPOCH 51:\n"
     ]
    },
    {
     "name": "stderr",
     "output_type": "stream",
     "text": [
      "100%|██████████| 575/575 [00:14<00:00, 39.00it/s]\n"
     ]
    },
    {
     "name": "stdout",
     "output_type": "stream",
     "text": [
      "TRAIN loss: 0.205, VALIDATION loss: 0.282, accuraccy: 0.900\n",
      "No improvement in this epoch.\n",
      "EPOCH 52:\n"
     ]
    },
    {
     "name": "stderr",
     "output_type": "stream",
     "text": [
      "100%|██████████| 575/575 [00:14<00:00, 39.21it/s]\n"
     ]
    },
    {
     "name": "stdout",
     "output_type": "stream",
     "text": [
      "TRAIN loss: 0.210, VALIDATION loss: 0.300, accuraccy: 0.893\n",
      "No improvement in this epoch.\n",
      "EPOCH 53:\n"
     ]
    },
    {
     "name": "stderr",
     "output_type": "stream",
     "text": [
      "100%|██████████| 575/575 [00:14<00:00, 39.09it/s]\n"
     ]
    },
    {
     "name": "stdout",
     "output_type": "stream",
     "text": [
      "TRAIN loss: 0.204, VALIDATION loss: 0.266, accuraccy: 0.908\n",
      "No improvement in this epoch.\n",
      "EPOCH 54:\n"
     ]
    },
    {
     "name": "stderr",
     "output_type": "stream",
     "text": [
      "100%|██████████| 575/575 [00:14<00:00, 38.39it/s]\n"
     ]
    },
    {
     "name": "stdout",
     "output_type": "stream",
     "text": [
      "TRAIN loss: 0.206, VALIDATION loss: 0.254, accuraccy: 0.913\n",
      "No improvement in this epoch.\n",
      "EPOCH 55:\n"
     ]
    },
    {
     "name": "stderr",
     "output_type": "stream",
     "text": [
      "100%|██████████| 575/575 [00:14<00:00, 39.33it/s]\n"
     ]
    },
    {
     "name": "stdout",
     "output_type": "stream",
     "text": [
      "TRAIN loss: 0.202, VALIDATION loss: 0.269, accuraccy: 0.904\n",
      "No improvement in this epoch.\n",
      "EPOCH 56:\n"
     ]
    },
    {
     "name": "stderr",
     "output_type": "stream",
     "text": [
      "100%|██████████| 575/575 [00:14<00:00, 38.88it/s]\n"
     ]
    },
    {
     "name": "stdout",
     "output_type": "stream",
     "text": [
      "TRAIN loss: 0.202, VALIDATION loss: 0.281, accuraccy: 0.899\n",
      "No improvement in this epoch.\n",
      "Early stopping now\n"
     ]
    }
   ],
   "source": [
    "tr_loss4, val_loss4 = train_n_epochsCNN(conv4_model, loss_fn, optimizer4, train_norm_loader, val_norm_loader, \"savesCNN/model4.pt\")"
   ],
   "metadata": {
    "collapsed": false,
    "ExecuteTime": {
     "start_time": "2024-05-10T21:00:39.553134Z",
     "end_time": "2024-05-10T21:15:15.316334Z"
    }
   }
  },
  {
   "cell_type": "markdown",
   "source": [
    "# Best CNN"
   ],
   "metadata": {
    "collapsed": false
   }
  },
  {
   "cell_type": "code",
   "execution_count": 165,
   "outputs": [],
   "source": [
    "def print_best_validation_losses(model_losses):\n",
    "    \"\"\"\n",
    "    Prints the best validation loss for each provided model.\n",
    "    \"\"\"\n",
    "    for model_name, losses in model_losses.items():\n",
    "        min_loss = min(losses)\n",
    "        print(f'Best validation loss for the {model_name} model is {min_loss:.4f}')"
   ],
   "metadata": {
    "collapsed": false,
    "ExecuteTime": {
     "start_time": "2024-05-10T21:57:17.028854Z",
     "end_time": "2024-05-10T21:57:17.035611Z"
    }
   }
  },
  {
   "cell_type": "code",
   "execution_count": 166,
   "outputs": [
    {
     "name": "stdout",
     "output_type": "stream",
     "text": [
      "Best validation loss for the 1_1 model is 0.4080\n",
      "Best validation loss for the 1_2 model is 0.3286\n",
      "Best validation loss for the 2 model is 0.3051\n",
      "Best validation loss for the 3 model is 0.2371\n",
      "Best validation loss for the 4 model is 0.2513\n"
     ]
    }
   ],
   "source": [
    "model_losses = {\n",
    "    '1_1': val_loss1_1,\n",
    "    '1_2': val_loss1_2,\n",
    "    '2': val_loss2,\n",
    "    '3': val_loss3,\n",
    "    '4': val_loss4\n",
    "}\n",
    "print_best_validation_losses(model_losses)"
   ],
   "metadata": {
    "collapsed": false,
    "ExecuteTime": {
     "start_time": "2024-05-10T21:57:19.046230Z",
     "end_time": "2024-05-10T21:57:19.055950Z"
    }
   }
  },
  {
   "cell_type": "markdown",
   "source": [
    "- As we can see the best result on the validation set was shown by the third model"
   ],
   "metadata": {
    "collapsed": false
   }
  },
  {
   "cell_type": "code",
   "execution_count": 184,
   "outputs": [],
   "source": [
    "def plot_training_history(train_losses, val_losses):\n",
    "    \"\"\"\n",
    "    Plot the training and validation loss history.\n",
    "\n",
    "    Args:\n",
    "    train_losses (list of float): List of training loss values per epoch.\n",
    "    val_losses (list of float): List of validation loss values per epoch.\n",
    "    \"\"\"\n",
    "    epochs = range(1, len(train_losses) + 1)\n",
    "\n",
    "    plt.figure(figsize=(12, 6))\n",
    "    plt.plot(epochs, train_losses, 'bo-', label='Training Loss')\n",
    "    plt.plot(epochs, val_losses, 'ro-', label='Validation Loss')\n",
    "    plt.grid(True)\n",
    "    min_val_loss_idx = val_losses.index(min(val_losses))\n",
    "    min_val_loss = min(val_losses)\n",
    "    plt.annotate(f'Min validation loss: {min_val_loss:.4f}',\n",
    "             xy=(min_val_loss_idx + 1, min_val_loss),\n",
    "             xytext=(min_val_loss_idx + 1, min_val_loss + 0.01),\n",
    "             arrowprops=dict(facecolor='green', shrink=0.05),\n",
    "             horizontalalignment='right', verticalalignment='top')\n",
    "    plt.title('Training and Validation Loss')\n",
    "    plt.xlabel('Epochs')\n",
    "    plt.ylabel('Loss')\n",
    "    plt.legend()\n",
    "\n",
    "    plt.show()"
   ],
   "metadata": {
    "collapsed": false,
    "ExecuteTime": {
     "start_time": "2024-05-10T22:30:31.035722Z",
     "end_time": "2024-05-10T22:30:31.157447Z"
    }
   }
  },
  {
   "cell_type": "code",
   "execution_count": 178,
   "outputs": [],
   "source": [
    "val_losses_np = [loss.item() for loss in val_loss3]"
   ],
   "metadata": {
    "collapsed": false,
    "ExecuteTime": {
     "start_time": "2024-05-10T22:26:27.181579Z",
     "end_time": "2024-05-10T22:26:27.232424Z"
    }
   }
  },
  {
   "cell_type": "code",
   "execution_count": 185,
   "outputs": [
    {
     "data": {
      "text/plain": "<Figure size 1200x600 with 1 Axes>",
      "image/png": "[encoded data removed]"
     },
     "metadata": {},
     "output_type": "display_data"
    }
   ],
   "source": [
    "plot_training_history(tr_loss3, val_losses_np)"
   ],
   "metadata": {
    "collapsed": false,
    "ExecuteTime": {
     "start_time": "2024-05-10T22:30:32.972820Z",
     "end_time": "2024-05-10T22:30:33.212074Z"
    }
   }
  },
  {
   "cell_type": "code",
   "execution_count": 33,
   "outputs": [
    {
     "data": {
      "text/plain": "ConvolutionalNetwork3(\n  (conv1): Conv2d(1, 32, kernel_size=(3, 3), stride=(1, 1), padding=same)\n  (bn1): BatchNorm2d(32, eps=1e-05, momentum=0.1, affine=True, track_running_stats=True)\n  (dropout1): Dropout2d(p=0.25, inplace=False)\n  (conv2): Conv2d(32, 64, kernel_size=(3, 3), stride=(1, 1), padding=same)\n  (bn2): BatchNorm2d(64, eps=1e-05, momentum=0.1, affine=True, track_running_stats=True)\n  (dropout2): Dropout2d(p=0.25, inplace=False)\n  (conv3): Conv2d(64, 128, kernel_size=(3, 3), stride=(1, 1), padding=same)\n  (bn3): BatchNorm2d(128, eps=1e-05, momentum=0.1, affine=True, track_running_stats=True)\n  (dropout3): Dropout2d(p=0.25, inplace=False)\n  (pool): MaxPool2d(kernel_size=2, stride=2, padding=0, dilation=1, ceil_mode=False)\n  (fc1): Linear(in_features=8192, out_features=64, bias=True)\n  (dropout_fc): Dropout(p=0.35, inplace=False)\n  (fc2): Linear(in_features=64, out_features=10, bias=True)\n)"
     },
     "execution_count": 33,
     "metadata": {},
     "output_type": "execute_result"
    }
   ],
   "source": [
    "conv3_model.load_state_dict(torch.load('savesCNN/model3.pt'))\n",
    "conv3_model.eval()"
   ],
   "metadata": {
    "collapsed": false,
    "ExecuteTime": {
     "start_time": "2024-05-11T12:55:50.339424Z",
     "end_time": "2024-05-11T12:55:50.425042Z"
    }
   }
  },
  {
   "cell_type": "code",
   "execution_count": 37,
   "outputs": [
    {
     "name": "stderr",
     "output_type": "stream",
     "text": [
      "                                                                    "
     ]
    },
    {
     "name": "stdout",
     "output_type": "stream",
     "text": [
      "Validate accuracy: 0.914540\n"
     ]
    },
    {
     "name": "stderr",
     "output_type": "stream",
     "text": [
      "\r"
     ]
    }
   ],
   "source": [
    "y, pred = evaluate_model(conv3_model, val_norm_loader, device)"
   ],
   "metadata": {
    "collapsed": false,
    "ExecuteTime": {
     "start_time": "2024-05-11T12:58:29.639017Z",
     "end_time": "2024-05-11T12:58:30.080832Z"
    }
   }
  },
  {
   "cell_type": "code",
   "execution_count": 208,
   "outputs": [
    {
     "data": {
      "text/plain": "<Figure size 1000x800 with 1 Axes>",
      "image/png": "[encoded data removed]"
     },
     "metadata": {},
     "output_type": "display_data"
    }
   ],
   "source": [
    "cnf_mtx = confusion_matrix(y, pred)\n",
    "plt.figure(figsize=(10, 8))\n",
    "plot_confusion_matrix(cnf_mtx, classes=class_names, title='Confusion matrix without normalisation' )\n",
    "plt.show()"
   ],
   "metadata": {
    "collapsed": false,
    "ExecuteTime": {
     "start_time": "2024-05-10T23:07:10.983718Z",
     "end_time": "2024-05-10T23:07:11.415817Z"
    }
   }
  },
  {
   "cell_type": "code",
   "execution_count": 209,
   "outputs": [
    {
     "data": {
      "text/plain": "<Figure size 1000x800 with 1 Axes>",
      "image/png": "[encoded data removed]"
     },
     "metadata": {},
     "output_type": "display_data"
    }
   ],
   "source": [
    "plt.figure(figsize=(10, 8))\n",
    "plot_confusion_matrix(cnf_mtx, classes=class_names, title='Confusion matrix with normalisation', normalize=True)\n",
    "plt.show()"
   ],
   "metadata": {
    "collapsed": false,
    "ExecuteTime": {
     "start_time": "2024-05-10T23:07:21.104672Z",
     "end_time": "2024-05-10T23:07:21.483124Z"
    }
   }
  },
  {
   "cell_type": "markdown",
   "source": [
    "- Based on the presented confusion matrix, it can be seen that the overall classification accuracy has improved and most classes have a high proportion of correct predictions, with diagonal values exceeding 0.9. However, the sixth class continues to face accuracy problems with a significant number of classification errors."
   ],
   "metadata": {
    "collapsed": false
   }
  },
  {
   "cell_type": "markdown",
   "source": [
    "# Best model"
   ],
   "metadata": {
    "collapsed": false
   }
  },
  {
   "cell_type": "code",
   "execution_count": 45,
   "outputs": [
    {
     "data": {
      "text/plain": "ConvolutionalNetwork3(\n  (conv1): Conv2d(1, 32, kernel_size=(3, 3), stride=(1, 1), padding=same)\n  (bn1): BatchNorm2d(32, eps=1e-05, momentum=0.1, affine=True, track_running_stats=True)\n  (dropout1): Dropout2d(p=0.25, inplace=False)\n  (conv2): Conv2d(32, 64, kernel_size=(3, 3), stride=(1, 1), padding=same)\n  (bn2): BatchNorm2d(64, eps=1e-05, momentum=0.1, affine=True, track_running_stats=True)\n  (dropout2): Dropout2d(p=0.25, inplace=False)\n  (conv3): Conv2d(64, 128, kernel_size=(3, 3), stride=(1, 1), padding=same)\n  (bn3): BatchNorm2d(128, eps=1e-05, momentum=0.1, affine=True, track_running_stats=True)\n  (dropout3): Dropout2d(p=0.25, inplace=False)\n  (pool): MaxPool2d(kernel_size=2, stride=2, padding=0, dilation=1, ceil_mode=False)\n  (fc1): Linear(in_features=8192, out_features=64, bias=True)\n  (dropout_fc): Dropout(p=0.35, inplace=False)\n  (fc2): Linear(in_features=64, out_features=10, bias=True)\n)"
     },
     "execution_count": 45,
     "metadata": {},
     "output_type": "execute_result"
    }
   ],
   "source": [
    "conv3_model.eval()"
   ],
   "metadata": {
    "collapsed": false,
    "ExecuteTime": {
     "start_time": "2024-05-11T13:13:06.938309Z",
     "end_time": "2024-05-11T13:13:06.993635Z"
    }
   }
  },
  {
   "cell_type": "code",
   "execution_count": 46,
   "outputs": [
    {
     "name": "stderr",
     "output_type": "stream",
     "text": [
      "                                                                    "
     ]
    },
    {
     "name": "stdout",
     "output_type": "stream",
     "text": [
      "Test accuracy: 0.9103\n"
     ]
    },
    {
     "name": "stderr",
     "output_type": "stream",
     "text": [
      "\r"
     ]
    }
   ],
   "source": [
    "test_predictions = np.zeros(len(test_norm_loader.dataset))\n",
    "test_y = np.zeros(len(test_norm_loader.dataset))\n",
    "index = 0\n",
    "\n",
    "for data in tqdm(test_norm_loader, desc=\"Evaluating model\", leave=False):\n",
    "    inputs, labels = data\n",
    "    inputs, labels = inputs.to(device), labels.to(device)\n",
    "\n",
    "    with torch.no_grad():\n",
    "        outputs = conv3_model(inputs)\n",
    "\n",
    "\n",
    "    test_predictions[index:(index + inputs.shape[0])] = outputs.argmax(1).cpu().numpy()\n",
    "    test_y[index:(index + inputs.shape[0])] = labels.cpu().numpy()\n",
    "    index += inputs.shape[0]\n",
    "\n",
    "print(f\"Test accuracy: {accuracy_score(test_y, test_predictions):.4f}\")"
   ],
   "metadata": {
    "collapsed": false,
    "ExecuteTime": {
     "start_time": "2024-05-11T13:13:19.855080Z",
     "end_time": "2024-05-11T13:13:20.313254Z"
    }
   }
  },
  {
   "cell_type": "markdown",
   "source": [
    "- We can assume that the accuracy on the new data will be around 0.91 (I hope so)."
   ],
   "metadata": {
    "collapsed": false
   }
  },
  {
   "cell_type": "markdown",
   "source": [
    "## Retrain best model"
   ],
   "metadata": {
    "collapsed": false
   }
  },
  {
   "cell_type": "markdown",
   "source": [
    "- I will try to train the model again with the same parameters but use more data in training. I had a split of 70 training set, 15 validation and 15 test set. Now I will split 80 for training and 20 for validation. I will have more data to train but also make sure to prevent overtraining. This approach may slightly improve the accuracy of the model prediction"
   ],
   "metadata": {
    "collapsed": false
   }
  },
  {
   "cell_type": "code",
   "execution_count": 49,
   "outputs": [],
   "source": [
    "data = pd.read_csv(\"train.csv\")"
   ],
   "metadata": {
    "collapsed": false,
    "ExecuteTime": {
     "start_time": "2024-05-11T13:49:12.981044Z",
     "end_time": "2024-05-11T13:49:17.512990Z"
    }
   }
  },
  {
   "cell_type": "code",
   "execution_count": 85,
   "outputs": [],
   "source": [
    "X = data.iloc[:, :1024].values  # pixel data\n",
    "y = data['label'].values   # labels"
   ],
   "metadata": {
    "collapsed": false,
    "ExecuteTime": {
     "start_time": "2024-05-11T14:07:50.801703Z",
     "end_time": "2024-05-11T14:07:50.827721Z"
    }
   }
  },
  {
   "cell_type": "code",
   "execution_count": 86,
   "outputs": [],
   "source": [
    "X_best_train, X_best_val, y_best_train, y_best_val = train_test_split(X, y, test_size=0.2, random_state=367) # 80% training, 20% val"
   ],
   "metadata": {
    "collapsed": false,
    "ExecuteTime": {
     "start_time": "2024-05-11T14:07:51.172650Z",
     "end_time": "2024-05-11T14:07:52.202229Z"
    }
   }
  },
  {
   "cell_type": "code",
   "execution_count": 87,
   "outputs": [],
   "source": [
    "X_best_train =  X_best_train / 255.0  # the best results were on normalised data\n",
    "X_best_val = X_best_val / 255.0"
   ],
   "metadata": {
    "collapsed": false,
    "ExecuteTime": {
     "start_time": "2024-05-11T14:07:52.107940Z",
     "end_time": "2024-05-11T14:07:52.610402Z"
    }
   }
  },
  {
   "cell_type": "code",
   "execution_count": 88,
   "outputs": [],
   "source": [
    "train_best_dataset = CustomDataset(X_best_train, y_best_train, transform=transform_norm)\n",
    "val_best_dataset = CustomDataset(X_best_val, y_best_val, transform=basic_transform) # no augmentation for validate data"
   ],
   "metadata": {
    "collapsed": false,
    "ExecuteTime": {
     "start_time": "2024-05-11T14:07:52.591559Z",
     "end_time": "2024-05-11T14:07:52.653081Z"
    }
   }
  },
  {
   "cell_type": "code",
   "execution_count": 89,
   "outputs": [],
   "source": [
    "sampler_best = RandomSampler(train_best_dataset, generator=generator)\n",
    "train_best_loader = DataLoader(train_best_dataset, batch_size=64, shuffle=False, sampler=sampler_best)\n",
    "val_best_loader = DataLoader(val_best_dataset, batch_size=64, shuffle=False)"
   ],
   "metadata": {
    "collapsed": false,
    "ExecuteTime": {
     "start_time": "2024-05-11T14:07:52.600619Z",
     "end_time": "2024-05-11T14:07:52.666183Z"
    }
   }
  },
  {
   "cell_type": "code",
   "execution_count": 90,
   "outputs": [
    {
     "data": {
      "text/plain": "ConvolutionalNetwork3(\n  (conv1): Conv2d(1, 32, kernel_size=(3, 3), stride=(1, 1), padding=same)\n  (bn1): BatchNorm2d(32, eps=1e-05, momentum=0.1, affine=True, track_running_stats=True)\n  (dropout1): Dropout2d(p=0.25, inplace=False)\n  (conv2): Conv2d(32, 64, kernel_size=(3, 3), stride=(1, 1), padding=same)\n  (bn2): BatchNorm2d(64, eps=1e-05, momentum=0.1, affine=True, track_running_stats=True)\n  (dropout2): Dropout2d(p=0.25, inplace=False)\n  (conv3): Conv2d(64, 128, kernel_size=(3, 3), stride=(1, 1), padding=same)\n  (bn3): BatchNorm2d(128, eps=1e-05, momentum=0.1, affine=True, track_running_stats=True)\n  (dropout3): Dropout2d(p=0.25, inplace=False)\n  (pool): MaxPool2d(kernel_size=2, stride=2, padding=0, dilation=1, ceil_mode=False)\n  (fc1): Linear(in_features=8192, out_features=64, bias=True)\n  (dropout_fc): Dropout(p=0.35, inplace=False)\n  (fc2): Linear(in_features=64, out_features=10, bias=True)\n)"
     },
     "execution_count": 90,
     "metadata": {},
     "output_type": "execute_result"
    }
   ],
   "source": [
    "best_model = ConvolutionalNetwork3()\n",
    "best_model.to(device)"
   ],
   "metadata": {
    "collapsed": false,
    "ExecuteTime": {
     "start_time": "2024-05-11T14:07:53.101897Z",
     "end_time": "2024-05-11T14:07:53.155612Z"
    }
   }
  },
  {
   "cell_type": "code",
   "execution_count": 91,
   "outputs": [],
   "source": [
    "loss_fn = torch.nn.CrossEntropyLoss()"
   ],
   "metadata": {
    "collapsed": false,
    "ExecuteTime": {
     "start_time": "2024-05-11T14:07:54.324695Z",
     "end_time": "2024-05-11T14:07:54.346731Z"
    }
   }
  },
  {
   "cell_type": "code",
   "execution_count": 92,
   "outputs": [],
   "source": [
    "optimizer = torch.optim.Adam(best_model.parameters(), weight_decay=0.0001)"
   ],
   "metadata": {
    "collapsed": false,
    "ExecuteTime": {
     "start_time": "2024-05-11T14:07:55.290201Z",
     "end_time": "2024-05-11T14:07:55.314905Z"
    }
   }
  },
  {
   "cell_type": "code",
   "execution_count": 93,
   "outputs": [
    {
     "name": "stdout",
     "output_type": "stream",
     "text": [
      "EPOCH 1:\n"
     ]
    },
    {
     "name": "stderr",
     "output_type": "stream",
     "text": [
      "100%|██████████| 657/657 [00:11<00:00, 58.26it/s]\n"
     ]
    },
    {
     "name": "stdout",
     "output_type": "stream",
     "text": [
      "TRAIN loss: 0.857, VALIDATION loss: 0.505, accuraccy: 0.814\n",
      "Saving best model\n",
      "EPOCH 2:\n"
     ]
    },
    {
     "name": "stderr",
     "output_type": "stream",
     "text": [
      "100%|██████████| 657/657 [00:11<00:00, 56.66it/s]\n"
     ]
    },
    {
     "name": "stdout",
     "output_type": "stream",
     "text": [
      "TRAIN loss: 0.657, VALIDATION loss: 0.461, accuraccy: 0.829\n",
      "Saving best model\n",
      "EPOCH 3:\n"
     ]
    },
    {
     "name": "stderr",
     "output_type": "stream",
     "text": [
      "100%|██████████| 657/657 [00:10<00:00, 62.47it/s]\n"
     ]
    },
    {
     "name": "stdout",
     "output_type": "stream",
     "text": [
      "TRAIN loss: 0.608, VALIDATION loss: 0.423, accuraccy: 0.846\n",
      "Saving best model\n",
      "EPOCH 4:\n"
     ]
    },
    {
     "name": "stderr",
     "output_type": "stream",
     "text": [
      "100%|██████████| 657/657 [00:10<00:00, 60.06it/s]\n"
     ]
    },
    {
     "name": "stdout",
     "output_type": "stream",
     "text": [
      "TRAIN loss: 0.567, VALIDATION loss: 0.409, accuraccy: 0.847\n",
      "Saving best model\n",
      "EPOCH 5:\n"
     ]
    },
    {
     "name": "stderr",
     "output_type": "stream",
     "text": [
      "100%|██████████| 657/657 [00:10<00:00, 60.83it/s]\n"
     ]
    },
    {
     "name": "stdout",
     "output_type": "stream",
     "text": [
      "TRAIN loss: 0.552, VALIDATION loss: 0.380, accuraccy: 0.861\n",
      "Saving best model\n",
      "EPOCH 6:\n"
     ]
    },
    {
     "name": "stderr",
     "output_type": "stream",
     "text": [
      "100%|██████████| 657/657 [00:10<00:00, 63.04it/s]\n"
     ]
    },
    {
     "name": "stdout",
     "output_type": "stream",
     "text": [
      "TRAIN loss: 0.528, VALIDATION loss: 0.367, accuraccy: 0.863\n",
      "Saving best model\n",
      "EPOCH 7:\n"
     ]
    },
    {
     "name": "stderr",
     "output_type": "stream",
     "text": [
      "100%|██████████| 657/657 [00:10<00:00, 60.31it/s]\n"
     ]
    },
    {
     "name": "stdout",
     "output_type": "stream",
     "text": [
      "TRAIN loss: 0.512, VALIDATION loss: 0.350, accuraccy: 0.875\n",
      "Saving best model\n",
      "EPOCH 8:\n"
     ]
    },
    {
     "name": "stderr",
     "output_type": "stream",
     "text": [
      "100%|██████████| 657/657 [00:10<00:00, 62.24it/s]\n"
     ]
    },
    {
     "name": "stdout",
     "output_type": "stream",
     "text": [
      "TRAIN loss: 0.502, VALIDATION loss: 0.339, accuraccy: 0.875\n",
      "Saving best model\n",
      "EPOCH 9:\n"
     ]
    },
    {
     "name": "stderr",
     "output_type": "stream",
     "text": [
      "100%|██████████| 657/657 [00:10<00:00, 63.43it/s]\n"
     ]
    },
    {
     "name": "stdout",
     "output_type": "stream",
     "text": [
      "TRAIN loss: 0.475, VALIDATION loss: 0.350, accuraccy: 0.872\n",
      "No improvement in this epoch.\n",
      "EPOCH 10:\n"
     ]
    },
    {
     "name": "stderr",
     "output_type": "stream",
     "text": [
      "100%|██████████| 657/657 [00:10<00:00, 61.65it/s]\n"
     ]
    },
    {
     "name": "stdout",
     "output_type": "stream",
     "text": [
      "TRAIN loss: 0.454, VALIDATION loss: 0.330, accuraccy: 0.879\n",
      "Saving best model\n",
      "EPOCH 11:\n"
     ]
    },
    {
     "name": "stderr",
     "output_type": "stream",
     "text": [
      "100%|██████████| 657/657 [00:10<00:00, 62.97it/s]\n"
     ]
    },
    {
     "name": "stdout",
     "output_type": "stream",
     "text": [
      "TRAIN loss: 0.449, VALIDATION loss: 0.328, accuraccy: 0.880\n",
      "Saving best model\n",
      "EPOCH 12:\n"
     ]
    },
    {
     "name": "stderr",
     "output_type": "stream",
     "text": [
      "100%|██████████| 657/657 [00:09<00:00, 66.97it/s]\n"
     ]
    },
    {
     "name": "stdout",
     "output_type": "stream",
     "text": [
      "TRAIN loss: 0.436, VALIDATION loss: 0.319, accuraccy: 0.884\n",
      "Saving best model\n",
      "EPOCH 13:\n"
     ]
    },
    {
     "name": "stderr",
     "output_type": "stream",
     "text": [
      "100%|██████████| 657/657 [00:10<00:00, 65.59it/s]\n"
     ]
    },
    {
     "name": "stdout",
     "output_type": "stream",
     "text": [
      "TRAIN loss: 0.427, VALIDATION loss: 0.328, accuraccy: 0.878\n",
      "No improvement in this epoch.\n",
      "EPOCH 14:\n"
     ]
    },
    {
     "name": "stderr",
     "output_type": "stream",
     "text": [
      "100%|██████████| 657/657 [00:10<00:00, 65.52it/s]\n"
     ]
    },
    {
     "name": "stdout",
     "output_type": "stream",
     "text": [
      "TRAIN loss: 0.412, VALIDATION loss: 0.311, accuraccy: 0.886\n",
      "Saving best model\n",
      "EPOCH 15:\n"
     ]
    },
    {
     "name": "stderr",
     "output_type": "stream",
     "text": [
      "100%|██████████| 657/657 [00:09<00:00, 66.75it/s]\n"
     ]
    },
    {
     "name": "stdout",
     "output_type": "stream",
     "text": [
      "TRAIN loss: 0.400, VALIDATION loss: 0.298, accuraccy: 0.888\n",
      "Saving best model\n",
      "EPOCH 16:\n"
     ]
    },
    {
     "name": "stderr",
     "output_type": "stream",
     "text": [
      "100%|██████████| 657/657 [00:09<00:00, 66.68it/s]\n"
     ]
    },
    {
     "name": "stdout",
     "output_type": "stream",
     "text": [
      "TRAIN loss: 0.386, VALIDATION loss: 0.299, accuraccy: 0.889\n",
      "No improvement in this epoch.\n",
      "EPOCH 17:\n"
     ]
    },
    {
     "name": "stderr",
     "output_type": "stream",
     "text": [
      "100%|██████████| 657/657 [00:10<00:00, 65.68it/s]\n"
     ]
    },
    {
     "name": "stdout",
     "output_type": "stream",
     "text": [
      "TRAIN loss: 0.379, VALIDATION loss: 0.305, accuraccy: 0.889\n",
      "No improvement in this epoch.\n",
      "EPOCH 18:\n"
     ]
    },
    {
     "name": "stderr",
     "output_type": "stream",
     "text": [
      "100%|██████████| 657/657 [00:10<00:00, 65.05it/s]\n"
     ]
    },
    {
     "name": "stdout",
     "output_type": "stream",
     "text": [
      "TRAIN loss: 0.374, VALIDATION loss: 0.286, accuraccy: 0.897\n",
      "Saving best model\n",
      "EPOCH 19:\n"
     ]
    },
    {
     "name": "stderr",
     "output_type": "stream",
     "text": [
      "100%|██████████| 657/657 [00:10<00:00, 64.08it/s]\n"
     ]
    },
    {
     "name": "stdout",
     "output_type": "stream",
     "text": [
      "TRAIN loss: 0.362, VALIDATION loss: 0.301, accuraccy: 0.893\n",
      "No improvement in this epoch.\n",
      "EPOCH 20:\n"
     ]
    },
    {
     "name": "stderr",
     "output_type": "stream",
     "text": [
      "100%|██████████| 657/657 [00:10<00:00, 63.60it/s]\n"
     ]
    },
    {
     "name": "stdout",
     "output_type": "stream",
     "text": [
      "TRAIN loss: 0.359, VALIDATION loss: 0.290, accuraccy: 0.894\n",
      "No improvement in this epoch.\n",
      "EPOCH 21:\n"
     ]
    },
    {
     "name": "stderr",
     "output_type": "stream",
     "text": [
      "100%|██████████| 657/657 [00:10<00:00, 65.43it/s]\n"
     ]
    },
    {
     "name": "stdout",
     "output_type": "stream",
     "text": [
      "TRAIN loss: 0.354, VALIDATION loss: 0.290, accuraccy: 0.893\n",
      "No improvement in this epoch.\n",
      "EPOCH 22:\n"
     ]
    },
    {
     "name": "stderr",
     "output_type": "stream",
     "text": [
      "100%|██████████| 657/657 [00:09<00:00, 66.44it/s]\n"
     ]
    },
    {
     "name": "stdout",
     "output_type": "stream",
     "text": [
      "TRAIN loss: 0.349, VALIDATION loss: 0.278, accuraccy: 0.899\n",
      "Saving best model\n",
      "EPOCH 23:\n"
     ]
    },
    {
     "name": "stderr",
     "output_type": "stream",
     "text": [
      "100%|██████████| 657/657 [00:10<00:00, 64.04it/s]\n"
     ]
    },
    {
     "name": "stdout",
     "output_type": "stream",
     "text": [
      "TRAIN loss: 0.342, VALIDATION loss: 0.274, accuraccy: 0.900\n",
      "Saving best model\n",
      "EPOCH 24:\n"
     ]
    },
    {
     "name": "stderr",
     "output_type": "stream",
     "text": [
      "100%|██████████| 657/657 [00:10<00:00, 64.92it/s]\n"
     ]
    },
    {
     "name": "stdout",
     "output_type": "stream",
     "text": [
      "TRAIN loss: 0.340, VALIDATION loss: 0.274, accuraccy: 0.900\n",
      "Saving best model\n",
      "EPOCH 25:\n"
     ]
    },
    {
     "name": "stderr",
     "output_type": "stream",
     "text": [
      "100%|██████████| 657/657 [00:09<00:00, 67.98it/s]\n"
     ]
    },
    {
     "name": "stdout",
     "output_type": "stream",
     "text": [
      "TRAIN loss: 0.333, VALIDATION loss: 0.270, accuraccy: 0.900\n",
      "Saving best model\n",
      "EPOCH 26:\n"
     ]
    },
    {
     "name": "stderr",
     "output_type": "stream",
     "text": [
      "100%|██████████| 657/657 [00:09<00:00, 67.63it/s]\n"
     ]
    },
    {
     "name": "stdout",
     "output_type": "stream",
     "text": [
      "TRAIN loss: 0.334, VALIDATION loss: 0.270, accuraccy: 0.900\n",
      "Saving best model\n",
      "EPOCH 27:\n"
     ]
    },
    {
     "name": "stderr",
     "output_type": "stream",
     "text": [
      "100%|██████████| 657/657 [00:09<00:00, 66.43it/s]\n"
     ]
    },
    {
     "name": "stdout",
     "output_type": "stream",
     "text": [
      "TRAIN loss: 0.330, VALIDATION loss: 0.276, accuraccy: 0.898\n",
      "No improvement in this epoch.\n",
      "EPOCH 28:\n"
     ]
    },
    {
     "name": "stderr",
     "output_type": "stream",
     "text": [
      "100%|██████████| 657/657 [00:09<00:00, 66.67it/s]\n"
     ]
    },
    {
     "name": "stdout",
     "output_type": "stream",
     "text": [
      "TRAIN loss: 0.330, VALIDATION loss: 0.264, accuraccy: 0.905\n",
      "Saving best model\n",
      "EPOCH 29:\n"
     ]
    },
    {
     "name": "stderr",
     "output_type": "stream",
     "text": [
      "100%|██████████| 657/657 [00:09<00:00, 67.33it/s]\n"
     ]
    },
    {
     "name": "stdout",
     "output_type": "stream",
     "text": [
      "TRAIN loss: 0.321, VALIDATION loss: 0.283, accuraccy: 0.897\n",
      "No improvement in this epoch.\n",
      "EPOCH 30:\n"
     ]
    },
    {
     "name": "stderr",
     "output_type": "stream",
     "text": [
      "100%|██████████| 657/657 [00:11<00:00, 58.83it/s]\n"
     ]
    },
    {
     "name": "stdout",
     "output_type": "stream",
     "text": [
      "TRAIN loss: 0.323, VALIDATION loss: 0.277, accuraccy: 0.899\n",
      "No improvement in this epoch.\n",
      "EPOCH 31:\n"
     ]
    },
    {
     "name": "stderr",
     "output_type": "stream",
     "text": [
      "100%|██████████| 657/657 [00:10<00:00, 65.27it/s]\n"
     ]
    },
    {
     "name": "stdout",
     "output_type": "stream",
     "text": [
      "TRAIN loss: 0.315, VALIDATION loss: 0.278, accuraccy: 0.898\n",
      "No improvement in this epoch.\n",
      "EPOCH 32:\n"
     ]
    },
    {
     "name": "stderr",
     "output_type": "stream",
     "text": [
      "100%|██████████| 657/657 [00:09<00:00, 67.13it/s]\n"
     ]
    },
    {
     "name": "stdout",
     "output_type": "stream",
     "text": [
      "TRAIN loss: 0.317, VALIDATION loss: 0.264, accuraccy: 0.906\n",
      "No improvement in this epoch.\n",
      "EPOCH 33:\n"
     ]
    },
    {
     "name": "stderr",
     "output_type": "stream",
     "text": [
      "100%|██████████| 657/657 [00:09<00:00, 67.28it/s]\n"
     ]
    },
    {
     "name": "stdout",
     "output_type": "stream",
     "text": [
      "TRAIN loss: 0.314, VALIDATION loss: 0.274, accuraccy: 0.900\n",
      "No improvement in this epoch.\n",
      "EPOCH 34:\n"
     ]
    },
    {
     "name": "stderr",
     "output_type": "stream",
     "text": [
      "100%|██████████| 657/657 [00:09<00:00, 66.29it/s]\n"
     ]
    },
    {
     "name": "stdout",
     "output_type": "stream",
     "text": [
      "TRAIN loss: 0.316, VALIDATION loss: 0.257, accuraccy: 0.907\n",
      "Saving best model\n",
      "EPOCH 35:\n"
     ]
    },
    {
     "name": "stderr",
     "output_type": "stream",
     "text": [
      "100%|██████████| 657/657 [00:09<00:00, 67.40it/s]\n"
     ]
    },
    {
     "name": "stdout",
     "output_type": "stream",
     "text": [
      "TRAIN loss: 0.310, VALIDATION loss: 0.260, accuraccy: 0.905\n",
      "No improvement in this epoch.\n",
      "EPOCH 36:\n"
     ]
    },
    {
     "name": "stderr",
     "output_type": "stream",
     "text": [
      "100%|██████████| 657/657 [00:10<00:00, 63.96it/s]\n"
     ]
    },
    {
     "name": "stdout",
     "output_type": "stream",
     "text": [
      "TRAIN loss: 0.306, VALIDATION loss: 0.258, accuraccy: 0.904\n",
      "No improvement in this epoch.\n",
      "EPOCH 37:\n"
     ]
    },
    {
     "name": "stderr",
     "output_type": "stream",
     "text": [
      "100%|██████████| 657/657 [00:11<00:00, 58.58it/s]\n"
     ]
    },
    {
     "name": "stdout",
     "output_type": "stream",
     "text": [
      "TRAIN loss: 0.308, VALIDATION loss: 0.262, accuraccy: 0.903\n",
      "No improvement in this epoch.\n",
      "EPOCH 38:\n"
     ]
    },
    {
     "name": "stderr",
     "output_type": "stream",
     "text": [
      "100%|██████████| 657/657 [00:10<00:00, 64.94it/s]\n"
     ]
    },
    {
     "name": "stdout",
     "output_type": "stream",
     "text": [
      "TRAIN loss: 0.304, VALIDATION loss: 0.290, accuraccy: 0.893\n",
      "No improvement in this epoch.\n",
      "EPOCH 39:\n"
     ]
    },
    {
     "name": "stderr",
     "output_type": "stream",
     "text": [
      "100%|██████████| 657/657 [00:09<00:00, 67.19it/s]\n"
     ]
    },
    {
     "name": "stdout",
     "output_type": "stream",
     "text": [
      "TRAIN loss: 0.304, VALIDATION loss: 0.279, accuraccy: 0.898\n",
      "No improvement in this epoch.\n",
      "EPOCH 40:\n"
     ]
    },
    {
     "name": "stderr",
     "output_type": "stream",
     "text": [
      "100%|██████████| 657/657 [00:09<00:00, 66.27it/s]\n"
     ]
    },
    {
     "name": "stdout",
     "output_type": "stream",
     "text": [
      "TRAIN loss: 0.304, VALIDATION loss: 0.261, accuraccy: 0.906\n",
      "No improvement in this epoch.\n",
      "EPOCH 41:\n"
     ]
    },
    {
     "name": "stderr",
     "output_type": "stream",
     "text": [
      "100%|██████████| 657/657 [00:10<00:00, 65.20it/s]\n"
     ]
    },
    {
     "name": "stdout",
     "output_type": "stream",
     "text": [
      "TRAIN loss: 0.301, VALIDATION loss: 0.263, accuraccy: 0.905\n",
      "No improvement in this epoch.\n",
      "EPOCH 42:\n"
     ]
    },
    {
     "name": "stderr",
     "output_type": "stream",
     "text": [
      "100%|██████████| 657/657 [00:09<00:00, 66.42it/s]\n"
     ]
    },
    {
     "name": "stdout",
     "output_type": "stream",
     "text": [
      "TRAIN loss: 0.303, VALIDATION loss: 0.258, accuraccy: 0.906\n",
      "No improvement in this epoch.\n",
      "EPOCH 43:\n"
     ]
    },
    {
     "name": "stderr",
     "output_type": "stream",
     "text": [
      "100%|██████████| 657/657 [00:09<00:00, 66.75it/s]\n"
     ]
    },
    {
     "name": "stdout",
     "output_type": "stream",
     "text": [
      "TRAIN loss: 0.299, VALIDATION loss: 0.256, accuraccy: 0.907\n",
      "Saving best model\n",
      "EPOCH 44:\n"
     ]
    },
    {
     "name": "stderr",
     "output_type": "stream",
     "text": [
      "100%|██████████| 657/657 [00:09<00:00, 66.63it/s]\n"
     ]
    },
    {
     "name": "stdout",
     "output_type": "stream",
     "text": [
      "TRAIN loss: 0.297, VALIDATION loss: 0.263, accuraccy: 0.904\n",
      "No improvement in this epoch.\n",
      "EPOCH 45:\n"
     ]
    },
    {
     "name": "stderr",
     "output_type": "stream",
     "text": [
      "100%|██████████| 657/657 [00:09<00:00, 66.28it/s]\n"
     ]
    },
    {
     "name": "stdout",
     "output_type": "stream",
     "text": [
      "TRAIN loss: 0.299, VALIDATION loss: 0.263, accuraccy: 0.905\n",
      "No improvement in this epoch.\n",
      "EPOCH 46:\n"
     ]
    },
    {
     "name": "stderr",
     "output_type": "stream",
     "text": [
      "100%|██████████| 657/657 [00:10<00:00, 64.33it/s]\n"
     ]
    },
    {
     "name": "stdout",
     "output_type": "stream",
     "text": [
      "TRAIN loss: 0.293, VALIDATION loss: 0.252, accuraccy: 0.908\n",
      "Saving best model\n",
      "EPOCH 47:\n"
     ]
    },
    {
     "name": "stderr",
     "output_type": "stream",
     "text": [
      "100%|██████████| 657/657 [00:09<00:00, 66.10it/s]\n"
     ]
    },
    {
     "name": "stdout",
     "output_type": "stream",
     "text": [
      "TRAIN loss: 0.291, VALIDATION loss: 0.254, accuraccy: 0.909\n",
      "No improvement in this epoch.\n",
      "EPOCH 48:\n"
     ]
    },
    {
     "name": "stderr",
     "output_type": "stream",
     "text": [
      "100%|██████████| 657/657 [00:10<00:00, 65.63it/s]\n"
     ]
    },
    {
     "name": "stdout",
     "output_type": "stream",
     "text": [
      "TRAIN loss: 0.293, VALIDATION loss: 0.263, accuraccy: 0.903\n",
      "No improvement in this epoch.\n",
      "EPOCH 49:\n"
     ]
    },
    {
     "name": "stderr",
     "output_type": "stream",
     "text": [
      "100%|██████████| 657/657 [00:10<00:00, 63.90it/s]\n"
     ]
    },
    {
     "name": "stdout",
     "output_type": "stream",
     "text": [
      "TRAIN loss: 0.289, VALIDATION loss: 0.259, accuraccy: 0.907\n",
      "No improvement in this epoch.\n",
      "EPOCH 50:\n"
     ]
    },
    {
     "name": "stderr",
     "output_type": "stream",
     "text": [
      "100%|██████████| 657/657 [00:10<00:00, 64.99it/s]\n"
     ]
    },
    {
     "name": "stdout",
     "output_type": "stream",
     "text": [
      "TRAIN loss: 0.292, VALIDATION loss: 0.258, accuraccy: 0.908\n",
      "No improvement in this epoch.\n",
      "EPOCH 51:\n"
     ]
    },
    {
     "name": "stderr",
     "output_type": "stream",
     "text": [
      "100%|██████████| 657/657 [00:09<00:00, 66.29it/s]\n"
     ]
    },
    {
     "name": "stdout",
     "output_type": "stream",
     "text": [
      "TRAIN loss: 0.289, VALIDATION loss: 0.259, accuraccy: 0.906\n",
      "No improvement in this epoch.\n",
      "EPOCH 52:\n"
     ]
    },
    {
     "name": "stderr",
     "output_type": "stream",
     "text": [
      "100%|██████████| 657/657 [00:10<00:00, 63.47it/s]\n"
     ]
    },
    {
     "name": "stdout",
     "output_type": "stream",
     "text": [
      "TRAIN loss: 0.291, VALIDATION loss: 0.250, accuraccy: 0.907\n",
      "Saving best model\n",
      "EPOCH 53:\n"
     ]
    },
    {
     "name": "stderr",
     "output_type": "stream",
     "text": [
      "100%|██████████| 657/657 [00:09<00:00, 66.61it/s]\n"
     ]
    },
    {
     "name": "stdout",
     "output_type": "stream",
     "text": [
      "TRAIN loss: 0.287, VALIDATION loss: 0.271, accuraccy: 0.902\n",
      "No improvement in this epoch.\n",
      "EPOCH 54:\n"
     ]
    },
    {
     "name": "stderr",
     "output_type": "stream",
     "text": [
      "100%|██████████| 657/657 [00:09<00:00, 66.42it/s]\n"
     ]
    },
    {
     "name": "stdout",
     "output_type": "stream",
     "text": [
      "TRAIN loss: 0.291, VALIDATION loss: 0.253, accuraccy: 0.905\n",
      "No improvement in this epoch.\n",
      "EPOCH 55:\n"
     ]
    },
    {
     "name": "stderr",
     "output_type": "stream",
     "text": [
      "100%|██████████| 657/657 [00:09<00:00, 67.29it/s]\n"
     ]
    },
    {
     "name": "stdout",
     "output_type": "stream",
     "text": [
      "TRAIN loss: 0.286, VALIDATION loss: 0.250, accuraccy: 0.910\n",
      "No improvement in this epoch.\n",
      "EPOCH 56:\n"
     ]
    },
    {
     "name": "stderr",
     "output_type": "stream",
     "text": [
      "100%|██████████| 657/657 [00:09<00:00, 66.36it/s]\n"
     ]
    },
    {
     "name": "stdout",
     "output_type": "stream",
     "text": [
      "TRAIN loss: 0.290, VALIDATION loss: 0.253, accuraccy: 0.907\n",
      "No improvement in this epoch.\n",
      "EPOCH 57:\n"
     ]
    },
    {
     "name": "stderr",
     "output_type": "stream",
     "text": [
      "100%|██████████| 657/657 [00:10<00:00, 63.88it/s]\n"
     ]
    },
    {
     "name": "stdout",
     "output_type": "stream",
     "text": [
      "TRAIN loss: 0.289, VALIDATION loss: 0.253, accuraccy: 0.907\n",
      "No improvement in this epoch.\n",
      "EPOCH 58:\n"
     ]
    },
    {
     "name": "stderr",
     "output_type": "stream",
     "text": [
      "100%|██████████| 657/657 [00:11<00:00, 54.95it/s]\n"
     ]
    },
    {
     "name": "stdout",
     "output_type": "stream",
     "text": [
      "TRAIN loss: 0.282, VALIDATION loss: 0.253, accuraccy: 0.908\n",
      "No improvement in this epoch.\n",
      "EPOCH 59:\n"
     ]
    },
    {
     "name": "stderr",
     "output_type": "stream",
     "text": [
      "100%|██████████| 657/657 [00:10<00:00, 61.54it/s]\n"
     ]
    },
    {
     "name": "stdout",
     "output_type": "stream",
     "text": [
      "TRAIN loss: 0.285, VALIDATION loss: 0.255, accuraccy: 0.905\n",
      "No improvement in this epoch.\n",
      "EPOCH 60:\n"
     ]
    },
    {
     "name": "stderr",
     "output_type": "stream",
     "text": [
      "100%|██████████| 657/657 [00:10<00:00, 64.94it/s]\n"
     ]
    },
    {
     "name": "stdout",
     "output_type": "stream",
     "text": [
      "TRAIN loss: 0.286, VALIDATION loss: 0.257, accuraccy: 0.905\n",
      "No improvement in this epoch.\n",
      "EPOCH 61:\n"
     ]
    },
    {
     "name": "stderr",
     "output_type": "stream",
     "text": [
      "100%|██████████| 657/657 [00:09<00:00, 65.85it/s]\n"
     ]
    },
    {
     "name": "stdout",
     "output_type": "stream",
     "text": [
      "TRAIN loss: 0.280, VALIDATION loss: 0.262, accuraccy: 0.905\n",
      "No improvement in this epoch.\n",
      "EPOCH 62:\n"
     ]
    },
    {
     "name": "stderr",
     "output_type": "stream",
     "text": [
      "100%|██████████| 657/657 [00:09<00:00, 67.06it/s]\n"
     ]
    },
    {
     "name": "stdout",
     "output_type": "stream",
     "text": [
      "TRAIN loss: 0.284, VALIDATION loss: 0.252, accuraccy: 0.907\n",
      "No improvement in this epoch.\n",
      "EPOCH 63:\n"
     ]
    },
    {
     "name": "stderr",
     "output_type": "stream",
     "text": [
      "100%|██████████| 657/657 [00:09<00:00, 67.80it/s]\n"
     ]
    },
    {
     "name": "stdout",
     "output_type": "stream",
     "text": [
      "TRAIN loss: 0.278, VALIDATION loss: 0.264, accuraccy: 0.901\n",
      "No improvement in this epoch.\n",
      "EPOCH 64:\n"
     ]
    },
    {
     "name": "stderr",
     "output_type": "stream",
     "text": [
      "100%|██████████| 657/657 [00:09<00:00, 66.19it/s]\n"
     ]
    },
    {
     "name": "stdout",
     "output_type": "stream",
     "text": [
      "TRAIN loss: 0.283, VALIDATION loss: 0.273, accuraccy: 0.900\n",
      "No improvement in this epoch.\n",
      "EPOCH 65:\n"
     ]
    },
    {
     "name": "stderr",
     "output_type": "stream",
     "text": [
      "100%|██████████| 657/657 [00:09<00:00, 67.01it/s]\n"
     ]
    },
    {
     "name": "stdout",
     "output_type": "stream",
     "text": [
      "TRAIN loss: 0.281, VALIDATION loss: 0.259, accuraccy: 0.908\n",
      "No improvement in this epoch.\n",
      "EPOCH 66:\n"
     ]
    },
    {
     "name": "stderr",
     "output_type": "stream",
     "text": [
      "100%|██████████| 657/657 [00:09<00:00, 67.27it/s]\n"
     ]
    },
    {
     "name": "stdout",
     "output_type": "stream",
     "text": [
      "TRAIN loss: 0.283, VALIDATION loss: 0.258, accuraccy: 0.906\n",
      "No improvement in this epoch.\n",
      "EPOCH 67:\n"
     ]
    },
    {
     "name": "stderr",
     "output_type": "stream",
     "text": [
      "100%|██████████| 657/657 [00:09<00:00, 66.62it/s]\n"
     ]
    },
    {
     "name": "stdout",
     "output_type": "stream",
     "text": [
      "TRAIN loss: 0.282, VALIDATION loss: 0.247, accuraccy: 0.912\n",
      "Saving best model\n",
      "EPOCH 68:\n"
     ]
    },
    {
     "name": "stderr",
     "output_type": "stream",
     "text": [
      "100%|██████████| 657/657 [00:09<00:00, 67.41it/s]\n"
     ]
    },
    {
     "name": "stdout",
     "output_type": "stream",
     "text": [
      "TRAIN loss: 0.279, VALIDATION loss: 0.258, accuraccy: 0.907\n",
      "No improvement in this epoch.\n",
      "EPOCH 69:\n"
     ]
    },
    {
     "name": "stderr",
     "output_type": "stream",
     "text": [
      "100%|██████████| 657/657 [00:10<00:00, 64.50it/s]\n"
     ]
    },
    {
     "name": "stdout",
     "output_type": "stream",
     "text": [
      "TRAIN loss: 0.278, VALIDATION loss: 0.262, accuraccy: 0.906\n",
      "No improvement in this epoch.\n",
      "EPOCH 70:\n"
     ]
    },
    {
     "name": "stderr",
     "output_type": "stream",
     "text": [
      "100%|██████████| 657/657 [00:10<00:00, 62.00it/s]\n"
     ]
    },
    {
     "name": "stdout",
     "output_type": "stream",
     "text": [
      "TRAIN loss: 0.283, VALIDATION loss: 0.253, accuraccy: 0.909\n",
      "No improvement in this epoch.\n",
      "EPOCH 71:\n"
     ]
    },
    {
     "name": "stderr",
     "output_type": "stream",
     "text": [
      "100%|██████████| 657/657 [00:10<00:00, 61.78it/s]\n"
     ]
    },
    {
     "name": "stdout",
     "output_type": "stream",
     "text": [
      "TRAIN loss: 0.278, VALIDATION loss: 0.256, accuraccy: 0.907\n",
      "No improvement in this epoch.\n",
      "EPOCH 72:\n"
     ]
    },
    {
     "name": "stderr",
     "output_type": "stream",
     "text": [
      "100%|██████████| 657/657 [00:10<00:00, 63.47it/s]\n"
     ]
    },
    {
     "name": "stdout",
     "output_type": "stream",
     "text": [
      "TRAIN loss: 0.277, VALIDATION loss: 0.254, accuraccy: 0.908\n",
      "No improvement in this epoch.\n",
      "EPOCH 73:\n"
     ]
    },
    {
     "name": "stderr",
     "output_type": "stream",
     "text": [
      "100%|██████████| 657/657 [00:09<00:00, 67.07it/s]\n"
     ]
    },
    {
     "name": "stdout",
     "output_type": "stream",
     "text": [
      "TRAIN loss: 0.276, VALIDATION loss: 0.252, accuraccy: 0.908\n",
      "No improvement in this epoch.\n",
      "EPOCH 74:\n"
     ]
    },
    {
     "name": "stderr",
     "output_type": "stream",
     "text": [
      "100%|██████████| 657/657 [00:10<00:00, 60.79it/s]\n"
     ]
    },
    {
     "name": "stdout",
     "output_type": "stream",
     "text": [
      "TRAIN loss: 0.277, VALIDATION loss: 0.270, accuraccy: 0.899\n",
      "No improvement in this epoch.\n",
      "EPOCH 75:\n"
     ]
    },
    {
     "name": "stderr",
     "output_type": "stream",
     "text": [
      "100%|██████████| 657/657 [00:10<00:00, 64.69it/s]\n"
     ]
    },
    {
     "name": "stdout",
     "output_type": "stream",
     "text": [
      "TRAIN loss: 0.279, VALIDATION loss: 0.255, accuraccy: 0.908\n",
      "No improvement in this epoch.\n",
      "EPOCH 76:\n"
     ]
    },
    {
     "name": "stderr",
     "output_type": "stream",
     "text": [
      "100%|██████████| 657/657 [00:09<00:00, 65.83it/s]\n"
     ]
    },
    {
     "name": "stdout",
     "output_type": "stream",
     "text": [
      "TRAIN loss: 0.280, VALIDATION loss: 0.246, accuraccy: 0.909\n",
      "Saving best model\n",
      "EPOCH 77:\n"
     ]
    },
    {
     "name": "stderr",
     "output_type": "stream",
     "text": [
      "100%|██████████| 657/657 [00:09<00:00, 66.86it/s]\n"
     ]
    },
    {
     "name": "stdout",
     "output_type": "stream",
     "text": [
      "TRAIN loss: 0.277, VALIDATION loss: 0.255, accuraccy: 0.907\n",
      "No improvement in this epoch.\n",
      "EPOCH 78:\n"
     ]
    },
    {
     "name": "stderr",
     "output_type": "stream",
     "text": [
      "100%|██████████| 657/657 [00:09<00:00, 67.01it/s]\n"
     ]
    },
    {
     "name": "stdout",
     "output_type": "stream",
     "text": [
      "TRAIN loss: 0.273, VALIDATION loss: 0.261, accuraccy: 0.904\n",
      "No improvement in this epoch.\n",
      "EPOCH 79:\n"
     ]
    },
    {
     "name": "stderr",
     "output_type": "stream",
     "text": [
      "100%|██████████| 657/657 [00:10<00:00, 64.95it/s]\n"
     ]
    },
    {
     "name": "stdout",
     "output_type": "stream",
     "text": [
      "TRAIN loss: 0.270, VALIDATION loss: 0.257, accuraccy: 0.908\n",
      "No improvement in this epoch.\n",
      "EPOCH 80:\n"
     ]
    },
    {
     "name": "stderr",
     "output_type": "stream",
     "text": [
      "100%|██████████| 657/657 [00:10<00:00, 65.00it/s]\n"
     ]
    },
    {
     "name": "stdout",
     "output_type": "stream",
     "text": [
      "TRAIN loss: 0.276, VALIDATION loss: 0.255, accuraccy: 0.907\n",
      "No improvement in this epoch.\n",
      "EPOCH 81:\n"
     ]
    },
    {
     "name": "stderr",
     "output_type": "stream",
     "text": [
      "100%|██████████| 657/657 [00:10<00:00, 64.96it/s]\n"
     ]
    },
    {
     "name": "stdout",
     "output_type": "stream",
     "text": [
      "TRAIN loss: 0.277, VALIDATION loss: 0.258, accuraccy: 0.908\n",
      "No improvement in this epoch.\n",
      "EPOCH 82:\n"
     ]
    },
    {
     "name": "stderr",
     "output_type": "stream",
     "text": [
      "100%|██████████| 657/657 [00:10<00:00, 62.04it/s]\n"
     ]
    },
    {
     "name": "stdout",
     "output_type": "stream",
     "text": [
      "TRAIN loss: 0.274, VALIDATION loss: 0.255, accuraccy: 0.911\n",
      "No improvement in this epoch.\n",
      "EPOCH 83:\n"
     ]
    },
    {
     "name": "stderr",
     "output_type": "stream",
     "text": [
      "100%|██████████| 657/657 [00:10<00:00, 62.29it/s]\n"
     ]
    },
    {
     "name": "stdout",
     "output_type": "stream",
     "text": [
      "TRAIN loss: 0.272, VALIDATION loss: 0.259, accuraccy: 0.908\n",
      "No improvement in this epoch.\n",
      "EPOCH 84:\n"
     ]
    },
    {
     "name": "stderr",
     "output_type": "stream",
     "text": [
      "100%|██████████| 657/657 [00:10<00:00, 64.95it/s]\n"
     ]
    },
    {
     "name": "stdout",
     "output_type": "stream",
     "text": [
      "TRAIN loss: 0.272, VALIDATION loss: 0.261, accuraccy: 0.908\n",
      "No improvement in this epoch.\n",
      "EPOCH 85:\n"
     ]
    },
    {
     "name": "stderr",
     "output_type": "stream",
     "text": [
      "100%|██████████| 657/657 [00:10<00:00, 64.89it/s]\n"
     ]
    },
    {
     "name": "stdout",
     "output_type": "stream",
     "text": [
      "TRAIN loss: 0.275, VALIDATION loss: 0.252, accuraccy: 0.906\n",
      "No improvement in this epoch.\n",
      "EPOCH 86:\n"
     ]
    },
    {
     "name": "stderr",
     "output_type": "stream",
     "text": [
      "100%|██████████| 657/657 [00:10<00:00, 63.53it/s]\n"
     ]
    },
    {
     "name": "stdout",
     "output_type": "stream",
     "text": [
      "TRAIN loss: 0.271, VALIDATION loss: 0.249, accuraccy: 0.908\n",
      "No improvement in this epoch.\n",
      "EPOCH 87:\n"
     ]
    },
    {
     "name": "stderr",
     "output_type": "stream",
     "text": [
      "100%|██████████| 657/657 [00:09<00:00, 66.95it/s]\n"
     ]
    },
    {
     "name": "stdout",
     "output_type": "stream",
     "text": [
      "TRAIN loss: 0.273, VALIDATION loss: 0.245, accuraccy: 0.912\n",
      "Saving best model\n",
      "EPOCH 88:\n"
     ]
    },
    {
     "name": "stderr",
     "output_type": "stream",
     "text": [
      "100%|██████████| 657/657 [00:09<00:00, 66.31it/s]\n"
     ]
    },
    {
     "name": "stdout",
     "output_type": "stream",
     "text": [
      "TRAIN loss: 0.272, VALIDATION loss: 0.254, accuraccy: 0.907\n",
      "No improvement in this epoch.\n",
      "EPOCH 89:\n"
     ]
    },
    {
     "name": "stderr",
     "output_type": "stream",
     "text": [
      "100%|██████████| 657/657 [00:09<00:00, 67.05it/s]\n"
     ]
    },
    {
     "name": "stdout",
     "output_type": "stream",
     "text": [
      "TRAIN loss: 0.271, VALIDATION loss: 0.248, accuraccy: 0.912\n",
      "No improvement in this epoch.\n",
      "EPOCH 90:\n"
     ]
    },
    {
     "name": "stderr",
     "output_type": "stream",
     "text": [
      "100%|██████████| 657/657 [00:09<00:00, 66.66it/s]\n"
     ]
    },
    {
     "name": "stdout",
     "output_type": "stream",
     "text": [
      "TRAIN loss: 0.271, VALIDATION loss: 0.273, accuraccy: 0.902\n",
      "No improvement in this epoch.\n",
      "EPOCH 91:\n"
     ]
    },
    {
     "name": "stderr",
     "output_type": "stream",
     "text": [
      "100%|██████████| 657/657 [00:10<00:00, 65.55it/s]\n"
     ]
    },
    {
     "name": "stdout",
     "output_type": "stream",
     "text": [
      "TRAIN loss: 0.270, VALIDATION loss: 0.245, accuraccy: 0.909\n",
      "No improvement in this epoch.\n",
      "EPOCH 92:\n"
     ]
    },
    {
     "name": "stderr",
     "output_type": "stream",
     "text": [
      "100%|██████████| 657/657 [00:10<00:00, 64.44it/s]\n"
     ]
    },
    {
     "name": "stdout",
     "output_type": "stream",
     "text": [
      "TRAIN loss: 0.271, VALIDATION loss: 0.249, accuraccy: 0.910\n",
      "No improvement in this epoch.\n",
      "EPOCH 93:\n"
     ]
    },
    {
     "name": "stderr",
     "output_type": "stream",
     "text": [
      "100%|██████████| 657/657 [00:10<00:00, 64.17it/s]\n"
     ]
    },
    {
     "name": "stdout",
     "output_type": "stream",
     "text": [
      "TRAIN loss: 0.277, VALIDATION loss: 0.261, accuraccy: 0.906\n",
      "No improvement in this epoch.\n",
      "EPOCH 94:\n"
     ]
    },
    {
     "name": "stderr",
     "output_type": "stream",
     "text": [
      "100%|██████████| 657/657 [00:10<00:00, 64.81it/s]\n"
     ]
    },
    {
     "name": "stdout",
     "output_type": "stream",
     "text": [
      "TRAIN loss: 0.271, VALIDATION loss: 0.266, accuraccy: 0.903\n",
      "No improvement in this epoch.\n",
      "EPOCH 95:\n"
     ]
    },
    {
     "name": "stderr",
     "output_type": "stream",
     "text": [
      "100%|██████████| 657/657 [00:10<00:00, 64.51it/s]\n"
     ]
    },
    {
     "name": "stdout",
     "output_type": "stream",
     "text": [
      "TRAIN loss: 0.267, VALIDATION loss: 0.245, accuraccy: 0.910\n",
      "No improvement in this epoch.\n",
      "EPOCH 96:\n"
     ]
    },
    {
     "name": "stderr",
     "output_type": "stream",
     "text": [
      "100%|██████████| 657/657 [00:09<00:00, 66.51it/s]\n"
     ]
    },
    {
     "name": "stdout",
     "output_type": "stream",
     "text": [
      "TRAIN loss: 0.268, VALIDATION loss: 0.249, accuraccy: 0.909\n",
      "No improvement in this epoch.\n",
      "EPOCH 97:\n"
     ]
    },
    {
     "name": "stderr",
     "output_type": "stream",
     "text": [
      "100%|██████████| 657/657 [00:09<00:00, 66.87it/s]\n"
     ]
    },
    {
     "name": "stdout",
     "output_type": "stream",
     "text": [
      "TRAIN loss: 0.270, VALIDATION loss: 0.253, accuraccy: 0.907\n",
      "No improvement in this epoch.\n",
      "EPOCH 98:\n"
     ]
    },
    {
     "name": "stderr",
     "output_type": "stream",
     "text": [
      "100%|██████████| 657/657 [00:10<00:00, 64.62it/s]\n"
     ]
    },
    {
     "name": "stdout",
     "output_type": "stream",
     "text": [
      "TRAIN loss: 0.267, VALIDATION loss: 0.248, accuraccy: 0.909\n",
      "No improvement in this epoch.\n",
      "EPOCH 99:\n"
     ]
    },
    {
     "name": "stderr",
     "output_type": "stream",
     "text": [
      "100%|██████████| 657/657 [00:09<00:00, 66.22it/s]\n"
     ]
    },
    {
     "name": "stdout",
     "output_type": "stream",
     "text": [
      "TRAIN loss: 0.267, VALIDATION loss: 0.256, accuraccy: 0.909\n",
      "No improvement in this epoch.\n",
      "EPOCH 100:\n"
     ]
    },
    {
     "name": "stderr",
     "output_type": "stream",
     "text": [
      "100%|██████████| 657/657 [00:09<00:00, 66.24it/s]\n"
     ]
    },
    {
     "name": "stdout",
     "output_type": "stream",
     "text": [
      "TRAIN loss: 0.264, VALIDATION loss: 0.248, accuraccy: 0.909\n",
      "No improvement in this epoch.\n"
     ]
    }
   ],
   "source": [
    "tr_best_loss, val_best_loss = train_n_epochsCNN(best_model, loss_fn, optimizer, train_best_loader, val_best_loader, \"savesCNN/best.pt\")"
   ],
   "metadata": {
    "collapsed": false,
    "ExecuteTime": {
     "start_time": "2024-05-11T14:07:55.909808Z",
     "end_time": "2024-05-11T14:25:36.718257Z"
    }
   }
  },
  {
   "cell_type": "markdown",
   "source": [
    "# Results"
   ],
   "metadata": {
    "collapsed": false
   }
  },
  {
   "cell_type": "code",
   "execution_count": 17,
   "outputs": [],
   "source": [
    "to_eval = pd.read_csv('evaluate.csv')"
   ],
   "metadata": {
    "collapsed": false,
    "ExecuteTime": {
     "start_time": "2024-05-12T01:14:54.416892Z",
     "end_time": "2024-05-12T01:14:55.668203Z"
    }
   }
  },
  {
   "cell_type": "code",
   "execution_count": 18,
   "outputs": [],
   "source": [
    "Xeval = to_eval.drop(columns=['ID'], errors='ignore')"
   ],
   "metadata": {
    "collapsed": false,
    "ExecuteTime": {
     "start_time": "2024-05-12T01:14:56.563381Z",
     "end_time": "2024-05-12T01:14:56.615708Z"
    }
   }
  },
  {
   "cell_type": "code",
   "execution_count": 19,
   "outputs": [],
   "source": [
    "Xeval = Xeval.values # numpy array\n",
    "Xeval = Xeval / 255.0"
   ],
   "metadata": {
    "collapsed": false,
    "ExecuteTime": {
     "start_time": "2024-05-12T01:15:17.471703Z",
     "end_time": "2024-05-12T01:15:17.630952Z"
    }
   }
  },
  {
   "cell_type": "code",
   "execution_count": 20,
   "outputs": [],
   "source": [
    "class EvaluationDataset(Dataset):\n",
    "    \"\"\"Dataset for evaluating a model on new unlabelled data.\"\"\"\n",
    "    def __init__(self, dataframe, transform=None):\n",
    "        self.dataframe = dataframe\n",
    "        self.transform = transform\n",
    "\n",
    "    def __len__(self):\n",
    "        # Returns the total number of samples in the data\n",
    "        return len(self.dataframe)\n",
    "\n",
    "    def __getitem__(self, idx):\n",
    "        x = self.dataframe[idx]\n",
    "\n",
    "        x = x.reshape(1, 32, 32)\n",
    "\n",
    "        if self.transform:\n",
    "            x = self.transform(x)\n",
    "\n",
    "        return x"
   ],
   "metadata": {
    "collapsed": false,
    "ExecuteTime": {
     "start_time": "2024-05-12T01:15:18.045932Z",
     "end_time": "2024-05-12T01:15:18.098226Z"
    }
   }
  },
  {
   "cell_type": "code",
   "execution_count": 21,
   "outputs": [],
   "source": [
    "eval_dataset = EvaluationDataset(Xeval)\n",
    "eval_loader = DataLoader(eval_dataset, batch_size=64, shuffle=False)"
   ],
   "metadata": {
    "collapsed": false,
    "ExecuteTime": {
     "start_time": "2024-05-12T01:15:18.654247Z",
     "end_time": "2024-05-12T01:15:18.684858Z"
    }
   }
  },
  {
   "cell_type": "code",
   "execution_count": 22,
   "outputs": [
    {
     "ename": "NameError",
     "evalue": "name 'best_model' is not defined",
     "output_type": "error",
     "traceback": [
      "\u001B[0;31m---------------------------------------------------------------------------\u001B[0m",
      "\u001B[0;31mNameError\u001B[0m                                 Traceback (most recent call last)",
      "Cell \u001B[0;32mIn[22], line 1\u001B[0m\n\u001B[0;32m----> 1\u001B[0m \u001B[43mbest_model\u001B[49m\u001B[38;5;241m.\u001B[39mload_state_dict(torch\u001B[38;5;241m.\u001B[39mload(\u001B[38;5;124m'\u001B[39m\u001B[38;5;124msavesCNN/best.pt\u001B[39m\u001B[38;5;124m'\u001B[39m))\n\u001B[1;32m      2\u001B[0m best_model\u001B[38;5;241m.\u001B[39meval()\n",
      "\u001B[0;31mNameError\u001B[0m: name 'best_model' is not defined"
     ]
    }
   ],
   "source": [
    "best_model.load_state_dict(torch.load('savesCNN/best.pt'))\n",
    "best_model.eval()"
   ],
   "metadata": {
    "collapsed": false,
    "ExecuteTime": {
     "start_time": "2024-05-11T15:33:19.100816Z",
     "end_time": "2024-05-11T15:33:19.178762Z"
    }
   }
  },
  {
   "cell_type": "code",
   "execution_count": 150,
   "outputs": [],
   "source": [
    "predictions = []\n",
    "for data in iter(eval_loader):\n",
    "    inputs = data\n",
    "    inputs = inputs.to(device)\n",
    "    inputs = inputs.float()\n",
    "    with torch.no_grad():\n",
    "        outputs = best_model(inputs)\n",
    "        _, predicted = torch.max(outputs, 1)\n",
    "        predictions.extend(predicted.cpu().numpy())"
   ],
   "metadata": {
    "collapsed": false,
    "ExecuteTime": {
     "start_time": "2024-05-11T15:35:03.960351Z",
     "end_time": "2024-05-11T15:35:05.699989Z"
    }
   }
  },
  {
   "cell_type": "code",
   "execution_count": 152,
   "outputs": [],
   "source": [
    "# Saving results\n",
    "results = pd.DataFrame({\n",
    "    'ID': to_eval['ID'],\n",
    "    'label': predictions\n",
    "})\n",
    "results.to_csv('results.csv', index=False)"
   ],
   "metadata": {
    "collapsed": false,
    "ExecuteTime": {
     "start_time": "2024-05-11T15:35:53.672818Z",
     "end_time": "2024-05-11T15:35:53.740739Z"
    }
   }
  },
  {
   "cell_type": "code",
   "execution_count": 23,
   "outputs": [],
   "source": [
    "res_file = pd.read_csv('results.csv')"
   ],
   "metadata": {
    "collapsed": false,
    "ExecuteTime": {
     "start_time": "2024-05-12T01:16:22.445754Z",
     "end_time": "2024-05-12T01:16:22.502130Z"
    }
   }
  },
  {
   "cell_type": "code",
   "execution_count": 24,
   "outputs": [
    {
     "data": {
      "text/plain": "label\n2    1898\n1    1797\n3    1797\n7    1776\n0    1752\n8    1726\n9    1717\n4    1703\n5    1675\n6    1659\nName: count, dtype: int64"
     },
     "execution_count": 24,
     "metadata": {},
     "output_type": "execute_result"
    }
   ],
   "source": [
    "res_file['label'].value_counts()"
   ],
   "metadata": {
    "collapsed": false,
    "ExecuteTime": {
     "start_time": "2024-05-12T01:16:23.969615Z",
     "end_time": "2024-05-12T01:16:23.984224Z"
    }
   }
  },
  {
   "cell_type": "code",
   "execution_count": 25,
   "outputs": [
    {
     "ename": "NameError",
     "evalue": "name 'predictions' is not defined",
     "output_type": "error",
     "traceback": [
      "\u001B[0;31m---------------------------------------------------------------------------\u001B[0m",
      "\u001B[0;31mNameError\u001B[0m                                 Traceback (most recent call last)",
      "Cell \u001B[0;32mIn[25], line 6\u001B[0m\n\u001B[1;32m      4\u001B[0m \u001B[38;5;28;01mfor\u001B[39;00m i \u001B[38;5;129;01min\u001B[39;00m \u001B[38;5;28mrange\u001B[39m (cols \u001B[38;5;241m*\u001B[39m rows):\n\u001B[1;32m      5\u001B[0m     img \u001B[38;5;241m=\u001B[39m Xeval[i]\u001B[38;5;241m.\u001B[39mreshape(\u001B[38;5;241m32\u001B[39m, \u001B[38;5;241m32\u001B[39m)  \u001B[38;5;66;03m# row into 32x32 image\u001B[39;00m\n\u001B[0;32m----> 6\u001B[0m     label \u001B[38;5;241m=\u001B[39m \u001B[43mpredictions\u001B[49m[i]\n\u001B[1;32m      7\u001B[0m     figure\u001B[38;5;241m.\u001B[39madd_subplot(rows, cols, i\u001B[38;5;241m+\u001B[39m\u001B[38;5;241m1\u001B[39m)\n\u001B[1;32m      8\u001B[0m     plt\u001B[38;5;241m.\u001B[39mtitle(\u001B[38;5;124mf\u001B[39m\u001B[38;5;124m\"\u001B[39m\u001B[38;5;124mPredicted label:\u001B[39m\u001B[38;5;132;01m{\u001B[39;00mlabel\u001B[38;5;132;01m}\u001B[39;00m\u001B[38;5;124m\"\u001B[39m)\n",
      "\u001B[0;31mNameError\u001B[0m: name 'predictions' is not defined"
     ]
    },
    {
     "data": {
      "text/plain": "<Figure size 2000x2000 with 0 Axes>"
     },
     "metadata": {},
     "output_type": "display_data"
    }
   ],
   "source": [
    "# Let's have a look\n",
    "figure = plt.figure(figsize=(20, 20))\n",
    "cols, rows = 6, 6\n",
    "for i in range (cols * rows):\n",
    "    img = Xeval[i].reshape(32, 32)  # row into 32x32 image\n",
    "    label = predictions[i]\n",
    "    figure.add_subplot(rows, cols, i+1)\n",
    "    plt.title(f\"Predicted label:{label}\")\n",
    "    plt.axis(\"off\")\n",
    "    plt.imshow(img, cmap=\"gray\")\n",
    "plt.show()"
   ],
   "metadata": {
    "collapsed": false,
    "ExecuteTime": {
     "start_time": "2024-05-11T15:44:11.280763Z",
     "end_time": "2024-05-11T15:44:12.245727Z"
    }
   }
  },
  {
   "cell_type": "markdown",
   "source": [
    "- The fourth picture is quite interesting because it strongly reminds me of a human silhouette. Also, it seems to me that there are a few categorisation errors, for example the first picture is predicted as 4 ( coat according to kaggle ) but it looks more like a pullover ( label 2 ). But I hope the overall accuracy will be in line with expectations."
   ],
   "metadata": {
    "collapsed": false
   }
  }
 ],
 "metadata": {
  "kernelspec": {
   "display_name": "Python 3 (ipykernel)",
   "language": "python",
   "name": "python3"
  },
  "language_info": {
   "codemirror_mode": {
    "name": "ipython",
    "version": 3
   },
   "file_extension": ".py",
   "mimetype": "text/x-python",
   "name": "python",
   "nbconvert_exporter": "python",
   "pygments_lexer": "ipython3",
   "version": "3.10.11"
  }
 },
 "nbformat": 4,
 "nbformat_minor": 4
}
